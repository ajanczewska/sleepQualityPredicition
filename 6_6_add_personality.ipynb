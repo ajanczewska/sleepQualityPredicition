{
 "cells": [
  {
   "cell_type": "code",
   "execution_count": null,
   "id": "58cf65e2-b28a-46b3-ab32-7c373e0f41e8",
   "metadata": {},
   "outputs": [],
   "source": [
    "import pandas as pd"
   ]
  },
  {
   "cell_type": "code",
   "execution_count": null,
   "id": "eaab9eae-9a83-48a9-944e-b0793b95fd04",
   "metadata": {},
   "outputs": [],
   "source": [
    "path_to_folder = 'D:/DATA_THESIS/Projekt_nw_AG_AJ/Outputs_project_data_preprocessing'\n"
   ]
  },
  {
   "cell_type": "code",
   "execution_count": null,
   "id": "67c33a8c-11c7-49b4-aa45-1b88b91be48e",
   "metadata": {},
   "outputs": [],
   "source": [
    "dataset = pd.read_pickle(f'{path_to_folder}/6_emotions_aggregates/m_e_emo_pre_loc_sleepSegments_steps_replaced_nan.pkl')"
   ]
  },
  {
   "cell_type": "code",
   "execution_count": null,
   "id": "44430437-f1ea-4d2a-a503-75a79c99d02c",
   "metadata": {},
   "outputs": [],
   "source": [
    "dataset"
   ]
  },
  {
   "cell_type": "markdown",
   "id": "ac7dfad4-1e33-43b6-ae6e-75b34f40dfb2",
   "metadata": {},
   "source": [
    "##  Read personalities"
   ]
  },
  {
   "cell_type": "code",
   "execution_count": null,
   "id": "71a5b9eb-3b1c-40fd-9d27-dc100d3590ce",
   "metadata": {},
   "outputs": [],
   "source": [
    "personality = pd.read_csv('ipip_bfm_20.csv')"
   ]
  },
  {
   "cell_type": "code",
   "execution_count": null,
   "id": "7fa699eb-fb10-42bd-bed0-8f0998f98658",
   "metadata": {
    "scrolled": true
   },
   "outputs": [],
   "source": [
    "personality"
   ]
  },
  {
   "cell_type": "markdown",
   "id": "8b27cbad-6f01-4607-aa6b-63ea2ff7d592",
   "metadata": {},
   "source": [
    "## Odwrócenie wartości przy pytaniach introwertycznych "
   ]
  },
  {
   "cell_type": "code",
   "execution_count": null,
   "id": "3fdb21df-c04c-41ad-8d75-4567d37074db",
   "metadata": {},
   "outputs": [],
   "source": [
    "personality.columns"
   ]
  },
  {
   "cell_type": "code",
   "execution_count": null,
   "id": "50716852-79b0-472d-94ce-eab2e8aeafbe",
   "metadata": {},
   "outputs": [],
   "source": [
    "personality['2. Niezbyt obchodzą mnie inni ludzie.'].max()"
   ]
  },
  {
   "cell_type": "code",
   "execution_count": null,
   "id": "710c5337-3a56-4277-b7cd-62af12396d92",
   "metadata": {},
   "outputs": [],
   "source": [
    "# reverse values\n",
    "for column in ['2. Niezbyt obchodzą mnie inni ludzie.',\n",
    "               '3. Zostawiam moje rzeczy gdzie popadnie.',\n",
    "'6. Trzymam się z boku.',\n",
    "               '9. Często martwię się czymś.',\n",
    "    '10. Mam trudności ze zrozumieniem abstrakcyjnych pojęć.',\n",
    "       '12. Nie interesują mnie problemy innych ludzi.', \n",
    "       '13. Często zapominam odkładać rzeczy na miejsce.',\n",
    "       '16. Wśród nieznajomych jestem małomówny/a.',\n",
    "        '19. Często miewam huśtawki nastrojów.',\n",
    "        '20. Nie mam zbyt bogatej wyobraźni.'       \n",
    "]:\n",
    "    personality[column] = personality[column].max() - personality[column]\n"
   ]
  },
  {
   "cell_type": "code",
   "execution_count": null,
   "id": "00f4b949-0082-4a81-be8c-6314b4cd28db",
   "metadata": {},
   "outputs": [],
   "source": [
    "personality"
   ]
  },
  {
   "cell_type": "code",
   "execution_count": null,
   "id": "53897f9e-3caa-4f0d-8029-ebacfe3c5268",
   "metadata": {},
   "outputs": [],
   "source": [
    "# Sum personality\n",
    "\n",
    "personality['personality_sum'] = personality[[\n",
    "'1. Jestem duszą towarzystwa.',\n",
    "       '2. Niezbyt obchodzą mnie inni ludzie.',\n",
    "       '3. Zostawiam moje rzeczy gdzie popadnie.',\n",
    "       '4. Zwykle jestem zrelaksowany/a.', '5. Mam bogate słownictwo.',\n",
    "       '6. Trzymam się z boku.',\n",
    "       '7. Jestem wyrozumiały/a dla uczuć innych ludzi.',\n",
    "       '8. Bez zwłoki wypełniam codzienne obowiązki.',\n",
    "       '9. Często martwię się czymś.',\n",
    "       '10. Mam trudności ze zrozumieniem abstrakcyjnych pojęć.',\n",
    "       '11. Rozmawiam z wieloma różnymi ludźmi na przyjęciach.',\n",
    "       '12. Nie interesują mnie problemy innych ludzi.',\n",
    "       '13. Często zapominam odkładać rzeczy na miejsce.',\n",
    "       '14. Rzadko czuję się przygnębiony/a.', '15. Mam głowę pełną pomysłów.',\n",
    "       '16. Wśród nieznajomych jestem małomówny/a.',\n",
    "       '17. Znajduję czas dla innych.',\n",
    "       '18. Postępuję zgodnie z harmonogramem.',\n",
    "       '19. Często miewam huśtawki nastrojów.',\n",
    "       '20. Nie mam zbyt bogatej wyobraźni.'\n",
    "\n",
    "\n",
    "]].sum(axis = 1)"
   ]
  },
  {
   "cell_type": "code",
   "execution_count": null,
   "id": "c52f52b4-f946-462b-9baa-6a924b19c530",
   "metadata": {},
   "outputs": [],
   "source": [
    "personality"
   ]
  },
  {
   "cell_type": "code",
   "execution_count": null,
   "id": "b857dd98-3915-4663-9ee3-fd3efa34887c",
   "metadata": {
    "scrolled": true
   },
   "outputs": [],
   "source": [
    "from matplotlib import pyplot as plt\n",
    "plt.plot(personality['personality_sum'])"
   ]
  },
  {
   "cell_type": "code",
   "execution_count": null,
   "id": "ce3b43f9-4c78-4794-8a43-fcd326966d1a",
   "metadata": {},
   "outputs": [],
   "source": [
    "personality['patient_id'] = personality['UID']"
   ]
  },
  {
   "cell_type": "code",
   "execution_count": null,
   "id": "1969834a-c650-49e4-a044-cfff611f5180",
   "metadata": {},
   "outputs": [],
   "source": [
    "merged_df = pd.merge(dataset, personality[['patient_id', 'personality_sum']], on='patient_id', how='inner')"
   ]
  },
  {
   "cell_type": "code",
   "execution_count": null,
   "id": "ff12eedb-d20d-48b9-be8c-40dbac163d85",
   "metadata": {},
   "outputs": [],
   "source": [
    "merged_df"
   ]
  },
  {
   "cell_type": "code",
   "execution_count": null,
   "id": "2c8a5e19-a8ed-47a9-836c-45e1a29da9d1",
   "metadata": {},
   "outputs": [],
   "source": [
    "merged_df.to_pickle(f'{path_to_folder}/6_emotions_aggregates/m_e_emo_pre_loc_sleepSegments_steps_replaced_nan_personality.pkl')"
   ]
  },
  {
   "cell_type": "code",
   "execution_count": null,
   "id": "7e0a93fe-8119-4ba6-9827-487f145a9fd8",
   "metadata": {},
   "outputs": [],
   "source": []
  }
 ],
 "metadata": {
  "kernelspec": {
   "display_name": "Python 3 (ipykernel)",
   "language": "python",
   "name": "python3"
  },
  "language_info": {
   "codemirror_mode": {
    "name": "ipython",
    "version": 3
   },
   "file_extension": ".py",
   "mimetype": "text/x-python",
   "name": "python",
   "nbconvert_exporter": "python",
   "pygments_lexer": "ipython3",
   "version": "3.11.7"
  }
 },
 "nbformat": 4,
 "nbformat_minor": 5
}

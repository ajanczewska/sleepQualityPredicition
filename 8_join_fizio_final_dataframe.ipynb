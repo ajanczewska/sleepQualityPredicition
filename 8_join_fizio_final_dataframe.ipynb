{
 "cells": [
  {
   "cell_type": "code",
   "execution_count": null,
   "id": "41ff36e8-92c3-4010-8de2-4f3498f2616e",
   "metadata": {},
   "outputs": [],
   "source": [
    "import pandas as pd\n",
    "from tqdm import tqdm\n",
    "from datetime import datetime, timedelta\n",
    "import torch\n",
    "import torch.nn as nn\n",
    "import torch.optim as optim\n",
    "\n",
    "from torch.utils.data import DataLoader, TensorDataset\n",
    "from torch.utils.data import Dataset\n",
    "from sklearn.model_selection import train_test_split\n",
    "import matplotlib.pyplot as plt\n",
    "from torch.nn import functional as F\n",
    "from torch.optim.lr_scheduler import StepLR\n",
    "from torch.nn.utils.rnn import pad_sequence\n",
    "import numpy as np\n",
    "import plotly.express as px\n",
    "import seaborn as sns\n",
    "from sklearn.utils.class_weight import compute_class_weight\n",
    "from torch.optim.lr_scheduler import LambdaLR\n",
    "from sklearn.metrics import accuracy_score\n",
    "\n",
    "from sklearn.ensemble import RandomForestClassifier\n"
   ]
  },
  {
   "cell_type": "code",
   "execution_count": null,
   "id": "d24153ad-51b0-41ca-a0fc-a9e4918c9686",
   "metadata": {},
   "outputs": [],
   "source": [
    "path_to_fizio = 'all_iterations_features_60_sec_clean.pkl'\n",
    "path_to_folder = 'D:/DATA_THESIS/Projekt_nw_AG_AJ/Outputs_project_data_preprocessing'"
   ]
  },
  {
   "cell_type": "code",
   "execution_count": null,
   "id": "3d516e82-72d5-4eef-9102-60ca39d9606e",
   "metadata": {},
   "outputs": [],
   "source": [
    "dataset = pd.read_pickle(f'{path_to_folder}/6_emotions_aggregates/m_e_emo_pre_loc_sleepSegments_steps_replaced_nan_personality.pkl')\n"
   ]
  },
  {
   "cell_type": "code",
   "execution_count": null,
   "id": "c7567cb8-c5ad-4f40-9fe8-f547e537943b",
   "metadata": {
    "scrolled": true
   },
   "outputs": [],
   "source": [
    "dataset.columns"
   ]
  },
  {
   "cell_type": "markdown",
   "id": "8fb6bfab-bcf2-40a3-9a33-50d7c88ee1b1",
   "metadata": {},
   "source": [
    "### Load physiology"
   ]
  },
  {
   "cell_type": "code",
   "execution_count": null,
   "id": "f5932673-7e06-4637-8528-f5375451c3d4",
   "metadata": {},
   "outputs": [],
   "source": [
    "LarField_features_120_seconds = pd.read_pickle(path_to_fizio)\n",
    "LarField_features_120_seconds[1][1]"
   ]
  },
  {
   "cell_type": "code",
   "execution_count": null,
   "id": "ebf2e6c2-4187-4ec4-9901-a76727cdcb4b",
   "metadata": {},
   "outputs": [],
   "source": [
    "input_path = 'all_iterations_features_60_sec_clean.pkl'\n",
    "X, y_assessments, y_labels, x_names, subjects = pd.read_pickle(input_path)\n",
    "X_df = pd.DataFrame(data=X, columns=x_names)\n",
    "labels = y_labels"
   ]
  },
  {
   "cell_type": "code",
   "execution_count": null,
   "id": "c996f734-8b4b-4d94-9675-7c61c4f6c917",
   "metadata": {
    "scrolled": true
   },
   "outputs": [],
   "source": [
    "X_df = X_df.rename({'subject': 'patient_id'}, axis='columns')\n",
    "X_df['samsung_BVP_HR_FROM_RR_window_1_mean'].describe()"
   ]
  },
  {
   "cell_type": "code",
   "execution_count": null,
   "id": "fddb12db-ba58-4474-8f4c-47bf4ec9f246",
   "metadata": {},
   "outputs": [],
   "source": [
    "X_df.columns"
   ]
  },
  {
   "cell_type": "code",
   "execution_count": null,
   "id": "91969d18-2f4a-4074-9f4a-0b14c0836a6c",
   "metadata": {},
   "outputs": [],
   "source": [
    "columns = [\n",
    "           'samsung_BVP_FILT_V2_window_1_start',\n",
    "       'samsung_BVP_FILT_V2_window_1_end', 'samsung_BVP_FILT_V2_window_1_mean',\n",
    "       'samsung_BVP_FILT_V2_window_1_median',\n",
    "       'samsung_BVP_FILT_V2_window_1_var', 'samsung_BVP_FILT_V2_window_1_std',\n",
    "       'samsung_BVP_FILT_V2_window_1_min', 'samsung_BVP_FILT_V2_window_1_max',\n",
    "       'samsung_BVP_FILT_V2_window_1_amplitude',\n",
    "       'samsung_BVP_FILT_V2_window_1_entropy',\n",
    "       'samsung_BVP_FILT_V2_window_1_percentile_25',\n",
    "       'samsung_BVP_FILT_V2_window_1_percentile_50',\n",
    "       'samsung_BVP_FILT_V2_window_1_percentile_75',\n",
    "       'samsung_BVP_FILT_V2_window_1_iqr', 'samsung_BVP_FILT_V2_window_1_skew',\n",
    "       'samsung_BVP_FILT_V2_window_1_slope',\n",
    "       'samsung_BVP_FILT_V2_window_1_kurtosis',\n",
    "       'samsung_BVP_FILT_V2_window_1_second_difference_mean',\n",
    "       'samsung_BVP_FILT_V2_window_1_second_difference_std',\n",
    "       'samsung_BVP_FILT_V2_window_1_vlf', 'samsung_BVP_FILT_V2_window_1_lf',\n",
    "       'samsung_BVP_FILT_V2_window_1_hf',\n",
    "       'samsung_BVP_FILT_V2_window_1_total_power',\n",
    "       'samsung_BVP_FILT_V2_window_1_lh_ratio',\n",
    "       'samsung_BVP_FILT_V2_window_1_peak_vlf',\n",
    "       'samsung_BVP_FILT_V2_window_1_peak_lf',\n",
    "       'samsung_BVP_FILT_V2_window_1_peak_hf',\n",
    "       'samsung_BVP_FILT_V2_window_1_lf_nu',\n",
    "       'samsung_BVP_FILT_V2_window_1_hf_nu', 'samsung_BVP_RR_window_1_start',\n",
    "       'samsung_BVP_RR_window_1_end', 'samsung_BVP_RR_window_1_mean',\n",
    "       'samsung_BVP_RR_window_1_median', 'samsung_BVP_RR_window_1_var',\n",
    "       'samsung_BVP_RR_window_1_std', 'samsung_BVP_RR_window_1_min',\n",
    "       'samsung_BVP_RR_window_1_max', 'samsung_BVP_RR_window_1_amplitude',\n",
    "       'samsung_BVP_RR_window_1_entropy',\n",
    "       'samsung_BVP_RR_window_1_percentile_25',\n",
    "       'samsung_BVP_RR_window_1_percentile_50',\n",
    "       'samsung_BVP_RR_window_1_percentile_75', 'samsung_BVP_RR_window_1_iqr',\n",
    "       'samsung_BVP_RR_window_1_skew', 'samsung_BVP_RR_window_1_slope',\n",
    "       'samsung_BVP_RR_window_1_kurtosis',\n",
    "       'samsung_BVP_RR_window_1_second_difference_mean',\n",
    "       'samsung_BVP_RR_window_1_second_difference_std',\n",
    "       'samsung_BVP_RR_window_1_hr_mean_kubios',\n",
    "       'samsung_BVP_RR_window_1_rmssd', 'samsung_BVP_RR_window_1_NN20',\n",
    "       'samsung_BVP_RR_window_1_pNN20', 'samsung_BVP_RR_window_1_NN30',\n",
    "       'samsung_BVP_RR_window_1_pNN30', 'samsung_BVP_RR_window_1_NN50',\n",
    "       'samsung_BVP_RR_window_1_pNN50', 'samsung_BVP_RR_window_1_NN100',\n",
    "       'samsung_BVP_RR_window_1_pNN100',\n",
    "       'samsung_BVP_RR_window_1_triangular_index',\n",
    "       'samsung_BVP_RR_window_1_SDSD', 'samsung_BVP_RR_window_1_CVRR',\n",
    "       'samsung_BVP_RR_window_1_sd1', 'samsung_BVP_RR_window_1_sd2',\n",
    "       'samsung_BVP_RR_window_1_sd1_sd2_ratio', 'samsung_BVP_RR_window_1_vlf',\n",
    "       'samsung_BVP_RR_window_1_lf', 'samsung_BVP_RR_window_1_hf',\n",
    "       'samsung_BVP_RR_window_1_total_power',\n",
    "       'samsung_BVP_RR_window_1_lh_ratio', 'samsung_BVP_RR_window_1_peak_vlf',\n",
    "       'samsung_BVP_RR_window_1_peak_lf', 'samsung_BVP_RR_window_1_peak_hf',\n",
    "       'samsung_BVP_RR_window_1_lf_nu', 'samsung_BVP_RR_window_1_hf_nu',\n",
    "       'samsung_BVP_HR_FROM_RR_window_1_start',\n",
    "       'samsung_BVP_HR_FROM_RR_window_1_end',\n",
    "       'samsung_BVP_HR_FROM_RR_window_1_mean',\n",
    "       'samsung_BVP_HR_FROM_RR_window_1_median',\n",
    "       'samsung_BVP_HR_FROM_RR_window_1_var',\n",
    "       'samsung_BVP_HR_FROM_RR_window_1_std',\n",
    "       'samsung_BVP_HR_FROM_RR_window_1_min',\n",
    "       'samsung_BVP_HR_FROM_RR_window_1_max',\n",
    "       'samsung_BVP_HR_FROM_RR_window_1_amplitude',\n",
    "       'samsung_BVP_HR_FROM_RR_window_1_entropy',\n",
    "       'samsung_BVP_HR_FROM_RR_window_1_percentile_25',\n",
    "       'samsung_BVP_HR_FROM_RR_window_1_percentile_50',\n",
    "       'samsung_BVP_HR_FROM_RR_window_1_percentile_75',\n",
    "       'samsung_BVP_HR_FROM_RR_window_1_iqr',\n",
    "       'samsung_BVP_HR_FROM_RR_window_1_skew',\n",
    "       'samsung_BVP_HR_FROM_RR_window_1_slope',\n",
    "       'samsung_BVP_HR_FROM_RR_window_1_kurtosis',\n",
    "       'samsung_BVP_HR_FROM_RR_window_1_second_difference_mean',\n",
    "       'samsung_BVP_HR_FROM_RR_window_1_second_difference_std'\n",
    "\n",
    "    \n",
    "]\n",
    "for col in columns:\n",
    "    # Check if the column can be converted to float\n",
    "    if pd.api.types.is_object_dtype(X_df[col]):\n",
    "        try:\n",
    "            X_df[col] = pd.to_numeric(X_df[col], errors='coerce')\n",
    "        except ValueError:\n",
    "            pass\n",
    "\n",
    "# Check and confirm the data types\n",
    "print(X_df.dtypes)"
   ]
  },
  {
   "cell_type": "code",
   "execution_count": null,
   "id": "44610075-c49d-4bd8-aea0-de8a85a7db9c",
   "metadata": {},
   "outputs": [],
   "source": [
    "X_df['samsung_BVP_HR_FROM_RR_window_1_mean']"
   ]
  },
  {
   "cell_type": "code",
   "execution_count": null,
   "id": "d8d01309-ebe5-4f24-bf21-3e8ba2da277e",
   "metadata": {
    "scrolled": true
   },
   "outputs": [],
   "source": [
    "list(X_df.columns)"
   ]
  },
  {
   "cell_type": "markdown",
   "id": "01eb79ab-3ac2-4240-86f2-8545a128ae09",
   "metadata": {},
   "source": [
    "### Load emotions"
   ]
  },
  {
   "cell_type": "code",
   "execution_count": null,
   "id": "c3971c00-51d6-4c1a-b753-fee4707fa4f5",
   "metadata": {},
   "outputs": [],
   "source": [
    "\n",
    "results = []\n",
    "for i in range(0, len(y_assessments)):\n",
    "    results.append({\n",
    "        'intenseEmotion': y_assessments[i]['response']['intenseEmotion'],\n",
    "        'valence': y_assessments[i]['response']['valence'],\n",
    "        'arousal': y_assessments[i]['response']['arousal'],\n",
    "        'patient_id': y_assessments[i]['participant'],\n",
    "        'emotion_tag': y_assessments[i]['emotionTimestamp'],\n",
    "    })\n",
    "    "
   ]
  },
  {
   "cell_type": "code",
   "execution_count": null,
   "id": "8cb91530-354c-4bef-9456-b61c6f8580a9",
   "metadata": {},
   "outputs": [],
   "source": [
    "emotion_responses = pd.DataFrame(results)"
   ]
  },
  {
   "cell_type": "code",
   "execution_count": null,
   "id": "cfcc2f4f-6df7-405e-ae69-32cb8e7ba20d",
   "metadata": {},
   "outputs": [],
   "source": [
    "emotion_responses"
   ]
  },
  {
   "cell_type": "code",
   "execution_count": null,
   "id": "6362c727-a2a5-4451-83c5-a4074aad5231",
   "metadata": {
    "scrolled": true
   },
   "outputs": [],
   "source": [
    "# Generate dateOfSleep\n",
    "\n",
    "emotion_responses['emotion_tag'] = emotion_responses['emotion_tag'].apply(lambda x: datetime.strptime(x, '%Y-%m-%dT%H:%M:%S.%f') if '.' in x else datetime.strptime(x, '%Y-%m-%dT%H:%M:%S'))\n",
    "\n",
    "emotion_responses['date'] = pd.to_datetime(emotion_responses['emotion_tag'])\n",
    "# emotion_responses['hour'] = emotion_responses['date'].dt.hour\n",
    "emotion_responses['dateOfSleep'] = pd.to_datetime(emotion_responses['date']).dt.floor('D')\n",
    "emotion_responses = emotion_responses.drop(['date'], axis = 1)\n",
    "emotion_responses['dateOfSleep'] = emotion_responses['dateOfSleep'] + pd.Timedelta(days=1)\n",
    "emotion_responses"
   ]
  },
  {
   "cell_type": "code",
   "execution_count": null,
   "id": "0a1bf5b4-64bc-4d21-ac3a-c16eea1f1ab1",
   "metadata": {},
   "outputs": [],
   "source": [
    "X_df['emotion_tag'] = X_df['emotion_tag'].apply(lambda x: datetime.strptime(x, '%Y-%m-%dT%H:%M:%S.%f') if '.' in x else datetime.strptime(x, '%Y-%m-%dT%H:%M:%S'))"
   ]
  },
  {
   "cell_type": "code",
   "execution_count": null,
   "id": "c33e60cd-82b0-44c2-acfd-75ca699f2410",
   "metadata": {},
   "outputs": [],
   "source": [
    "# join HR + emotions\n",
    "columns_to_choose_fizio = ['patient_id', 'emotion_tag',\n",
    "        'samsung_BVP_HR_FROM_RR_window_1_start',\n",
    "       'samsung_BVP_HR_FROM_RR_window_1_end',\n",
    "       'samsung_BVP_HR_FROM_RR_window_1_mean',\n",
    "       'samsung_BVP_HR_FROM_RR_window_1_median',\n",
    "       'samsung_BVP_HR_FROM_RR_window_1_var',\n",
    "       'samsung_BVP_HR_FROM_RR_window_1_std',\n",
    "       'samsung_BVP_HR_FROM_RR_window_1_min',\n",
    "       'samsung_BVP_HR_FROM_RR_window_1_max',\n",
    "       'samsung_BVP_HR_FROM_RR_window_1_amplitude',\n",
    "      'samsung_BVP_RR_window_1_start',\n",
    "     'samsung_BVP_RR_window_1_end',\n",
    "     'samsung_BVP_RR_window_1_mean',\n",
    "     'samsung_BVP_RR_window_1_median',\n",
    "     'samsung_BVP_RR_window_1_var',\n",
    "     'samsung_BVP_RR_window_1_std',\n",
    "     'samsung_BVP_RR_window_1_min',\n",
    "     'samsung_BVP_RR_window_1_max',\n",
    "     'samsung_BVP_RR_window_1_amplitude',\n",
    "     'samsung_BVP_RR_window_1_rmssd',\n",
    "   'samsung_BVP_RR_window_1_SDSD',  #odchylenie sd\n",
    " 'samsung_BVP_RR_window_1_CVRR',                    ]\n",
    "\n",
    "merged_emotion = pd.merge(emotion_responses, X_df[columns_to_choose_fizio], on=['patient_id','emotion_tag' ], how='inner')"
   ]
  },
  {
   "cell_type": "code",
   "execution_count": null,
   "id": "d5e1c7d1-964f-48df-9380-ea98c28f15b4",
   "metadata": {
    "scrolled": true
   },
   "outputs": [],
   "source": [
    "merged_emotion"
   ]
  },
  {
   "cell_type": "code",
   "execution_count": null,
   "id": "f8ae3d66-c4f4-42d4-9c10-7f60856f7f29",
   "metadata": {},
   "outputs": [],
   "source": [
    "merged_emotion[merged_emotion.columns[10]]"
   ]
  },
  {
   "cell_type": "code",
   "execution_count": null,
   "id": "ffc846e8-dc76-4c2d-aed6-40f02540c401",
   "metadata": {},
   "outputs": [],
   "source": [
    "# merged_emotion['samsung_BVP_HR_FROM_RR_window_1_mean'] = pd.to_numeric(merged_emotion['samsung_BVP_HR_FROM_RR_window_1_mean'], errors='coerce')\n",
    "merged_emotion['samsung_BVP_RR_window_1_std'].plot()"
   ]
  },
  {
   "cell_type": "code",
   "execution_count": null,
   "id": "2ffc67e2-abc6-4287-93a8-770723352556",
   "metadata": {},
   "outputs": [],
   "source": [
    "merged_emotion['samsung_BVP_HR_FROM_RR_window_1_start'].plot()"
   ]
  },
  {
   "cell_type": "code",
   "execution_count": null,
   "id": "06038af3-eb95-4d7f-9420-7698739db71c",
   "metadata": {},
   "outputs": [],
   "source": [
    "merged_emotion['samsung_BVP_HR_FROM_RR_window_1_mean'].plot()"
   ]
  },
  {
   "cell_type": "code",
   "execution_count": null,
   "id": "362e52ab-721b-4578-b41f-0f2c6f9d41ff",
   "metadata": {},
   "outputs": [],
   "source": [
    "merged_emotion['samsung_BVP_HR_FROM_RR_window_1_var'].plot()"
   ]
  },
  {
   "cell_type": "code",
   "execution_count": null,
   "id": "124a4096-0af3-441a-bab5-b9525594c092",
   "metadata": {},
   "outputs": [],
   "source": [
    "merged_emotion[merged_emotion['samsung_BVP_HR_FROM_RR_window_1_start']>100000]"
   ]
  },
  {
   "cell_type": "markdown",
   "id": "3cab4bf9-89fd-42ed-90b9-94935c05d198",
   "metadata": {},
   "source": [
    "# Agregate to 1 column"
   ]
  },
  {
   "cell_type": "code",
   "execution_count": null,
   "id": "50156caa-7d9c-4d25-a365-1df6a3e31785",
   "metadata": {
    "scrolled": true
   },
   "outputs": [],
   "source": [
    "unique_values = {'NO': 0, 'YES': 1}\n",
    "merged_emotion.replace({'intenseEmotion': unique_values}, inplace=True)\n",
    "merged_emotion.describe()"
   ]
  },
  {
   "cell_type": "code",
   "execution_count": null,
   "id": "6fa62cff-ac46-4f9e-a9e5-caeb67e577b2",
   "metadata": {},
   "outputs": [],
   "source": [
    "merged_emotion"
   ]
  },
  {
   "cell_type": "code",
   "execution_count": null,
   "id": "6d4858fd-ed09-439b-a1e3-11152aa063d2",
   "metadata": {
    "scrolled": true
   },
   "outputs": [],
   "source": [
    "columns_to_group = [\n",
    "                    'intenseEmotion',\n",
    "                    'valence',       \n",
    "                    'arousal',\n",
    "'samsung_BVP_RR_window_1_rmssd',\n",
    "'samsung_BVP_RR_window_1_mean',\n",
    "'samsung_BVP_RR_window_1_median',\n",
    "# 'samsung_BVP_RR_window_1_mean',\n",
    "'samsung_BVP_HR_FROM_RR_window_1_mean',\n",
    "'samsung_BVP_HR_FROM_RR_window_1_median'\n",
    "\n",
    "    \n",
    " #     'samsung_BVP_HR_FROM_RR_window_1_start',\n",
    " #       'samsung_BVP_HR_FROM_RR_window_1_end',\n",
    " #       'samsung_BVP_HR_FROM_RR_window_1_mean',\n",
    " #       'samsung_BVP_HR_FROM_RR_window_1_median',\n",
    " #       'samsung_BVP_HR_FROM_RR_window_1_var',\n",
    " #       'samsung_BVP_HR_FROM_RR_window_1_std',\n",
    " #       'samsung_BVP_HR_FROM_RR_window_1_min',\n",
    " #       'samsung_BVP_HR_FROM_RR_window_1_max',\n",
    " #       'samsung_BVP_HR_FROM_RR_window_1_amplitude',\n",
    " #      'samsung_BVP_RR_window_1_start',\n",
    " #     'samsung_BVP_RR_window_1_end',\n",
    " #     'samsung_BVP_RR_window_1_mean',\n",
    " #     'samsung_BVP_RR_window_1_median',\n",
    " #     'samsung_BVP_RR_window_1_var',\n",
    " #     'samsung_BVP_RR_window_1_std',\n",
    " #     'samsung_BVP_RR_window_1_min',\n",
    " #     'samsung_BVP_RR_window_1_max',\n",
    " #     'samsung_BVP_RR_window_1_amplitude',\n",
    " #     'samsung_BVP_RR_window_1_rmssd',\n",
    " #   'samsung_BVP_RR_window_1_SDSD',  #odchylenie sd\n",
    " # 'samsung_BVP_RR_window_1_CVRR',                   \n",
    "\n",
    "]\n",
    "\n",
    "# merged_emotion[columns_to_group] = merged_emotion[columns_to_group].apply(pd.to_numeric)\n",
    "grouped_df = merged_emotion.groupby(['patient_id', 'dateOfSleep'])[columns_to_group].apply(lambda x: x.values.tolist()).reset_index()\n",
    "grouped_df"
   ]
  },
  {
   "cell_type": "code",
   "execution_count": null,
   "id": "a9700c45-53ee-46b5-b88e-db348d5c5805",
   "metadata": {},
   "outputs": [],
   "source": [
    "# Calculate lengths of lists in the column\n",
    "lengths = grouped_df[0].apply(len)\n",
    "unique_lengths = lengths.unique()\n",
    "# Plot histogram\n",
    "plt.figure(figsize=(8, 6))\n",
    "bins = np.arange(10) - 0.5\n",
    "plt.hist(lengths, bins=bins, color='skyblue', edgecolor='black')\n",
    "plt.xlabel('Length of Lists')\n",
    "\n",
    "plt.ylabel('Frequency')\n",
    "plt.title('Histogram of Lengths of Lists')\n",
    "plt.grid(True)\n",
    "plt.xticks(unique_lengths)\n",
    "plt.show()"
   ]
  },
  {
   "cell_type": "markdown",
   "id": "2689c271-c2b3-45ae-8102-f71a25049a42",
   "metadata": {},
   "source": [
    "# Merge with final dataset "
   ]
  },
  {
   "cell_type": "code",
   "execution_count": null,
   "id": "e7d373a7-6494-4128-bc54-d0dd2398b777",
   "metadata": {},
   "outputs": [],
   "source": [
    "list(dataset.columns)"
   ]
  },
  {
   "cell_type": "code",
   "execution_count": null,
   "id": "42da19fb-fbee-4cf0-9b1b-ddc219f9d2a9",
   "metadata": {},
   "outputs": [],
   "source": [
    "# dataset = dataset.drop(['f1_f1',\n",
    "#  'f1_f2',\n",
    "#  'f1_f3',\n",
    "#  'f2_f1',\n",
    "#  'f2_f2',\n",
    "#  'f2_f3',\n",
    "#  'f3_f1',\n",
    "#  'f3_f2',\n",
    "#  'f3_f3',\n",
    "#  'f4_f1',\n",
    "#  'f4_f2',\n",
    "#  'f4_f3',\n",
    "#  'f5_f1',\n",
    "#  'f5_f2',\n",
    "#  'f5_f3',\n",
    "#  'f6_f1',\n",
    "#  'f6_f2',\n",
    "#  'f6_f3',\n",
    "#  'f7_f1',\n",
    "#  'f7_f2',\n",
    "#  'f7_f3',\n",
    "#  'f8_f1',\n",
    "#  'f8_f2',\n",
    "#  'f8_f3',\n",
    "#  'f9_f1',\n",
    "#  'f9_f2',\n",
    "#  'f9_f3', 'Timestamp'], axis = 1)"
   ]
  },
  {
   "cell_type": "code",
   "execution_count": null,
   "id": "c7d6191f-1788-4b0f-b0c3-a6a4467ca2b2",
   "metadata": {},
   "outputs": [],
   "source": [
    "merged_emotion_all = pd.merge(dataset, grouped_df, on=['patient_id','dateOfSleep' ], how='inner')"
   ]
  },
  {
   "cell_type": "code",
   "execution_count": null,
   "id": "cf8c38f0-09fd-4cfc-b356-76f1d099076b",
   "metadata": {
    "scrolled": true
   },
   "outputs": [],
   "source": []
  },
  {
   "cell_type": "code",
   "execution_count": null,
   "id": "2c1b04be-24ec-44f8-a58d-20b9be73e766",
   "metadata": {},
   "outputs": [],
   "source": [
    "# Calculate lengths of lists in the column\n",
    "lengths = merged_emotion_all[0].apply(len)\n",
    "unique_lengths = lengths.unique()\n",
    "# Plot histogram\n",
    "plt.figure(figsize=(8, 6))\n",
    "plt.hist(lengths, bins=20, color='skyblue', edgecolor='black')\n",
    "plt.xlabel('Length of Lists')\n",
    "plt.ylabel('Frequency')\n",
    "plt.title('Histogram of Lengths of Lists')\n",
    "plt.grid(True)\n",
    "plt.xticks(unique_lengths)\n",
    "plt.show()"
   ]
  },
  {
   "cell_type": "markdown",
   "id": "7f540e3d-5aa0-4add-af09-6f95a284b303",
   "metadata": {},
   "source": [
    "## Expand features - expand features to pass to the model"
   ]
  },
  {
   "cell_type": "code",
   "execution_count": null,
   "id": "e9eb773b-33ee-4052-aaab-7161859fe9ec",
   "metadata": {},
   "outputs": [],
   "source": [
    "len(merged_emotion_all[0][0])"
   ]
  },
  {
   "cell_type": "code",
   "execution_count": null,
   "id": "2b936fbe-0496-4d80-b85b-18fd745187d1",
   "metadata": {},
   "outputs": [],
   "source": [
    "merged_emotion_all[['emotion1', 'emotion2', 'emotion3', 'emotion4', 'emotion5', 'emotion6', 'emotion7', 'emotion8', 'emotion9']] = merged_emotion_all[0].apply(pd.Series)\n",
    "\n",
    "merged_emotion_all = merged_emotion_all.drop(0, axis = 1 )"
   ]
  },
  {
   "cell_type": "code",
   "execution_count": null,
   "id": "dd2ddc1c-0903-4f90-9467-815048b05e07",
   "metadata": {
    "scrolled": true
   },
   "outputs": [],
   "source": [
    "merged_emotion_all"
   ]
  },
  {
   "cell_type": "code",
   "execution_count": null,
   "id": "9d935851-06d9-4601-8d74-6503df1b16ca",
   "metadata": {
    "scrolled": true
   },
   "outputs": [],
   "source": [
    "# Identify columns containing lists of vectors\n",
    "vector_columns = [col for col in merged_emotion_all.columns if isinstance(merged_emotion_all[col].iloc[0], list)]\n",
    "vector_columns = ['emotion1', \n",
    "                  'emotion2', \n",
    "                  'emotion3', \n",
    "                  'emotion4', \n",
    "                  'emotion5', \n",
    "                  'emotion6', \n",
    "                  'emotion7', \n",
    "                  'emotion8', \n",
    "                  'emotion9'\n",
    "]\n",
    "# Define a function to expand the lists into separate columns\n",
    "def expand_to_columns(row, prefix):\n",
    "    return pd.Series(row[prefix], index=[f'{prefix}_{i}' for i in columns_to_group])\n",
    "\n",
    "# Apply the function to expand each column containing lists of vectors\n",
    "expanded_dfs = []\n",
    "for column in vector_columns:\n",
    "    prefix = column.split('_')[0]  # Extract prefix from column name\n",
    "    expanded_df = merged_emotion_all.apply(lambda row: expand_to_columns(row, prefix), axis=1)\n",
    "    expanded_dfs.append(expanded_df)\n",
    "\n",
    "# Concatenate the expanded DataFrames along columns axis and include single value columns\n",
    "result_df = pd.concat([merged_emotion_all[merged_emotion_all.columns.difference(vector_columns)], *expanded_dfs], axis=1)\n",
    "display(result_df)"
   ]
  },
  {
   "cell_type": "code",
   "execution_count": null,
   "id": "71cd3067-dd28-48aa-b933-5b0794098ddd",
   "metadata": {
    "scrolled": true
   },
   "outputs": [],
   "source": [
    "merged_emotion"
   ]
  },
  {
   "cell_type": "code",
   "execution_count": null,
   "id": "c48363c0-8445-43f1-8ed3-ae4090a75ff2",
   "metadata": {},
   "outputs": [],
   "source": [
    "merged_emotion['samsung_BVP_HR_FROM_RR_window_1_var'].astype(float).describe()"
   ]
  },
  {
   "cell_type": "code",
   "execution_count": null,
   "id": "5368bc60-4f7c-4ea1-8ac8-6ce7afe698e0",
   "metadata": {},
   "outputs": [],
   "source": [
    "\n",
    "# Step 2: Calculate default values for each column\n",
    "default_values = {col: max(merged_emotion[col]) for col in columns_to_group}\n",
    "\n",
    "# Step 3: Add 0.5 to these default values\n",
    "adjusted_default_values = {col: val + 0.1 * val for col, val in default_values.items()}\n",
    "\n",
    "# Step 4: Fill NaN values with the calculated values\n",
    "for col in result_df.columns:\n",
    "    for substring in columns_to_group:\n",
    "        if substring in col:\n",
    "            # print(col)  # For debugging purposes\n",
    "            default_value = adjusted_default_values[substring]\n",
    "            result_df[col] = result_df[col].apply(\n",
    "                lambda x: default_value if isinstance(x, float) and np.isnan(x) else x\n",
    "            )\n",
    "\n",
    "# Display the adjusted default values used for filling NaN\n",
    "print(\"Adjusted default values for each column:\\n\", adjusted_default_values)"
   ]
  },
  {
   "cell_type": "code",
   "execution_count": null,
   "id": "37d959c7-9ced-48f2-8554-27549cd27392",
   "metadata": {},
   "outputs": [],
   "source": [
    "result_df"
   ]
  },
  {
   "cell_type": "code",
   "execution_count": null,
   "id": "a5e1e106-9ece-4d35-8c92-e203063bb0f6",
   "metadata": {},
   "outputs": [],
   "source": [
    "adjusted_default_values = pd.DataFrame(adjusted_default_values, list(adjusted_default_values.keys()))\n",
    "\n",
    "adjusted_default_values.to_pickle('values_instead_of_nan_fizio.pkl')"
   ]
  },
  {
   "cell_type": "code",
   "execution_count": null,
   "id": "35c4ebe6-fe45-4728-8e79-282229add0d3",
   "metadata": {},
   "outputs": [],
   "source": [
    "adjusted_default_values.keys()"
   ]
  },
  {
   "cell_type": "code",
   "execution_count": null,
   "id": "08981c07-74b1-445d-b2e8-035e30ee1953",
   "metadata": {},
   "outputs": [],
   "source": [
    "result_df.to_pickle(f'{path_to_folder}/9_final_dataset/m_e_emo_pre_loc_sleepSegments_steps_replaced_nan_personality_fizio.pkl')"
   ]
  },
  {
   "cell_type": "code",
   "execution_count": null,
   "id": "c8d8bff5-593c-44a7-a9a1-65e35c22ec59",
   "metadata": {},
   "outputs": [],
   "source": [
    "default_values"
   ]
  },
  {
   "cell_type": "code",
   "execution_count": null,
   "id": "2448e346-640f-4231-9251-ed822637e406",
   "metadata": {},
   "outputs": [],
   "source": [
    "result_df"
   ]
  },
  {
   "cell_type": "code",
   "execution_count": null,
   "id": "860ab1e3-6234-4635-b5b5-b72314cf6a2f",
   "metadata": {},
   "outputs": [],
   "source": []
  }
 ],
 "metadata": {
  "kernelspec": {
   "display_name": "Python 3 (ipykernel)",
   "language": "python",
   "name": "python3"
  },
  "language_info": {
   "codemirror_mode": {
    "name": "ipython",
    "version": 3
   },
   "file_extension": ".py",
   "mimetype": "text/x-python",
   "name": "python",
   "nbconvert_exporter": "python",
   "pygments_lexer": "ipython3",
   "version": "3.11.7"
  }
 },
 "nbformat": 4,
 "nbformat_minor": 5
}

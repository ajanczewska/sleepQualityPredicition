{
 "cells": [
  {
   "cell_type": "markdown",
   "id": "fddffd5a",
   "metadata": {},
   "source": [
    "# Prediction of the morning evaluation based on the evening mood\n",
    "\n",
    "+ Read all the questionaries\n",
    "+ Join them based on the evening-morning relations\n",
    "+ Evening or morning without corelated data are removed"
   ]
  },
  {
   "cell_type": "code",
   "execution_count": null,
   "id": "b67cac02-3ebe-4307-a49c-f799f21aa2a7",
   "metadata": {},
   "outputs": [],
   "source": [
    "import pandas as pd\n",
    "from tqdm import tqdm\n",
    "from datetime import datetime, timedelta\n",
    "import torch\n",
    "import torch.nn as nn\n",
    "import torch.optim as optim\n",
    "from torch.utils.data import DataLoader, TensorDataset\n",
    "from torch.utils.data import Dataset\n",
    "from sklearn.model_selection import train_test_split\n",
    "import matplotlib.pyplot as plt\n",
    "from torch.nn import functional as F"
   ]
  },
  {
   "cell_type": "code",
   "execution_count": null,
   "id": "dfe1f2ba-b1af-4eec-9cc3-5fe831d1b704",
   "metadata": {},
   "outputs": [],
   "source": [
    "# path to all the questionnaires\n",
    "PATH = \"C:/Users/Admin/Thesis/data/ankiety\"\n",
    "path_to_folder = 'D:/DATA_THESIS/Projekt_nw_AG_AJ/Outputs_project_data_preprocessing'\n",
    "path_to_save = f'{path_to_folder}/Outputs_project_data_preprocessing/1_data'"
   ]
  },
  {
   "cell_type": "code",
   "execution_count": null,
   "id": "b24eaf12-44e1-44a7-a7e9-fb219469cfd2",
   "metadata": {},
   "outputs": [],
   "source": [
    "import json\n",
    "def load_json_file(path: str) -> dict:\n",
    "    if path[-5:] != '.json':\n",
    "        path += '.json'\n",
    "\n",
    "    with open(path, encoding=\"utf8\") as json_file:\n",
    "        json_data = json.load(json_file)\n",
    "\n",
    "    return json_data\n",
    "import os\n",
    "p_stress_data = []\n",
    "emotion_data = []\n",
    "evening_stress = []\n",
    "p_data_emo, p_data_morning, p_data_evening = {}, {}, {}\n",
    "p_stress = {}\n",
    "for iteration in tqdm(os.listdir(PATH)):\n",
    "    p_iter = f\"{PATH}/{iteration}\"\n",
    "    for participant in os.listdir(p_iter):\n",
    "        p_path = f\"{p_iter}/{participant}/assessments\"\n",
    "        morning_list = [load_json_file(f\"{p_path}/morning/{x}\") for x in os.listdir(f\"{p_path}/morning\")]\n",
    "        for assessment in morning_list:\n",
    "            if assessment['status'] != 'FILLED' or assessment['response'] == None:\n",
    "                continue\n",
    "            p_stress_data.append({\n",
    "                'id': participant,\n",
    "                'createdTimestamp': assessment['createdTimestamp'],\n",
    "                'filledTimestamp': assessment['filledTimestamp'],\n",
    "                'rest': assessment['response']['rest'],\n",
    "                'sleepQuality': assessment['response']['sleepQuality'],\n",
    "                'stress': assessment['response']['stress'],\n",
    "                'composure': assessment['response']['composure'],\n",
    "            })\n",
    "    \n",
    "        evening_list = [load_json_file(f\"{p_path}/evening/{x}\") for x in os.listdir(f\"{p_path}/evening\")]\n",
    "        for assessment in evening_list:\n",
    "            if assessment['status'] != 'FILLED' or assessment['response'] == None:\n",
    "                continue\n",
    "            evening_stress.append({\n",
    "                'id': participant,\n",
    "                'createdTimestamp': assessment['createdTimestamp'],\n",
    "                'filledTimestamp': assessment['filledTimestamp'],\n",
    "                'overwhelm': assessment['response']['overwhelm'],\n",
    "                'health': assessment['response']['health'],\n",
    "                'mood': assessment['response']['mood'],\n",
    "                'unpredictability': assessment['response']['unpredictability'],\n",
    "            })\n",
    "            \n",
    "            \n",
    "        emotion_list = [load_json_file(f\"{p_path}/emotion/{x}\") for x in os.listdir(f\"{p_path}/emotion\")]\n",
    "        for assessment in emotion_list:\n",
    "            if assessment['status'] != 'FILLED' or assessment['response'] == None:\n",
    "                continue\n",
    "            emotion_data.append({\n",
    "                'id': participant,\n",
    "                'createdTimestamp': assessment['createdTimestamp'],\n",
    "                'filledTimestamp': assessment['filledTimestamp'],\n",
    "                'intenseEmotion': assessment['response']['intenseEmotion'],\n",
    "                'valence': assessment['response']['valence'],\n",
    "                'arousal': assessment['response']['arousal'],\n",
    "                'comments': assessment['response']['comments'],\n",
    "            })"
   ]
  },
  {
   "cell_type": "code",
   "execution_count": null,
   "id": "998536d0-8b9d-4b67-a748-5e7b9614e565",
   "metadata": {},
   "outputs": [],
   "source": [
    "df_evening = pd.DataFrame(evening_stress)\n",
    "len(df_evening)"
   ]
  },
  {
   "cell_type": "code",
   "execution_count": null,
   "id": "ce9bf817-9b9a-42d1-97e3-4a61f594144c",
   "metadata": {},
   "outputs": [],
   "source": [
    "df_morning = pd.DataFrame(p_stress_data)\n",
    "len(df_morning)"
   ]
  },
  {
   "cell_type": "code",
   "execution_count": null,
   "id": "46ebc45f-22f6-4ed8-80b2-beba14243f1e",
   "metadata": {},
   "outputs": [],
   "source": [
    "df_emotion = pd.DataFrame(emotion_data)\n",
    "len(df_emotion)"
   ]
  },
  {
   "cell_type": "code",
   "execution_count": null,
   "id": "1e8ed84a",
   "metadata": {},
   "outputs": [],
   "source": [
    "df_evening.to_csv(f'{path_to_save}/df_evening.csv')\n",
    "df_morning.to_csv(f'{path_to_save}/df_evening.csv')\n",
    "df_emotion.to_csv(f'{path_to_save}/df_emotion.csv')"
   ]
  },
  {
   "cell_type": "markdown",
   "id": "fb7caa41",
   "metadata": {},
   "source": [
    "wektor -> predykcja\n",
    "klasyfikatory\n",
    "lstm\n",
    "adaboost\n",
    "wyjaśnialność modelu - sieci głębokie"
   ]
  },
  {
   "cell_type": "code",
   "execution_count": null,
   "id": "3f188972",
   "metadata": {},
   "outputs": [],
   "source": [
    "# function to convert the timestamp to the correct format\n",
    "def convert_to_datetime(timestamp):\n",
    "    try:\n",
    "        return pd.to_datetime(timestamp)\n",
    "    except ValueError:\n",
    "        return None \n",
    "\n",
    "# Apply the conversion function to the timestamp column\n",
    "df_evening['filledTimestamp'] = df_evening['filledTimestamp'].apply(convert_to_datetime)\n",
    "df_morning['filledTimestamp'] = df_morning['filledTimestamp'].apply(convert_to_datetime)\n",
    "\n",
    "display(df_evening)"
   ]
  },
  {
   "cell_type": "code",
   "execution_count": null,
   "id": "91a2054d",
   "metadata": {},
   "outputs": [],
   "source": [
    "# adding day and hour as separate columns so it will be easier to join the dataframes\n",
    "df_morning['day_morning'] = pd.to_datetime(df_morning['filledTimestamp']).dt.floor('D')\n",
    "df_evening['day'] = pd.to_datetime(df_evening['filledTimestamp']).dt.floor('D')\n",
    "df_emotion['day'] = pd.to_datetime(df_emotion['filledTimestamp']).dt.floor('D')\n",
    "\n",
    "df_morning['hour_morning'] = pd.to_datetime(df_morning['filledTimestamp']).dt.hour\n",
    "df_evening['hour'] = pd.to_datetime(df_evening['filledTimestamp']).dt.hour\n",
    "df_emotion['hour'] = pd.to_datetime(df_emotion['filledTimestamp']).dt.hour"
   ]
  },
  {
   "cell_type": "markdown",
   "id": "e6fec3ed-0da6-4cee-b229-57ec62d47aee",
   "metadata": {},
   "source": [
    "## joining evening with morning"
   ]
  },
  {
   "cell_type": "code",
   "execution_count": null,
   "id": "c1ca8b7b",
   "metadata": {
    "scrolled": true
   },
   "outputs": [],
   "source": [
    "# joining evening with morning\n",
    "rest = []\n",
    "sleepQ = []\n",
    "stress = []\n",
    "composure = []\n",
    "filledT = []\n",
    "filledT_e = []\n",
    "over = []\n",
    "health = []\n",
    "mood = []\n",
    "unpred = []\n",
    "ids = []\n",
    "\n",
    "for patient in list(df_morning['id'].unique()):\n",
    "#     taking patient and checking if there are data from the day before\n",
    "    for morning in list(df_morning[df_morning['id'] == patient]['day_morning']):\n",
    "# get previous evening data\n",
    "        morning_data = df_morning[df_morning['id'] == patient]\n",
    "        morning_data = morning_data[morning_data['day_morning'] == morning].reset_index(drop=True)\n",
    "        previous_day = morning - timedelta(days=1)\n",
    "        patient_single = df_evening[df_evening['id'] == patient]\n",
    "        if len(list(patient_single[patient_single['day'] == previous_day]['hour']))!=0 and list(patient_single[patient_single['day'] == previous_day]['hour'])[0] <=23 and list(patient_single[patient_single['day'] == previous_day]['hour'])[0] >=17:\n",
    "            day_before_df = patient_single[patient_single['day'] == previous_day].reset_index(drop=True)\n",
    "        elif len(list(patient_single[patient_single['day'] == morning]['hour']))!=0 and  list(patient_single[patient_single['day'] == morning]['hour'])[0] <=5 and list(patient_single[patient_single['day'] == morning]['hour'])[0] >=0:\n",
    "            day_before_df = patient_single[patient_single['day'] == morning].reset_index(drop=True)\n",
    "        else:\n",
    "            day_before_df = pd.DataFrame()\n",
    "#         save previous evening data\n",
    "        if day_before_df.empty:\n",
    "            continue\n",
    "        else:\n",
    "            rest.append(morning_data[morning_data['id'] == patient]['rest'][0])\n",
    "            sleepQ.append(morning_data[morning_data['id'] == patient]['sleepQuality'][0])\n",
    "            stress.append(morning_data[morning_data['id'] == patient]['stress'][0])\n",
    "            composure.append(morning_data[morning_data['id'] == patient]['composure'][0])\n",
    "            filledT.append(morning_data[morning_data['id'] == patient]['filledTimestamp'][0])\n",
    "\n",
    "            filledT_e.append(day_before_df['filledTimestamp'][0])\n",
    "            over.append(day_before_df['overwhelm'][0])\n",
    "            health.append(day_before_df['health'][0])\n",
    "            mood.append(day_before_df['mood'][0])\n",
    "            unpred.append(day_before_df['unpredictability'][0])\n",
    "            ids.append(day_before_df['id'][0])\n",
    "    #         display(day_before_df)\n"
   ]
  },
  {
   "cell_type": "code",
   "execution_count": null,
   "id": "f27ecf8d",
   "metadata": {},
   "outputs": [],
   "source": [
    "evening_morning = pd.DataFrame()\n",
    "evening_morning['rest'] = rest\n",
    "evening_morning['sleepQuality'] = sleepQ\n",
    "evening_morning['stress'] = stress \n",
    "evening_morning['composure'] = composure \n",
    "evening_morning['filledTimestamp_morning'] = filledT \n",
    "evening_morning['filledTimestamp_evening'] = filledT_e \n",
    "evening_morning['overwhelm'] = over \n",
    "evening_morning['health'] = health \n",
    "evening_morning['mood'] = mood \n",
    "evening_morning['unpredictability'] = unpred \n",
    "evening_morning['id'] = ids "
   ]
  },
  {
   "cell_type": "code",
   "execution_count": null,
   "id": "439f9b50",
   "metadata": {},
   "outputs": [],
   "source": [
    "# add column time_difference - to check the time between going to sleep and waking up based on the\n",
    "#  moment of filling out the forms\n",
    "\n",
    "evening_morning['filledTimestamp_morning'] = pd.to_datetime(evening_morning['filledTimestamp_morning'], format=\"%Y-%m-%d %H:%M:%S.%f\")\n",
    "evening_morning['filledTimestamp_evening'] = pd.to_datetime(evening_morning['filledTimestamp_evening'], format=\"%Y-%m-%dT%H:%M:%S.%f\")\n",
    "\n",
    "# Function to calculate time difference\n",
    "def calculate_time_difference(row):\n",
    "    time_diff = row['filledTimestamp_morning'] - row['filledTimestamp_evening']\n",
    "    return time_diff.total_seconds() / 3600  # Convert seconds to hours\n",
    "\n",
    "# Apply the function to create a new column 'time_difference'\n",
    "evening_morning['time_difference'] = evening_morning.apply(calculate_time_difference, axis=1)\n"
   ]
  },
  {
   "cell_type": "code",
   "execution_count": null,
   "id": "6cd229b9",
   "metadata": {},
   "outputs": [],
   "source": [
    "evening_morning.to_pickle(f'{path_to_save}/evening_morning.pkl')"
   ]
  }
 ],
 "metadata": {
  "kernelspec": {
   "display_name": "Python 3 (ipykernel)",
   "language": "python",
   "name": "python3"
  },
  "language_info": {
   "codemirror_mode": {
    "name": "ipython",
    "version": 3
   },
   "file_extension": ".py",
   "mimetype": "text/x-python",
   "name": "python",
   "nbconvert_exporter": "python",
   "pygments_lexer": "ipython3",
   "version": "3.11.7"
  }
 },
 "nbformat": 4,
 "nbformat_minor": 5
}

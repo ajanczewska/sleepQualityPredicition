{
 "cells": [
  {
   "cell_type": "code",
   "execution_count": null,
   "id": "d0a73235-0d3c-4dc0-b6ce-c6044c69678f",
   "metadata": {},
   "outputs": [],
   "source": [
    "import pandas as pd\n",
    "path = 'D:/DATA_THESIS/Projekt_nw_AG_AJ/Outputs_project_data_preprocessing'"
   ]
  },
  {
   "cell_type": "code",
   "execution_count": null,
   "id": "f81e21c2-a5c4-4d55-a9a8-bc5ceb4d5441",
   "metadata": {},
   "outputs": [],
   "source": [
    "e_m_day = pd.read_pickle(f'{path}/6_emotions_aggregates/m_e_emo_pre_without_sleep_impact.pkl')\n",
    "location_stats = pd.read_pickle(f'{path}/5_locations/number_of_locations_for_each_day.pkl')"
   ]
  },
  {
   "cell_type": "code",
   "execution_count": null,
   "id": "d9134aae-c309-42e1-838d-7ea8be469d9e",
   "metadata": {},
   "outputs": [],
   "source": [
    "e_m_day.head(3)"
   ]
  },
  {
   "cell_type": "code",
   "execution_count": null,
   "id": "c473edaf-a70f-419f-9bbe-6aba6401fd2a",
   "metadata": {},
   "outputs": [],
   "source": [
    "location_stats.head(3)"
   ]
  },
  {
   "cell_type": "code",
   "execution_count": null,
   "id": "916a9464-8758-48e1-adc4-8d34db7396e3",
   "metadata": {},
   "outputs": [],
   "source": [
    "location_stats['date'] = pd.to_datetime(location_stats['date'])\n",
    "location_stats['dateOfSleep'] = location_stats['date'] + pd.Timedelta(days=1)\n",
    "location_stats =location_stats.drop(['date'], axis=1)\n",
    "location_stats.rename(columns={'count': 'count_location'}, inplace=True)"
   ]
  },
  {
   "cell_type": "code",
   "execution_count": null,
   "id": "bfaffea5-a85f-48cc-8580-efaf06e50588",
   "metadata": {},
   "outputs": [],
   "source": [
    "merged_df = pd.merge( e_m_day,location_stats, on=['patient_id', 'dateOfSleep'], how='inner')"
   ]
  },
  {
   "cell_type": "code",
   "execution_count": null,
   "id": "f581fbbb-385f-4ba3-8584-c1b38a8d130d",
   "metadata": {},
   "outputs": [],
   "source": [
    "merged_df"
   ]
  },
  {
   "cell_type": "code",
   "execution_count": null,
   "id": "c821c509-c258-4c2f-8d3a-0ade80f900a2",
   "metadata": {},
   "outputs": [],
   "source": [
    "emotion = pd.read_pickle(f'{path}/6_emotions_aggregates/features_emotion.pkl')\n",
    "emotion"
   ]
  },
  {
   "cell_type": "markdown",
   "id": "2bcf965d-ce33-43d5-8d2f-4ebdd87888cf",
   "metadata": {},
   "source": [
    "# Merge with sleep"
   ]
  },
  {
   "cell_type": "code",
   "execution_count": null,
   "id": "02bc9067-4771-4a85-a3bd-ef012a0a1739",
   "metadata": {},
   "outputs": [],
   "source": [
    "merged_df.head(3)"
   ]
  },
  {
   "cell_type": "code",
   "execution_count": null,
   "id": "0a3f1868-3490-4350-a74a-11b07ebb1def",
   "metadata": {},
   "outputs": [],
   "source": [
    "sleepSegments = pd.read_pickle(f'{path}/4_sleep_from_the_phone/all_sleepSegments.pkl')"
   ]
  },
  {
   "cell_type": "code",
   "execution_count": null,
   "id": "455847e9-0bd5-4be7-a991-9969852de8a7",
   "metadata": {},
   "outputs": [],
   "source": [
    "sleepSegments"
   ]
  },
  {
   "cell_type": "code",
   "execution_count": null,
   "id": "3862e371-1c22-43d6-81dc-ca167ef7538d",
   "metadata": {},
   "outputs": [],
   "source": [
    "sleepSegments.rename(columns={'end_date': 'dateOfSleep'}, inplace=True)"
   ]
  },
  {
   "cell_type": "code",
   "execution_count": null,
   "id": "2145b264-447a-4434-8203-d972ac131a56",
   "metadata": {},
   "outputs": [],
   "source": [
    "sleepSegments = sleepSegments.drop(['hasMissingData', 'discriminator', 'start_date'], axis = 1)\n",
    "sleepSegments['dateOfSleep'] = pd.to_datetime(sleepSegments['dateOfSleep'])"
   ]
  },
  {
   "cell_type": "code",
   "execution_count": null,
   "id": "238cecd9-85f8-4269-acdd-e1191f0a5f97",
   "metadata": {},
   "outputs": [],
   "source": [
    "sleepSegments_loc_emd = pd.merge( sleepSegments,merged_df, on=['patient_id', 'dateOfSleep'], how='inner')"
   ]
  },
  {
   "cell_type": "code",
   "execution_count": null,
   "id": "c76c6abe-d8bf-48a5-a84a-d417c6436f74",
   "metadata": {},
   "outputs": [],
   "source": [
    "sleepSegments_loc_emd"
   ]
  },
  {
   "cell_type": "code",
   "execution_count": null,
   "id": "68552451-747e-419d-9b00-9ef2eabcc28d",
   "metadata": {},
   "outputs": [],
   "source": [
    "sleepSegments_loc_emd.to_pickle(f'{path}/6_emotions_aggregates/m_e_emo_pre_loc_sleepSegments.pkl')"
   ]
  },
  {
   "cell_type": "code",
   "execution_count": null,
   "id": "4394ed01-8911-454f-838d-9b9b88bbd81f",
   "metadata": {},
   "outputs": [],
   "source": []
  },
  {
   "cell_type": "code",
   "execution_count": null,
   "id": "84dbd862-40d6-49c5-8bf3-b8edf07ecb99",
   "metadata": {},
   "outputs": [],
   "source": []
  }
 ],
 "metadata": {
  "kernelspec": {
   "display_name": "Python 3 (ipykernel)",
   "language": "python",
   "name": "python3"
  },
  "language_info": {
   "codemirror_mode": {
    "name": "ipython",
    "version": 3
   },
   "file_extension": ".py",
   "mimetype": "text/x-python",
   "name": "python",
   "nbconvert_exporter": "python",
   "pygments_lexer": "ipython3",
   "version": "3.11.7"
  }
 },
 "nbformat": 4,
 "nbformat_minor": 5
}

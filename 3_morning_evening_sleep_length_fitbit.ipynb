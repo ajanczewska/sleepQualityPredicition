{
 "cells": [
  {
   "cell_type": "code",
   "execution_count": null,
   "id": "92dfe506",
   "metadata": {},
   "outputs": [],
   "source": [
    "import pandas as pd\n",
    "from tqdm import tqdm\n",
    "from datetime import datetime, timedelta\n",
    "import torch\n",
    "import torch.nn as nn\n",
    "import torch.optim as optim\n",
    "from torch.utils.data import DataLoader, TensorDataset\n",
    "from torch.utils.data import Dataset\n",
    "from sklearn.model_selection import train_test_split\n",
    "import matplotlib.pyplot as plt\n",
    "from torch.nn import functional as F\n",
    "from torch.optim.lr_scheduler import StepLR\n",
    "from torch.nn.utils.rnn import pad_sequence\n",
    "\n",
    "import plotly.express as px\n"
   ]
  },
  {
   "cell_type": "markdown",
   "id": "e9413cca-a8d7-4119-b143-e4c902e9608a",
   "metadata": {},
   "source": [
    "# Analysis of 1 iteration"
   ]
  },
  {
   "cell_type": "code",
   "execution_count": null,
   "id": "75c02932-cc89-44a6-8811-07435fe25845",
   "metadata": {},
   "outputs": [],
   "source": [
    "path_to_folder = 'D:/DATA_THESIS/Projekt_nw_AG_AJ/Outputs_project_data_preprocessing'"
   ]
  },
  {
   "cell_type": "code",
   "execution_count": null,
   "id": "13be7051-7d3f-4abb-8d71-ec66f316ca26",
   "metadata": {},
   "outputs": [],
   "source": [
    "sleep_data_i01 = pd.read_pickle(\"all_fitbits/iteration_01_sleep.pkl\")"
   ]
  },
  {
   "cell_type": "code",
   "execution_count": null,
   "id": "f7a53c25-7731-4d9d-9e2b-1a90fc172252",
   "metadata": {},
   "outputs": [],
   "source": [
    "for patient in sleep_data_i01['patient_id'].unique():\n",
    "    # filter for 1 patient\n",
    "    single_patient = sleep_data_i01[sleep_data_i01['patient_id'] == patient]\n",
    "    # plot for each patient the date and the length of the sleep\n",
    "    single_patient = single_patient.drop_duplicates(['dateOfSleep'])\n",
    "    # display(single_patient)\n",
    "    fig = px.bar(single_patient, x='dateOfSleep', y=\"timeInBed\",color='mainSleep', hover_data = ['startTime'], title = f'Patient: {patient}')\n",
    "    fig.show()"
   ]
  },
  {
   "cell_type": "markdown",
   "id": "d757cd27-e134-4faa-b72b-8022e0747658",
   "metadata": {},
   "source": [
    "# Load data from 1st notebook - 1_morning_evening_emotion\n",
    "* load the file with merged evening_morning data"
   ]
  },
  {
   "cell_type": "code",
   "execution_count": null,
   "id": "509b6b7b",
   "metadata": {},
   "outputs": [],
   "source": [
    "evening_morning = pd.read_pickle(f'{path_to_folder}/Outputs_project_data_preprocessing/1_data/evening_morning.pkl')"
   ]
  },
  {
   "cell_type": "code",
   "execution_count": null,
   "id": "ed5f5e8c-9b2a-4e5d-ae7f-3640d57527f5",
   "metadata": {},
   "outputs": [],
   "source": [
    "len(list(evening_morning['id'].unique()))"
   ]
  },
  {
   "cell_type": "markdown",
   "id": "7628fbb0-5b10-4eb1-999b-6340fc9fa08a",
   "metadata": {},
   "source": [
    "# Load long sleep for all the iterations from notebook 2_fitbit_sleep_data\n"
   ]
  },
  {
   "cell_type": "code",
   "execution_count": null,
   "id": "fbcd2e33",
   "metadata": {},
   "outputs": [],
   "source": [
    "sleep_data = pd.read_pickle(f\"{path_to_folder}/Outputs_project_data_preprocessing/2_fitbit_sleep/long_sleep_all_iterations.pkl\")"
   ]
  },
  {
   "cell_type": "code",
   "execution_count": null,
   "id": "4eda5330",
   "metadata": {},
   "outputs": [],
   "source": [
    "len(list(sleep_data['patient_id'].unique()))"
   ]
  },
  {
   "cell_type": "markdown",
   "id": "98073a45-033f-4065-ade4-b87b51d30d6f",
   "metadata": {},
   "source": [
    "# Join evening_morning and long_sleep_data"
   ]
  },
  {
   "cell_type": "code",
   "execution_count": null,
   "id": "cacfbded",
   "metadata": {},
   "outputs": [],
   "source": [
    "sleep_data['morning_date'] = pd.to_datetime(sleep_data['endTime']).dt.floor('D')\n",
    "evening_morning['morning_date'] = pd.to_datetime(evening_morning['filledTimestamp_morning']).dt.floor('D')"
   ]
  },
  {
   "cell_type": "code",
   "execution_count": null,
   "id": "8bb5a9b9",
   "metadata": {},
   "outputs": [],
   "source": [
    "sleep_data['id'] = sleep_data['patient_id']"
   ]
  },
  {
   "cell_type": "code",
   "execution_count": null,
   "id": "8e283583",
   "metadata": {},
   "outputs": [],
   "source": [
    "merged_df = pd.merge(sleep_data, evening_morning, on=['id', 'morning_date'])"
   ]
  },
  {
   "cell_type": "code",
   "execution_count": null,
   "id": "ed1ff0cb",
   "metadata": {},
   "outputs": [],
   "source": [
    "merged_df['minutesAfterWakeup'].value_counts().get(0, 0)"
   ]
  },
  {
   "cell_type": "code",
   "execution_count": null,
   "id": "a1862a29",
   "metadata": {
    "scrolled": true
   },
   "outputs": [],
   "source": [
    "merged_df.columns"
   ]
  },
  {
   "cell_type": "markdown",
   "id": "593163e6-f91b-4115-80f0-eaeea26b2d64",
   "metadata": {},
   "source": [
    "## Save joined dataframe as m_e_sleeplength \n",
    "\n",
    "m - stands for morning\n",
    "\n",
    "e - stands for evening"
   ]
  },
  {
   "cell_type": "code",
   "execution_count": null,
   "id": "06921fbd-54d4-462a-8e03-d4d7c6d84785",
   "metadata": {},
   "outputs": [],
   "source": [
    "merged_df.to_pickle(f\"{path_to_folder}/Outputs_project_data_preprocessing/3_questtionnaires_fitbit/m_e_sleeplength.pkl\")"
   ]
  },
  {
   "cell_type": "code",
   "execution_count": null,
   "id": "669415c9-b1da-4f98-a728-c9fd8600b3c3",
   "metadata": {},
   "outputs": [],
   "source": [
    "merged_df"
   ]
  },
  {
   "cell_type": "markdown",
   "id": "9f2c4991-f625-496b-a6a1-ac6a70fd10ee",
   "metadata": {},
   "source": [
    "# Load dataframe m_e_sleeplength.csv"
   ]
  },
  {
   "cell_type": "code",
   "execution_count": null,
   "id": "45b1e87d",
   "metadata": {},
   "outputs": [],
   "source": [
    "# merged_df = merged_df.drop(['duration', 'logId', 'minutesToFallAsleep', 'minutesAfterWakeup','patient_id', 'logType','infoCode', 'type', 'levels','mainSleep', 'Unnamed: 0'  ], axis = 1)"
   ]
  },
  {
   "cell_type": "code",
   "execution_count": null,
   "id": "5a496b35-9322-43aa-96b3-6992bde56403",
   "metadata": {},
   "outputs": [],
   "source": [
    "merged_df = pd.read_pickle(f\"{path_to_folder}/Outputs_project_data_preprocessing/3_questionnaires_fitbit/m_e_sleeplength.pkl\")"
   ]
  },
  {
   "cell_type": "code",
   "execution_count": null,
   "id": "4b377a7b",
   "metadata": {},
   "outputs": [],
   "source": [
    "# merged_df = merged_df.drop(['Unnamed: 0'], axis =1 )\n",
    "merged_df.columns"
   ]
  },
  {
   "cell_type": "code",
   "execution_count": null,
   "id": "6564f8fa-226b-4a73-899a-0959636ec8dd",
   "metadata": {},
   "outputs": [],
   "source": []
  },
  {
   "cell_type": "code",
   "execution_count": null,
   "id": "aa838e03-013f-4eb3-a477-007819c1fe6a",
   "metadata": {},
   "outputs": [],
   "source": [
    "clear_m_e_sl = merged_df.drop(['duration', 'filledTimestamp_evening', \n",
    "              'filledTimestamp_morning',\n",
    "                    'startTime', 'endTime', \n",
    "                    'id',\n",
    "                    'rest', 'stress', \n",
    "                    'composure', 'dateOfSleep',\n",
    "               'logId', 'minutesToFallAsleep', 'minutesAfterWakeup',\n",
    "               'efficiency', 'type', \n",
    "               'infoCode', 'logType', 'levels', 'mainSleep' ], axis =1)"
   ]
  },
  {
   "cell_type": "code",
   "execution_count": null,
   "id": "fec42420-726f-46ea-a667-6245c5a088aa",
   "metadata": {},
   "outputs": [],
   "source": [
    "clear_m_e_sl"
   ]
  },
  {
   "cell_type": "code",
   "execution_count": null,
   "id": "7e6ee16e-8743-4b0a-86d1-798711dcff05",
   "metadata": {},
   "outputs": [],
   "source": [
    "for patient in clear_m_e_sl['patient_id'].unique():\n",
    "    # filter for 1 patient\n",
    "    single_patient = clear_m_e_sl[clear_m_e_sl['patient_id'] == patient]\n",
    "    # plot for each patient the date and the length of the sleep\n",
    "    fig = px.bar(single_patient, x='morning_date', y=\"timeInBed\",color='sleepQuality', title = f'Patient: {patient}')\n",
    "    fig.show()"
   ]
  },
  {
   "cell_type": "code",
   "execution_count": null,
   "id": "6706254a-ec9b-4386-b72e-6ca8ec98bf4a",
   "metadata": {},
   "outputs": [],
   "source": [
    "# fix the data\n",
    "new_clear = pd.DataFrame()\n",
    "for patient in clear_m_e_sl['patient_id'].unique():\n",
    "    # filter for 1 patient\n",
    "    single_patient = clear_m_e_sl[clear_m_e_sl['patient_id'] == patient]\n",
    "    duplicated_dates = single_patient[single_patient.duplicated(subset=['morning_date'], keep=False)]\n",
    "    # display(duplicated_dates)\n",
    "\n",
    "    #  === if there are duplicates ===\n",
    "    if duplicated_dates['morning_date'].empty ==False:\n",
    "        # print(\"not empty\")\n",
    "        # print(len(list(single_patient['morning_date'])))\n",
    "    # === remove duplicates to replace later with the single row ===\n",
    "        single_patient = single_patient.drop_duplicates(subset=['morning_date'], keep=False)\n",
    "        # print(len(list(single_patient['morning_date'])))\n",
    "    #  === for each duplicated date ===\n",
    "        for i in duplicated_dates['morning_date'].unique():\n",
    "            # print(duplicated_dates[duplicated_dates['morning_date']==i][[\"minutesAsleep\", 'minutesAwake', 'timeInBed']].sum()\n",
    "            # display(duplicated_dates)\n",
    "            result_day = duplicated_dates[duplicated_dates['morning_date']==i].head(1)\n",
    "            # print(\"RESULT\")\n",
    "            # display(result_day)\n",
    "            result_day['minutesAsleep'] = duplicated_dates[duplicated_dates['morning_date']==i][\"minutesAsleep\"].sum()\n",
    "            result_day['minutesAwake'] = duplicated_dates[duplicated_dates['morning_date']==i][\"minutesAwake\"].sum()\n",
    "            result_day['timeInBed'] = duplicated_dates[duplicated_dates['morning_date']==i][\"timeInBed\"].sum()\n",
    "            # print(\"RESULT\")\n",
    "            # display(result_day)\n",
    "            new_clear = pd.concat([new_clear, result_day], axis = 0)\n",
    "            # print(len(list(new_clear['morning_date'])))\n",
    "        new_clear = pd.concat([new_clear, single_patient], axis = 0)\n",
    "        # print(len(list(new_clear['morning_date'])))\n",
    "    else:\n",
    "            new_clear = pd.concat([new_clear, single_patient], axis = 0)\n",
    "        \n"
   ]
  },
  {
   "cell_type": "code",
   "execution_count": null,
   "id": "cdae4909-535c-49d0-bbab-12948715a1e4",
   "metadata": {},
   "outputs": [],
   "source": [
    "new_clear = new_clear.reset_index(drop = True)"
   ]
  },
  {
   "cell_type": "code",
   "execution_count": null,
   "id": "44d47b48-54c9-4066-8da7-eecf3c63ea97",
   "metadata": {},
   "outputs": [],
   "source": [
    "new_clear"
   ]
  },
  {
   "cell_type": "code",
   "execution_count": null,
   "id": "3fb6c540-c1c0-4d2d-a7e5-c9c429f560dd",
   "metadata": {},
   "outputs": [],
   "source": [
    "for patient in new_clear['patient_id'].unique():\n",
    "    # filter for 1 patient\n",
    "    single_patient = new_clear[new_clear['patient_id'] == patient]\n",
    "    # plot for each patient the date and the length of the sleep\n",
    "    fig = px.bar(single_patient, x='morning_date', y=\"timeInBed\",color='sleepQuality', title = f'Patient: {patient}')\n",
    "    fig.show()"
   ]
  },
  {
   "cell_type": "code",
   "execution_count": null,
   "id": "115425f4-7033-4146-b77f-af63ad775e39",
   "metadata": {},
   "outputs": [],
   "source": [
    "single_patient.index"
   ]
  },
  {
   "cell_type": "code",
   "execution_count": null,
   "id": "02cac75c-ef7d-425e-aa0d-cbe82a2479de",
   "metadata": {},
   "outputs": [],
   "source": [
    "# delete single data \n",
    "for patient in new_clear['patient_id'].unique():\n",
    "    # filter for 1 patient\n",
    "    single_patient = new_clear[new_clear['patient_id'] == patient]\n",
    "    if len(list(single_patient['patient_id'])) == 1:\n",
    "        display(single_patient)\n",
    "        new_clear = new_clear.drop([single_patient.index[0]])\n",
    "    new_clear = new_clear.reset_index(drop= True)\n",
    "    # display(duplicated_dates)"
   ]
  },
  {
   "cell_type": "code",
   "execution_count": null,
   "id": "ec4a2761-3113-4320-9fd6-ffcd79f00465",
   "metadata": {},
   "outputs": [],
   "source": [
    "for patient in new_clear['patient_id'].unique():\n",
    "    # filter for 1 patient\n",
    "    single_patient = new_clear[new_clear['patient_id'] == patient]\n",
    "    # plot for each patient the date and the length of the sleep\n",
    "    fig = px.bar(single_patient, x='morning_date', y=\"timeInBed\",color='sleepQuality', title = f'Patient: {patient}')\n",
    "    fig.show()"
   ]
  },
  {
   "cell_type": "code",
   "execution_count": null,
   "id": "bf3c7191-66fa-4d09-8570-e6992fd7c3db",
   "metadata": {
    "scrolled": true
   },
   "outputs": [],
   "source": [
    "new_clear.columns"
   ]
  },
  {
   "cell_type": "markdown",
   "id": "07e41860-51e5-41bc-b5fa-bb66caf2807a",
   "metadata": {},
   "source": [
    "# Interpolate the missing data"
   ]
  },
  {
   "cell_type": "code",
   "execution_count": null,
   "id": "3dd7a0fe-c2d9-4fdb-bb1f-983bfd78e701",
   "metadata": {},
   "outputs": [],
   "source": [
    "interpolated_df = pd.DataFrame()\n",
    "for patient in new_clear['patient_id'].unique():\n",
    "    # filter for 1 patient\n",
    "    single_patient = new_clear[new_clear['patient_id'] == patient]\n",
    "    min_date = single_patient['morning_date'].min()\n",
    "    max_date = single_patient['morning_date'].max()\n",
    "    \n",
    "    # Step 2: Generate a list of dates between min and max dates\n",
    "    all_dates = pd.date_range(start=min_date, end=max_date)\n",
    "    \n",
    "    # Step 3: Merge with the original DataFrame\n",
    "    all_dates_df = pd.DataFrame({'morning_date': all_dates})\n",
    "    # Convert 'morning_date' column to datetime if it's not already\n",
    "    single_patient['morning_date'] = pd.to_datetime(single_patient['morning_date'])\n",
    "    merged_df = pd.merge(all_dates_df, single_patient, on='morning_date', how='left')  \n",
    "    \n",
    "    # Step 4: Interpolate or fill missing values\n",
    "    columns_to_interpolate = ['minutesAsleep', 'minutesAwake', 'timeInBed', 'sleepQuality', 'overwhelm', 'health', 'mood', 'unpredictability', 'time_difference']\n",
    "    merged_df.loc[:, columns_to_interpolate] = merged_df.loc[:, columns_to_interpolate].interpolate(method='linear')\n",
    "    merged_df['patient_id'] = merged_df['patient_id'].fillna(patient)\n",
    "    interpolated_df = pd.concat([interpolated_df, merged_df], axis = 0)\n",
    "    # Resulting DataFrame will have approximate data for all dates between min and max date\n"
   ]
  },
  {
   "cell_type": "code",
   "execution_count": null,
   "id": "f35ee666-7657-4a5a-bf6d-8d72b7a067de",
   "metadata": {},
   "outputs": [],
   "source": [
    "for patient in interpolated_df['patient_id'].unique():\n",
    "    # filter for 1 patient\n",
    "    single_patient = interpolated_df[interpolated_df['patient_id'] == patient]\n",
    "    # plot for each patient the date and the length of the sleep\n",
    "    fig = px.bar(single_patient, x='morning_date', y=\"timeInBed\",color='sleepQuality', title = f'Patient: {patient}')\n",
    "    fig.show()"
   ]
  },
  {
   "cell_type": "code",
   "execution_count": null,
   "id": "e3dce13a-0452-4ccd-b18d-bc6b960d6354",
   "metadata": {},
   "outputs": [],
   "source": [
    "# interpolated_df.to_csv('interpolated_m_e_l.csv')"
   ]
  },
  {
   "cell_type": "code",
   "execution_count": null,
   "id": "7f06b7dd-2290-46ef-94ac-929c635c1443",
   "metadata": {},
   "outputs": [],
   "source": []
  },
  {
   "cell_type": "code",
   "execution_count": null,
   "id": "bda90d9e-0102-4216-8858-dc6c3e7a541b",
   "metadata": {},
   "outputs": [],
   "source": []
  }
 ],
 "metadata": {
  "kernelspec": {
   "display_name": "Python 3 (ipykernel)",
   "language": "python",
   "name": "python3"
  },
  "language_info": {
   "codemirror_mode": {
    "name": "ipython",
    "version": 3
   },
   "file_extension": ".py",
   "mimetype": "text/x-python",
   "name": "python",
   "nbconvert_exporter": "python",
   "pygments_lexer": "ipython3",
   "version": "3.11.7"
  }
 },
 "nbformat": 4,
 "nbformat_minor": 5
}

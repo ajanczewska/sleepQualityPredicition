{
 "cells": [
  {
   "cell_type": "code",
   "execution_count": null,
   "id": "44609c41-4ec6-4716-b14e-b842537ae784",
   "metadata": {},
   "outputs": [],
   "source": [
    "import pandas as pd\n",
    "from tqdm import tqdm\n",
    "from datetime import datetime, timedelta\n",
    "import torch\n",
    "import torch.nn as nn\n",
    "import torch.optim as optim\n",
    "from torch.utils.data import DataLoader, TensorDataset\n",
    "from torch.utils.data import Dataset\n",
    "from sklearn.model_selection import train_test_split\n",
    "import matplotlib.pyplot as plt\n",
    "from torch.nn import functional as F\n",
    "from torch.optim.lr_scheduler import StepLR\n",
    "from torch.nn.utils.rnn import pad_sequence\n",
    "import numpy as np\n",
    "import plotly.express as px\n",
    "import seaborn as sns\n",
    "from sklearn.utils.class_weight import compute_class_weight\n",
    "from torch.optim.lr_scheduler import LambdaLR\n",
    "from sklearn.metrics import accuracy_score\n",
    "\n",
    "\n",
    "from sklearn.ensemble import RandomForestClassifier\n"
   ]
  },
  {
   "cell_type": "markdown",
   "id": "7279e721-d426-4927-8b64-aa9318fb3cba",
   "metadata": {},
   "source": [
    "# Import evening / morning file"
   ]
  },
  {
   "cell_type": "code",
   "execution_count": null,
   "id": "9eab1588-d17d-4c23-80c1-d4fe798e1529",
   "metadata": {},
   "outputs": [],
   "source": [
    "path_to_folder = 'D:/DATA_THESIS/Projekt_nw_AG_AJ/Outputs_project_data_preprocessing'\n",
    "path_to_folder_questionnaires = ''"
   ]
  },
  {
   "cell_type": "code",
   "execution_count": null,
   "id": "df5010df-4263-44a2-8b39-da9763212595",
   "metadata": {},
   "outputs": [],
   "source": [
    "evening_morning_l = pd.read_pickle(f'{path_to_folder}/3_questionnaires_fitbit/m_e_sleeplength.pkl\")"
   ]
  },
  {
   "cell_type": "code",
   "execution_count": null,
   "id": "dd08540f-cd7a-4521-80e1-33e5335a0956",
   "metadata": {},
   "outputs": [],
   "source": [
    "evening_morning_l.columns"
   ]
  },
  {
   "cell_type": "code",
   "execution_count": null,
   "id": "c26f5b8f-b123-4700-a5aa-907716f6dbac",
   "metadata": {},
   "outputs": [],
   "source": [
    "evening_morning_l = evening_morning_l.drop([ 'logId',\n",
    "                                            # 'dateOfSleep', \n",
    "                                            'startTime', 'endTime',\n",
    "                                            'type', 'infoCode',\n",
    "                                            'minutesAwake', 'timeInBed',\n",
    "                                            'logType', 'levels', 'mainSleep','filledTimestamp_morning', \n",
    "                                            'filledTimestamp_evening', 'morning_date', 'time_difference',\n",
    "                                             # 'sleepQuality', 'composure','rest',\n",
    "                                              'id', 'minutesToFallAsleep', 'minutesAfterWakeup', 'duration', 'efficiency' ], axis=1)"
   ]
  },
  {
   "cell_type": "code",
   "execution_count": null,
   "id": "2577b314-3e0d-4bbd-ab4f-ca888d0f0bae",
   "metadata": {
    "scrolled": true
   },
   "outputs": [],
   "source": [
    "evening_morning_l"
   ]
  },
  {
   "cell_type": "markdown",
   "id": "3c5314dc-cb15-4ccc-904e-6b47884f479c",
   "metadata": {},
   "source": [
    "# Load questionaries pre"
   ]
  },
  {
   "cell_type": "code",
   "execution_count": null,
   "id": "991b6443-3ffe-4b86-b602-1226dbbd1e90",
   "metadata": {},
   "outputs": [],
   "source": [
    "pre_q = pd.read_csv('demography.csv')"
   ]
  },
  {
   "cell_type": "code",
   "execution_count": null,
   "id": "710e49e1-f1ce-44d8-959d-8c3bd1d60cce",
   "metadata": {},
   "outputs": [],
   "source": [
    "pre_q"
   ]
  },
  {
   "cell_type": "code",
   "execution_count": null,
   "id": "e5714b08-37e5-41ba-86df-e7bd534f8806",
   "metadata": {},
   "outputs": [],
   "source": [
    "pre_q['patient_id'] = pre_q['UID']"
   ]
  },
  {
   "cell_type": "code",
   "execution_count": null,
   "id": "401d970f-252a-4abc-9821-a9aad703d8e4",
   "metadata": {
    "scrolled": true
   },
   "outputs": [],
   "source": [
    "pre_q.columns"
   ]
  },
  {
   "cell_type": "markdown",
   "id": "337176cf-f952-45eb-b84d-5e6ce7878838",
   "metadata": {},
   "source": [
    "### usunięte\n",
    "- skąd wiesz o badaniu - informacja dla nas\n",
    "- ID - nic nie wnoszą liczby po kolei\n",
    "- 'Jaka jest Twoja narodowość?' , 'Czy język polski jest Twoim pierwszym lub ojczystym językiem?' - informacja dla zespołu badawczego\n",
    "- 'wiek' - już jest takie pytanie, poza tym zawiera NaN\n",
    "- 'rozmiar polar' - dla zespołu\n",
    "- 'Jak określasz swoją płeć?'- już jest pytanie\n",
    "- 'telefon' - dla zespołu"
   ]
  },
  {
   "cell_type": "code",
   "execution_count": null,
   "id": "354a9cbd-b0c4-48ef-8119-bd55a2c5619a",
   "metadata": {},
   "outputs": [],
   "source": [
    "eseitals = pre_q[[ \n",
    "       'Jaki jest Twój wiek (w latach, liczbą)?',\n",
    "       'Czy język polski jest Twoim pierwszym lub ojczystym językiem?',\n",
    "       'Czy masz dzieci w wieku poniżej 18 lat?',\n",
    "       'Jeśli masz dzieci, podaj proszę ich liczbę.',\n",
    "       'Czy na co dzień sprawujesz opiekę nad dziećmi?',\n",
    "       'Twoja sytuacja ekonomiczna w porównaniu do przeciętnej osoby w Twoim kraju jest:',\n",
    "       'Jaki jest Twój status zatrudnienia?',\n",
    "       'W jakim sektorze jesteś zatrudniony/a?',\n",
    "       'Jaki jest Twój status związku?',\n",
    "       'Ile osób łącznie z Tobą mieszka w gospodarstwie domowym?',\n",
    "       'Jakie masz wykształcenie?', \n",
    "        'Czy obecnie studiujesz?',\n",
    "       'Czy jesteś osobą religijną?',\n",
    "       'Z jakimi poglądami politycznymi się utożsamiasz na osi ekonomicznej?',\n",
    "       'Z jakimi poglądami politycznymi się utożsamiasz na osi światopoglądowej?',\n",
    "        'waga', 'wzrost',  'płeć',\n",
    "       'patient_id'\n",
    "                 ]]"
   ]
  },
  {
   "cell_type": "code",
   "execution_count": null,
   "id": "512c0715-0483-4394-94e7-96b51ed70ae4",
   "metadata": {},
   "outputs": [],
   "source": [
    "import pandas as pd\n",
    "\n",
    "# Assuming df1 and df2 are your two dataframes\n",
    "# Merge the two dataframes on the \"patient\" column\n",
    "merged_df = pd.merge(evening_morning_l, eseitals, on='patient_id', how='inner')\n"
   ]
  },
  {
   "cell_type": "code",
   "execution_count": null,
   "id": "69b55432-4711-4def-bd0a-ebd39ed2adeb",
   "metadata": {
    "scrolled": true
   },
   "outputs": [],
   "source": [
    "merged_df"
   ]
  },
  {
   "cell_type": "code",
   "execution_count": null,
   "id": "1d2fe751-6cca-415a-ab64-fd56a20d96c5",
   "metadata": {},
   "outputs": [],
   "source": [
    "merged_df['Twoja sytuacja ekonomiczna w porównaniu do przeciętnej osoby w Twoim kraju jest:'].unique()"
   ]
  },
  {
   "cell_type": "markdown",
   "id": "e34318df-6edb-4b9a-bc91-687c8fc5e94f",
   "metadata": {},
   "source": [
    "## Manage non-numeric data"
   ]
  },
  {
   "cell_type": "code",
   "execution_count": null,
   "id": "4a5972a0-3962-4084-9056-6b22b1b2b1ae",
   "metadata": {},
   "outputs": [],
   "source": [
    "# Get unique words from the column\n",
    "def string_to_numeric(df= merged_df, column_name = 'Twoja sytuacja ekonomiczna w porównaniu do przeciętnej osoby w Twoim kraju jest:'):\n",
    "    unique_words = df[column_name].unique()\n",
    "    \n",
    "    # Create a mapping dictionary\n",
    "    mapping = {word: idx for idx, word in enumerate(unique_words)}\n",
    "    \n",
    "    # Replace words with numbers\n",
    "    df[f'num_{column_name}'] = df[column_name].map(mapping)\n",
    "    \n",
    "    df = df.drop([column_name], axis = 1)\n",
    "    \n",
    "    return df"
   ]
  },
  {
   "cell_type": "code",
   "execution_count": null,
   "id": "7a72abba-5f46-42fc-aad2-c53d5081050f",
   "metadata": {},
   "outputs": [],
   "source": [
    "non_numeric_columns = merged_df.select_dtypes(exclude=['number']).columns.tolist()\n",
    "non_numeric_columns"
   ]
  },
  {
   "cell_type": "code",
   "execution_count": null,
   "id": "fe53b579-728a-416d-9536-ca332e665a53",
   "metadata": {},
   "outputs": [],
   "source": [
    "for num_col in [ 'Czy język polski jest Twoim pierwszym lub ojczystym językiem?',\n",
    " 'Czy masz dzieci w wieku poniżej 18 lat?',\n",
    " 'Jeśli masz dzieci, podaj proszę ich liczbę.',\n",
    " 'Czy na co dzień sprawujesz opiekę nad dziećmi?',\n",
    " 'Twoja sytuacja ekonomiczna w porównaniu do przeciętnej osoby w Twoim kraju jest:',\n",
    " 'Jaki jest Twój status zatrudnienia?',\n",
    " 'W jakim sektorze jesteś zatrudniony/a?',\n",
    " 'Jaki jest Twój status związku?',\n",
    " 'Ile osób łącznie z Tobą mieszka w gospodarstwie domowym?',\n",
    " 'Jakie masz wykształcenie?',\n",
    " 'Czy obecnie studiujesz?',\n",
    " 'Czy jesteś osobą religijną?',\n",
    " 'płeć']:\n",
    "    merged_df = string_to_numeric(merged_df, num_col)"
   ]
  },
  {
   "cell_type": "code",
   "execution_count": null,
   "id": "0591cc03-dfd4-4fff-ac2b-917516d891f3",
   "metadata": {
    "scrolled": true
   },
   "outputs": [],
   "source": [
    "merged_df.select_dtypes(exclude=['number']).columns.tolist()"
   ]
  },
  {
   "cell_type": "code",
   "execution_count": null,
   "id": "1ca5708b-4f3a-4e2d-9b56-60c9d91eb7de",
   "metadata": {
    "scrolled": true
   },
   "outputs": [],
   "source": [
    "merged_df"
   ]
  },
  {
   "cell_type": "code",
   "execution_count": null,
   "id": "6e6024e9-6768-472c-b4ec-87d87e5f7b58",
   "metadata": {},
   "outputs": [],
   "source": [
    "merged_df.columns[merged_df.isna().any()].tolist()\n",
    "rows_with_nan = merged_df[merged_df.isna().any(axis=1)]\n",
    "\n",
    "print(\"Rows with NaN values:\")\n",
    "rows_with_nan"
   ]
  },
  {
   "cell_type": "code",
   "execution_count": null,
   "id": "c234f800-6be2-4323-bc77-1b0e75043252",
   "metadata": {
    "scrolled": true
   },
   "outputs": [],
   "source": [
    "columns_with_nan = merged_df.columns[merged_df.isna().any()].tolist()\n",
    "print(\"Columns with NaN values:\")\n",
    "print(columns_with_nan)"
   ]
  },
  {
   "cell_type": "code",
   "execution_count": null,
   "id": "a9d709fa-300e-41fe-937e-920dfbd4bf09",
   "metadata": {},
   "outputs": [],
   "source": [
    "nan_counts = merged_df.isna().sum()\n",
    "\n",
    "# Total count of NaN values\n",
    "total_nan_count = nan_counts.sum()\n",
    "\n",
    "print(\"Total NaN values in the DataFrame:\", total_nan_count)"
   ]
  },
  {
   "cell_type": "code",
   "execution_count": null,
   "id": "10ca833f-c86b-4907-aefe-ea745d295d9d",
   "metadata": {},
   "outputs": [],
   "source": [
    "merged_df.to_csv(f'{path_to_folder}/6_emotions_aggregates/pre_questionaries_evening_morning.csv', index = False)"
   ]
  },
  {
   "cell_type": "markdown",
   "id": "f26b69da-11c1-4fe3-aa1a-f9fc8d3a9e44",
   "metadata": {},
   "source": [
    "# Add more data => emotion questionaries"
   ]
  },
  {
   "cell_type": "code",
   "execution_count": null,
   "id": "9b8ecea6-ddac-48b4-a6f3-97302c640e74",
   "metadata": {},
   "outputs": [],
   "source": [
    "import os\n",
    "import json\n",
    "from tqdm import tqdm\n",
    "list_patient = []\n",
    "list_id_patient = os.listdir(f\"{path_to_folder_questionnaires}/ankiety\")\n",
    "list_of_data_for_all_patients = []\n",
    "\n",
    "for iter in tqdm(list_id_patient):\n",
    "#     print('Patient: ', patient )\n",
    "    lista_id_iter = os.listdir(f'{path_to_folder_questionnaires}/ankiety/{iter}')\n",
    "    for patient in tqdm(lista_id_iter):\n",
    "    #     print('Patient: ', patient )\n",
    "        lista_id_emocion_patient = os.listdir(f'{path_to_folder_questionnaires}/ankiety/{iter}/{patient}/assessments/emotion')\n",
    "        for emotion in lista_id_emocion_patient:\n",
    "    #         print(\"Emotion: \", emotion)\n",
    "            f = open(f'{path_to_folder_questionnaires}/ankiety/{iter}/{patient}/assessments/emotion/{emotion}', encoding=\"utf8\")\n",
    "            data = json.load(f)\n",
    "            list_of_data_for_all_patients.append(data)\n",
    "            list_patient.append(patient)"
   ]
  },
  {
   "cell_type": "code",
   "execution_count": null,
   "id": "5ba7d1aa-81f0-43e2-9fd8-dcf24c8cdb1d",
   "metadata": {},
   "outputs": [],
   "source": [
    "list_id_patient"
   ]
  },
  {
   "cell_type": "code",
   "execution_count": null,
   "id": "3eae7137-7dab-43ca-aa65-0f9d441733e8",
   "metadata": {},
   "outputs": [],
   "source": [
    "import pandas as pd\n",
    "from glob import glob\n",
    "\n",
    "df = pd.DataFrame()\n",
    "for iter in tqdm(list_id_patient):\n",
    "    lista_id_iter = os.listdir(f'C:/Users/Admin/Thesis/data/ankiety/{iter}')\n",
    "    for patient in tqdm(lista_id_iter):\n",
    "        patient_data = pd.concat([pd.read_json(f_name, lines=True) for f_name in glob(f'C:/Users/Admin/Thesis/data/ankiety/{iter}/{patient}/assessments/emotion/*.json')])\n",
    "        patient_data['patient_id'] = patient\n",
    "        df = pd.concat([df, patient_data])"
   ]
  },
  {
   "cell_type": "code",
   "execution_count": null,
   "id": "fcde68cc-a5f2-4c5a-9ef8-648bba5ab732",
   "metadata": {
    "scrolled": true
   },
   "outputs": [],
   "source": [
    "emotions_df = df.copy().reset_index(drop=True)\n",
    "emotions_df"
   ]
  },
  {
   "cell_type": "code",
   "execution_count": null,
   "id": "8ddd06e0-83c3-4776-b259-4340db0e9392",
   "metadata": {},
   "outputs": [],
   "source": [
    "emotions_df['emotionTimestamp'][25192]\n"
   ]
  },
  {
   "cell_type": "code",
   "execution_count": null,
   "id": "f0308955-5bf7-4cbe-b577-90673204d183",
   "metadata": {},
   "outputs": [],
   "source": [
    "emotions_df['emotionTimestamp'] = emotions_df['emotionTimestamp'].apply(lambda x: datetime.strptime(x, '%Y-%m-%dT%H:%M:%S.%f') if '.' in x else datetime.strptime(x, '%Y-%m-%dT%H:%M:%S'))\n",
    "\n",
    "emotions_df['date'] = pd.to_datetime(emotions_df['emotionTimestamp'])\n",
    "emotions_df['hour'] = emotions_df['date'].dt.hour\n",
    "emotions_df['dateOfSleep'] = pd.to_datetime(emotions_df['date']).dt.floor('D')\n",
    "\n",
    "emotions_df['dateOfSleep'] = emotions_df['dateOfSleep'] + pd.Timedelta(days=1)"
   ]
  },
  {
   "cell_type": "code",
   "execution_count": null,
   "id": "b7f8ad87-d7e2-4782-abe4-e7cac28606ad",
   "metadata": {
    "scrolled": true
   },
   "outputs": [],
   "source": [
    "emotions_df"
   ]
  },
  {
   "cell_type": "code",
   "execution_count": null,
   "id": "a7d7cfeb-a57a-49ac-8938-1806518d79a5",
   "metadata": {},
   "outputs": [],
   "source": [
    "result_df = emotions_df.copy() \n",
    "\n",
    "contains_dict = result_df.map(lambda x: isinstance(x, dict)).any()\n",
    "print(\"Columns containing dictionaries:\")\n",
    "print(contains_dict)\n",
    "\n",
    "columns_with_dicts = contains_dict[contains_dict].index.tolist()\n",
    "print(\"Columns containing dictionaries:\")\n",
    "print(columns_with_dicts)\n",
    "\n",
    "\n",
    "list_of_columns_with_dict = columns_with_dicts\n",
    "for column in list_of_columns_with_dict:\n",
    "    # Expanding predictions\n",
    "#     display(result_df.head(3))\n",
    "    result_df[column].fillna({}, inplace=True)\n",
    "    expanded_df = pd.json_normalize(result_df[column])\n",
    "    result_df.reset_index(drop=True, inplace=True)\n",
    "    expanded_df.reset_index(drop=True, inplace=True)\n",
    "    result_df = pd.concat([result_df, expanded_df], axis=1)\n",
    "    result_df = result_df.drop(column, axis=1)"
   ]
  },
  {
   "cell_type": "code",
   "execution_count": null,
   "id": "90399907-7675-4ce4-afb0-97fb337ab203",
   "metadata": {},
   "outputs": [],
   "source": [
    "result_df.columns"
   ]
  },
  {
   "cell_type": "code",
   "execution_count": null,
   "id": "ff8f997d-ec2f-4560-bf38-08a64801e9ca",
   "metadata": {},
   "outputs": [],
   "source": [
    "emotions_df = result_df.copy()"
   ]
  },
  {
   "cell_type": "code",
   "execution_count": null,
   "id": "d95201ee-e529-4f46-a1c0-fe81d9234286",
   "metadata": {},
   "outputs": [],
   "source": [
    "emotions_df"
   ]
  },
  {
   "cell_type": "code",
   "execution_count": null,
   "id": "daa6a6c0-3a96-4831-9fe5-9197d55a99d9",
   "metadata": {},
   "outputs": [],
   "source": [
    "emotions_df['intenseEmotion'].unique()"
   ]
  },
  {
   "cell_type": "markdown",
   "id": "25bd0181-eecb-4d2e-812f-7cae16dfef7d",
   "metadata": {},
   "source": [
    "## join features in one column"
   ]
  },
  {
   "cell_type": "code",
   "execution_count": null,
   "id": "39c818fe-28b1-46ec-a6a4-6d478e2a85d8",
   "metadata": {},
   "outputs": [],
   "source": [
    "unique_values = {np.nan: 0, 'DONT_KNOW': 1, 'NO': 2, 'YES': 3}\n",
    "emotions_df.replace({'intenseEmotion': unique_values}, inplace=True)"
   ]
  },
  {
   "cell_type": "code",
   "execution_count": null,
   "id": "2377d335-a9e4-4cd3-b6fa-8850ee99f7ff",
   "metadata": {},
   "outputs": [],
   "source": [
    "emotions_df['intenseEmotion'].unique()"
   ]
  },
  {
   "cell_type": "code",
   "execution_count": null,
   "id": "dc491a76-66dd-4ba5-95b0-3bc3febc94c4",
   "metadata": {},
   "outputs": [],
   "source": [
    "# replace NAN with max_value+1\n",
    "max_values = emotions_df[['intenseEmotion', 'valence', 'arousal']].max(axis=0) + 1\n",
    "emotions_df.fillna(max_values, inplace=True)"
   ]
  },
  {
   "cell_type": "code",
   "execution_count": null,
   "id": "df705ae2-4412-4138-98b0-db65267adf4d",
   "metadata": {},
   "outputs": [],
   "source": [
    "emotions_df"
   ]
  },
  {
   "cell_type": "code",
   "execution_count": null,
   "id": "a4ec726d-af5f-4a7c-9edc-a3002e4690a2",
   "metadata": {},
   "outputs": [],
   "source": [
    "emotions_df['features'] = emotions_df[['intenseEmotion', 'valence', 'arousal']].values.tolist()"
   ]
  },
  {
   "cell_type": "code",
   "execution_count": null,
   "id": "e1b05997-47ba-4439-aed5-46e4f139d183",
   "metadata": {
    "scrolled": true
   },
   "outputs": [],
   "source": [
    "emotions_df"
   ]
  },
  {
   "cell_type": "code",
   "execution_count": null,
   "id": "0137f4be-ceb5-4393-ab23-46a5b5bdd2cd",
   "metadata": {},
   "outputs": [],
   "source": [
    "grouped_df = emotions_df.groupby(['patient_id', 'dateOfSleep'])[['intenseEmotion', 'valence', 'arousal', 'hour']].apply(lambda x: x.values.tolist()).reset_index()"
   ]
  },
  {
   "cell_type": "code",
   "execution_count": null,
   "id": "b53c2a19-286c-4ed5-9d6a-aede525b3e15",
   "metadata": {},
   "outputs": [],
   "source": [
    "grouped_df[0][0][0][0]"
   ]
  },
  {
   "cell_type": "code",
   "execution_count": null,
   "id": "58deea95-2599-4298-bcbc-7485b19e9a34",
   "metadata": {},
   "outputs": [],
   "source": [
    "len(list(grouped_df['patient_id'].unique()))"
   ]
  },
  {
   "cell_type": "code",
   "execution_count": null,
   "id": "182cac01-0e64-448c-a711-efa2b6c9e539",
   "metadata": {},
   "outputs": [],
   "source": [
    "grouped_df.rename(columns={0: 'features'}, inplace=True)"
   ]
  },
  {
   "cell_type": "code",
   "execution_count": null,
   "id": "309da4fb-6387-49f3-a763-cd7ddf6e4d58",
   "metadata": {},
   "outputs": [],
   "source": [
    "grouped_df"
   ]
  },
  {
   "cell_type": "code",
   "execution_count": null,
   "id": "a517a377-7e09-4389-91c9-9f6e401918db",
   "metadata": {},
   "outputs": [],
   "source": [
    "# grouped_df.to_pickle('features_emotion_hour.plk')"
   ]
  },
  {
   "cell_type": "code",
   "execution_count": null,
   "id": "dbd124db-e345-4166-8c20-b7f591b05a1f",
   "metadata": {
    "scrolled": true
   },
   "outputs": [],
   "source": [
    "len(list(emotions_df['patient_id'].unique()))"
   ]
  },
  {
   "cell_type": "code",
   "execution_count": null,
   "id": "b81c24c2-af79-4a1a-b17d-b02ff0c9f3c7",
   "metadata": {},
   "outputs": [],
   "source": [
    "emotions_df = emotions_df.drop(['features'], axis=1)"
   ]
  },
  {
   "cell_type": "markdown",
   "id": "4fe2d4b9-32fc-497a-a677-ca68e2df0480",
   "metadata": {},
   "source": [
    "## Merge with date"
   ]
  },
  {
   "cell_type": "code",
   "execution_count": null,
   "id": "38fe7860-5470-49ee-9f63-581e46631b49",
   "metadata": {},
   "outputs": [],
   "source": [
    "evening_morning_l = pd.read_pickle(\"3_questionnaires_fitbit/m_e_sleeplength.pkl\")"
   ]
  },
  {
   "cell_type": "code",
   "execution_count": null,
   "id": "24cb6f20-eacc-4603-93e2-8ac1f8f0363f",
   "metadata": {},
   "outputs": [],
   "source": [
    "evening_morning_l = evening_morning_l.drop([ 'logId', 'startTime', 'endTime',\n",
    "                                            'type', 'infoCode',\n",
    "                                            'minutesAwake', 'timeInBed',\n",
    "                                            'logType', 'levels', 'mainSleep','filledTimestamp_morning', \n",
    "                                            'filledTimestamp_evening', 'morning_date', 'time_difference',\n",
    "                                             'sleepQuality', 'composure','rest' , 'id', 'minutesToFallAsleep', 'minutesAfterWakeup', 'duration', 'efficiency' ], axis=1)"
   ]
  },
  {
   "cell_type": "code",
   "execution_count": null,
   "id": "e60b14a2-cfc2-422a-ae9f-e7b0a82745ab",
   "metadata": {},
   "outputs": [],
   "source": [
    "merged_df = pd.merge(evening_morning_l, eseitals, on='patient_id', how='inner')"
   ]
  },
  {
   "cell_type": "code",
   "execution_count": null,
   "id": "90b4c741-ef33-4740-be7e-17699c4db0e1",
   "metadata": {},
   "outputs": [],
   "source": [
    "merged_df"
   ]
  },
  {
   "cell_type": "code",
   "execution_count": null,
   "id": "37dbf45e-1e5a-49eb-ac3e-3b1095dbeab0",
   "metadata": {},
   "outputs": [],
   "source": [
    "merged_df['dateOfSleep'] = pd.to_datetime(merged_df['dateOfSleep'])\n",
    "emotions_df['dateOfSleep'] = pd.to_datetime(emotions_df['dateOfSleep'])\n",
    "# emotions_df = emotions_df[['features', 'dateOfSleep', 'patient_id']]\n",
    "merged_with_emotion = pd.merge(emotions_df, merged_df, on=['patient_id','dateOfSleep' ], how='inner')\n",
    "# merged_with_emotion = pd.merge(merged_with_emotion, grouped_df, on=['patient_id','dateOfSleep' ], how='inner')"
   ]
  },
  {
   "cell_type": "code",
   "execution_count": null,
   "id": "48aba8f6-223e-4a45-835e-4eea4183294a",
   "metadata": {
    "scrolled": true
   },
   "outputs": [],
   "source": [
    "emotions_df.columns"
   ]
  },
  {
   "cell_type": "code",
   "execution_count": null,
   "id": "9dac9229-f1a0-4f4a-8819-ed09f60eafc5",
   "metadata": {},
   "outputs": [],
   "source": [
    "merged_with_emotion[['emotionTimestamp', 'dateOfSleep']]"
   ]
  },
  {
   "cell_type": "code",
   "execution_count": null,
   "id": "4687e152-7898-400b-897a-e121933155eb",
   "metadata": {},
   "outputs": [],
   "source": [
    "non_numeric_columns = merged_with_emotion.select_dtypes(exclude=['number']).columns.tolist()\n",
    "non_numeric_columns"
   ]
  },
  {
   "cell_type": "code",
   "execution_count": null,
   "id": "dbf3f331-98fb-4c71-ad9e-357968935ccc",
   "metadata": {},
   "outputs": [],
   "source": [
    "non_num_col = [\n",
    "    # 'Jak określasz swoją płeć?',\n",
    " 'Twoja sytuacja ekonomiczna w porównaniu do przeciętnej osoby w Twoim kraju jest:',\n",
    " 'Ile osób łącznie z Tobą mieszka w gospodarstwie domowym?',\n",
    " 'Czy obecnie studiujesz?']\n",
    "for num_col in non_num_col:\n",
    "    merged_with_emotion = string_to_numeric(merged_with_emotion, num_col)"
   ]
  },
  {
   "cell_type": "code",
   "execution_count": null,
   "id": "04f99c9e-b386-4221-9bd2-66e1e5150014",
   "metadata": {
    "scrolled": true
   },
   "outputs": [],
   "source": [
    "merged_with_emotion.select_dtypes(exclude=['number']).columns.tolist()"
   ]
  },
  {
   "cell_type": "code",
   "execution_count": null,
   "id": "5188402d-22d1-4473-973e-77a60898f8df",
   "metadata": {
    "scrolled": true
   },
   "outputs": [],
   "source": [
    "merged_with_emotion"
   ]
  },
  {
   "cell_type": "code",
   "execution_count": null,
   "id": "84b97701-527f-4c87-baf4-7c1e2d386015",
   "metadata": {
    "scrolled": true
   },
   "outputs": [],
   "source": [
    "merged_with_emotion.columns[merged_with_emotion.isna().any()].tolist()\n",
    "rows_with_nan = merged_with_emotion[merged_with_emotion.isna().any(axis=1)]\n",
    "\n",
    "print(\"Rows with NaN values:\")\n",
    "rows_with_nan"
   ]
  },
  {
   "cell_type": "code",
   "execution_count": null,
   "id": "e9521cd5-3012-4bc3-a644-1c0d0bd9200b",
   "metadata": {},
   "outputs": [],
   "source": [
    "columns_with_nan = merged_with_emotion.columns[merged_with_emotion.isna().any()].tolist()\n",
    "print(\"Columns with NaN values:\")\n",
    "print(columns_with_nan)"
   ]
  },
  {
   "cell_type": "code",
   "execution_count": null,
   "id": "a90135fc-1781-4154-8bbe-2d9c50c65a91",
   "metadata": {},
   "outputs": [],
   "source": [
    "merged_with_emotion"
   ]
  },
  {
   "cell_type": "code",
   "execution_count": null,
   "id": "ff94dcc6-d165-4485-be04-3613dff48d6e",
   "metadata": {},
   "outputs": [],
   "source": [
    "merged_with_emotion"
   ]
  },
  {
   "cell_type": "code",
   "execution_count": null,
   "id": "a94873a5-7696-43e3-8ecb-158112947928",
   "metadata": {},
   "outputs": [],
   "source": [
    "merged_with_emotion.to_csv(f'{path_to_folder}/6_emotions_aggregates/emotion_evening_morning.csv', index=False)"
   ]
  },
  {
   "cell_type": "code",
   "execution_count": null,
   "id": "c43dce76-8062-4704-a767-8e0a6ad5e8d7",
   "metadata": {},
   "outputs": [],
   "source": []
  },
  {
   "cell_type": "code",
   "execution_count": null,
   "id": "126b7db0-ff13-40ff-92eb-a5315e09a193",
   "metadata": {},
   "outputs": [],
   "source": []
  },
  {
   "cell_type": "code",
   "execution_count": null,
   "id": "400ae7f8-211c-4109-b031-0f853b419a21",
   "metadata": {},
   "outputs": [],
   "source": []
  }
 ],
 "metadata": {
  "kernelspec": {
   "display_name": "Python 3 (ipykernel)",
   "language": "python",
   "name": "python3"
  },
  "language_info": {
   "codemirror_mode": {
    "name": "ipython",
    "version": 3
   },
   "file_extension": ".py",
   "mimetype": "text/x-python",
   "name": "python",
   "nbconvert_exporter": "python",
   "pygments_lexer": "ipython3",
   "version": "3.11.7"
  }
 },
 "nbformat": 4,
 "nbformat_minor": 5
}

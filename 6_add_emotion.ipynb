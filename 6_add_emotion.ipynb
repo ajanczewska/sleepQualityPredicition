{
 "cells": [
  {
   "cell_type": "code",
   "execution_count": null,
   "id": "44609c41-4ec6-4716-b14e-b842537ae784",
   "metadata": {},
   "outputs": [],
   "source": [
    "import pandas as pd\n",
    "from tqdm import tqdm\n",
    "from datetime import datetime, timedelta\n",
    "import torch\n",
    "import torch.nn as nn\n",
    "import torch.optim as optim\n",
    "from torch.utils.data import DataLoader, TensorDataset\n",
    "from torch.utils.data import Dataset\n",
    "from sklearn.model_selection import train_test_split\n",
    "import matplotlib.pyplot as plt\n",
    "from torch.nn import functional as F\n",
    "from torch.optim.lr_scheduler import StepLR\n",
    "from torch.nn.utils.rnn import pad_sequence\n",
    "import numpy as np\n",
    "import plotly.express as px\n",
    "import seaborn as sns\n",
    "from sklearn.utils.class_weight import compute_class_weight\n",
    "from torch.optim.lr_scheduler import LambdaLR\n",
    "from sklearn.metrics import accuracy_score\n",
    "\n",
    "from sklearn.ensemble import RandomForestClassifier\n"
   ]
  },
  {
   "cell_type": "code",
   "execution_count": null,
   "id": "02f6e69d-bb34-4197-9abd-439ea2b9a37e",
   "metadata": {},
   "outputs": [],
   "source": [
    "path_to_folder = 'D:/DATA_THESIS/Projekt_nw_AG_AJ/Outputs_project_data_preprocessing'\n",
    "path = \"C:/Users/Admin/Thesis/data/ankiety\""
   ]
  },
  {
   "cell_type": "code",
   "execution_count": null,
   "id": "9b8ecea6-ddac-48b4-a6f3-97302c640e74",
   "metadata": {},
   "outputs": [],
   "source": [
    "import os\n",
    "import json\n",
    "from tqdm import tqdm\n",
    "list_patient = []\n",
    "list_id_patient = os.listdir(path)\n",
    "list_of_data_for_all_patients = []\n",
    "\n",
    "for iter in tqdm(list_id_patient):\n",
    "#     print('Patient: ', patient )\n",
    "    lista_id_iter = os.listdir(f'{path}/{iter}')\n",
    "    for patient in tqdm(lista_id_iter):\n",
    "    #     print('Patient: ', patient )\n",
    "        lista_id_emocion_patient = os.listdir(f'{path}/{iter}/{patient}/assessments/emotion')\n",
    "        for emotion in lista_id_emocion_patient:\n",
    "    #         print(\"Emotion: \", emotion)\n",
    "            f = open(f'{path}/{iter}/{patient}/assessments/emotion/{emotion}', encoding=\"utf8\")\n",
    "            data = json.load(f)\n",
    "            list_of_data_for_all_patients.append(data)\n",
    "            list_patient.append(patient)"
   ]
  },
  {
   "cell_type": "code",
   "execution_count": null,
   "id": "5ba7d1aa-81f0-43e2-9fd8-dcf24c8cdb1d",
   "metadata": {},
   "outputs": [],
   "source": [
    "list_id_patient"
   ]
  },
  {
   "cell_type": "code",
   "execution_count": null,
   "id": "3eae7137-7dab-43ca-aa65-0f9d441733e8",
   "metadata": {},
   "outputs": [],
   "source": [
    "import pandas as pd\n",
    "from glob import glob\n",
    "\n",
    "df = pd.DataFrame()\n",
    "for iter in tqdm(list_id_patient):\n",
    "    lista_id_iter = os.listdir(f'{path}/{iter}')\n",
    "    for patient in tqdm(lista_id_iter):\n",
    "        patient_data = pd.concat([pd.read_json(f_name, lines=True) for f_name in glob(f'{path}/{iter}/{patient}/assessments/emotion/*.json')])\n",
    "        patient_data['patient_id'] = patient\n",
    "        df = pd.concat([df, patient_data])"
   ]
  },
  {
   "cell_type": "code",
   "execution_count": null,
   "id": "fcde68cc-a5f2-4c5a-9ef8-648bba5ab732",
   "metadata": {
    "scrolled": true
   },
   "outputs": [],
   "source": [
    "emotions_df = df.copy().reset_index(drop=True)\n",
    "emotions_df"
   ]
  },
  {
   "cell_type": "code",
   "execution_count": null,
   "id": "8ddd06e0-83c3-4776-b259-4340db0e9392",
   "metadata": {},
   "outputs": [],
   "source": [
    "emotions_df['emotionTimestamp'][25192]\n"
   ]
  },
  {
   "cell_type": "code",
   "execution_count": null,
   "id": "f0308955-5bf7-4cbe-b577-90673204d183",
   "metadata": {},
   "outputs": [],
   "source": [
    "emotions_df['emotionTimestamp'] = emotions_df['emotionTimestamp'].apply(lambda x: datetime.strptime(x, '%Y-%m-%dT%H:%M:%S.%f') if '.' in x else datetime.strptime(x, '%Y-%m-%dT%H:%M:%S'))\n",
    "\n",
    "emotions_df['date'] = pd.to_datetime(emotions_df['emotionTimestamp'])\n",
    "emotions_df['hour'] = emotions_df['date'].dt.hour\n",
    "emotions_df['dateOfSleep'] = pd.to_datetime(emotions_df['date']).dt.floor('D')\n",
    "\n",
    "emotions_df['dateOfSleep'] = emotions_df['dateOfSleep'] + pd.Timedelta(days=1)"
   ]
  },
  {
   "cell_type": "code",
   "execution_count": null,
   "id": "b7f8ad87-d7e2-4782-abe4-e7cac28606ad",
   "metadata": {
    "scrolled": true
   },
   "outputs": [],
   "source": [
    "emotions_df"
   ]
  },
  {
   "cell_type": "code",
   "execution_count": null,
   "id": "a7d7cfeb-a57a-49ac-8938-1806518d79a5",
   "metadata": {},
   "outputs": [],
   "source": [
    "result_df = emotions_df.copy() \n",
    "\n",
    "contains_dict = result_df.map(lambda x: isinstance(x, dict)).any()\n",
    "print(\"Columns containing dictionaries:\")\n",
    "print(contains_dict)\n",
    "\n",
    "columns_with_dicts = contains_dict[contains_dict].index.tolist()\n",
    "print(\"Columns containing dictionaries:\")\n",
    "print(columns_with_dicts)\n",
    "\n",
    "\n",
    "list_of_columns_with_dict = columns_with_dicts\n",
    "for column in list_of_columns_with_dict:\n",
    "    # Expanding predictions\n",
    "#     display(result_df.head(3))\n",
    "    result_df[column].fillna({}, inplace=True)\n",
    "    expanded_df = pd.json_normalize(result_df[column])\n",
    "    result_df.reset_index(drop=True, inplace=True)\n",
    "    expanded_df.reset_index(drop=True, inplace=True)\n",
    "    result_df = pd.concat([result_df, expanded_df], axis=1)\n",
    "    result_df = result_df.drop(column, axis=1)"
   ]
  },
  {
   "cell_type": "code",
   "execution_count": null,
   "id": "90399907-7675-4ce4-afb0-97fb337ab203",
   "metadata": {},
   "outputs": [],
   "source": [
    "result_df.columns"
   ]
  },
  {
   "cell_type": "code",
   "execution_count": null,
   "id": "ff8f997d-ec2f-4560-bf38-08a64801e9ca",
   "metadata": {},
   "outputs": [],
   "source": [
    "emotions_df = result_df.copy()"
   ]
  },
  {
   "cell_type": "code",
   "execution_count": null,
   "id": "d95201ee-e529-4f46-a1c0-fe81d9234286",
   "metadata": {},
   "outputs": [],
   "source": [
    "emotions_df"
   ]
  },
  {
   "cell_type": "code",
   "execution_count": null,
   "id": "daa6a6c0-3a96-4831-9fe5-9197d55a99d9",
   "metadata": {},
   "outputs": [],
   "source": [
    "emotions_df['intenseEmotion'].unique()"
   ]
  },
  {
   "cell_type": "markdown",
   "id": "25bd0181-eecb-4d2e-812f-7cae16dfef7d",
   "metadata": {},
   "source": [
    "## join features in one column"
   ]
  },
  {
   "cell_type": "code",
   "execution_count": null,
   "id": "39c818fe-28b1-46ec-a6a4-6d478e2a85d8",
   "metadata": {},
   "outputs": [],
   "source": [
    "unique_values = {np.nan: 0, 'DONT_KNOW': 1, 'NO': 2, 'YES': 3}\n",
    "emotions_df.replace({'intenseEmotion': unique_values}, inplace=True)"
   ]
  },
  {
   "cell_type": "code",
   "execution_count": null,
   "id": "2377d335-a9e4-4cd3-b6fa-8850ee99f7ff",
   "metadata": {},
   "outputs": [],
   "source": [
    "emotions_df['intenseEmotion'].unique()"
   ]
  },
  {
   "cell_type": "code",
   "execution_count": null,
   "id": "a4ec726d-af5f-4a7c-9edc-a3002e4690a2",
   "metadata": {},
   "outputs": [],
   "source": [
    "emotions_df['features'] = emotions_df[['intenseEmotion', 'valence', 'arousal']].values.tolist()\n",
    "\n",
    "# Group by date and id, and aggregate features into a list\n",
    "# grouped = emotions_df.groupby([ 'patient_id'])['features'].agg(list).reset_index()\n",
    "\n",
    "# Drop individual feature columns if needed\n",
    "# grouped.drop(['intenseEmotion', 'valence', 'arousal', 'hour'], axis=1, inplace=True)\n",
    "# grouped_df = emotions_df.groupby('dateOfSleep').agg({ 'features': lambda x: list(x)}).reset_index()\n",
    "\n",
    "# grouped_df['dateOfSleep']"
   ]
  },
  {
   "cell_type": "code",
   "execution_count": null,
   "id": "e1b05997-47ba-4439-aed5-46e4f139d183",
   "metadata": {
    "scrolled": true
   },
   "outputs": [],
   "source": [
    "emotions_df"
   ]
  },
  {
   "cell_type": "code",
   "execution_count": null,
   "id": "0137f4be-ceb5-4393-ab23-46a5b5bdd2cd",
   "metadata": {},
   "outputs": [],
   "source": [
    "grouped_df = emotions_df.groupby(['patient_id', 'dateOfSleep'])[['intenseEmotion', 'valence', 'arousal']].apply(lambda x: x.values.tolist()).reset_index()"
   ]
  },
  {
   "cell_type": "code",
   "execution_count": null,
   "id": "b53c2a19-286c-4ed5-9d6a-aede525b3e15",
   "metadata": {},
   "outputs": [],
   "source": [
    "grouped_df[0][0][0][0]"
   ]
  },
  {
   "cell_type": "code",
   "execution_count": null,
   "id": "58deea95-2599-4298-bcbc-7485b19e9a34",
   "metadata": {},
   "outputs": [],
   "source": [
    "len(list(grouped_df['patient_id'].unique()))"
   ]
  },
  {
   "cell_type": "code",
   "execution_count": null,
   "id": "182cac01-0e64-448c-a711-efa2b6c9e539",
   "metadata": {},
   "outputs": [],
   "source": [
    "grouped_df.rename(columns={0: 'features'}, inplace=True)"
   ]
  },
  {
   "cell_type": "code",
   "execution_count": null,
   "id": "309da4fb-6387-49f3-a763-cd7ddf6e4d58",
   "metadata": {},
   "outputs": [],
   "source": [
    "grouped_df"
   ]
  },
  {
   "cell_type": "code",
   "execution_count": null,
   "id": "c3068b31-0909-49cc-9f80-49e29be3c076",
   "metadata": {},
   "outputs": [],
   "source": [
    "grouped_df.to_pickle(f'{path_to_folder}/6_emotions_aggregates/features_emotion.pkl')"
   ]
  },
  {
   "cell_type": "code",
   "execution_count": null,
   "id": "db7e93a5-86c5-41ea-8e04-272be206d687",
   "metadata": {},
   "outputs": [],
   "source": []
  }
 ],
 "metadata": {
  "kernelspec": {
   "display_name": "Python 3 (ipykernel)",
   "language": "python",
   "name": "python3"
  },
  "language_info": {
   "codemirror_mode": {
    "name": "ipython",
    "version": 3
   },
   "file_extension": ".py",
   "mimetype": "text/x-python",
   "name": "python",
   "nbconvert_exporter": "python",
   "pygments_lexer": "ipython3",
   "version": "3.11.7"
  }
 },
 "nbformat": 4,
 "nbformat_minor": 5
}

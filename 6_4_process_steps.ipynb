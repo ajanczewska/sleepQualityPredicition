{
 "cells": [
  {
   "cell_type": "code",
   "execution_count": null,
   "id": "d32eadbc-f87f-4342-b2dd-b2f67fa59d3c",
   "metadata": {},
   "outputs": [],
   "source": [
    "import pandas as pd"
   ]
  },
  {
   "cell_type": "markdown",
   "id": "58f0a616-9d5e-4644-aeca-e15179f53927",
   "metadata": {},
   "source": [
    "## Check HR"
   ]
  },
  {
   "cell_type": "code",
   "execution_count": null,
   "id": "c1a2d12c-99f3-4642-8eef-0a835ffbffba",
   "metadata": {},
   "outputs": [],
   "source": [
    "path_to_folder = 'D:/DATA_THESIS/Projekt_nw_AG_AJ/Outputs_project_data_preprocessing'"
   ]
  },
  {
   "cell_type": "code",
   "execution_count": null,
   "id": "b23ec9ef-2837-44bb-96c2-6410c2045293",
   "metadata": {},
   "outputs": [],
   "source": [
    "import os\n",
    "import json\n",
    "from tqdm import tqdm\n",
    "\n",
    "# aggregated_data: data was generated using script data_preprocessing/samsung_polar_data_preprocessing.ipynb\n",
    "\n",
    "def import_files_to_df(file_name, path = 'D:/DATA_THESIS/Projekt_nw_AG_AJ/dataset/aggregated_data'):\n",
    "    \n",
    "    data_all = pd.DataFrame()\n",
    "    list_iter = os.listdir(path)\n",
    "    list_of_iterations = []\n",
    "    \n",
    "    for iter in list_iter:\n",
    "        list_of_data_for_all_patients = []\n",
    "        list_id_patient = os.listdir(f'{path}/{iter}')\n",
    "        for patient in tqdm(list_id_patient):\n",
    "            path_to_file = f'{path}/{iter}/{patient}/{file_name}.csv'\n",
    "            try:\n",
    "                data = pd.read_csv(path_to_file)\n",
    "                data['patient_id'] = patient\n",
    "                data_all = pd.concat([data_all, data], axis = 0)\n",
    "            except:\n",
    "                print(path_to_file)\n",
    "    return data_all"
   ]
  },
  {
   "cell_type": "code",
   "execution_count": null,
   "id": "33db42a4-2d0f-4696-8c03-f2faf689b6df",
   "metadata": {},
   "outputs": [],
   "source": [
    "def import_files_to_df_1_iter(file_name, iter,  path = 'D:/DATA_THESIS/Projekt_nw_AG_AJ/dataset/aggregated_data'):\n",
    "    \n",
    "        data_all = pd.DataFrame()\n",
    "        list_of_iterations = []\n",
    "        list_of_data_for_all_patients = []\n",
    "        list_id_patient = os.listdir(f'{path}/{iter}')\n",
    "        for patient in tqdm(list_id_patient):\n",
    "            path_to_file = f'{path}/{iter}/{patient}/{file_name}.csv'\n",
    "            try:\n",
    "                data = pd.read_csv(path_to_file)\n",
    "                data['patient_id'] = patient\n",
    "                data_all = pd.concat([data_all, data], axis = 0)\n",
    "            except:\n",
    "                print(path_to_file)\n",
    "        return data_all"
   ]
  },
  {
   "cell_type": "code",
   "execution_count": null,
   "id": "fef2b956-5552-4eaf-8b39-21b220da2350",
   "metadata": {},
   "outputs": [],
   "source": [
    "df_pedometer = import_files_to_df(file_name = 'minute_pedometer')"
   ]
  },
  {
   "cell_type": "code",
   "execution_count": null,
   "id": "4b464fb5-c084-4707-8c64-af0ab961091e",
   "metadata": {},
   "outputs": [],
   "source": [
    "len(df_pedometer['patient_id'].unique())"
   ]
  },
  {
   "cell_type": "code",
   "execution_count": null,
   "id": "c81a882c-0519-4adf-a8a2-2a77cb0d4bc3",
   "metadata": {},
   "outputs": [],
   "source": [
    "df_pedometer[df_pedometer['patient_id'] == df_pedometer['patient_id'].unique()[1]]"
   ]
  },
  {
   "cell_type": "code",
   "execution_count": null,
   "id": "de1f2505-106a-4859-8ec2-ee303e08ad88",
   "metadata": {
    "scrolled": true
   },
   "outputs": [],
   "source": [
    "df_pedometer['ts'] = pd.to_datetime(df_pedometer['ts'])\n",
    "df_pedometer['date'] = df_pedometer['ts'].dt.date\n",
    "df_pedometer['hour'] = df_pedometer['ts'].dt.hour\n",
    "df_pedometer"
   ]
  },
  {
   "cell_type": "markdown",
   "id": "10ac9de1-6096-4208-8d0f-79d6cb3847fc",
   "metadata": {},
   "source": [
    "## PLOT"
   ]
  },
  {
   "cell_type": "code",
   "execution_count": null,
   "id": "81a24b30-0f08-4cc8-844c-0142d7b18d20",
   "metadata": {},
   "outputs": [],
   "source": [
    "import plotly.graph_objects as go\n",
    "\n",
    "df = df_pedometer[df_pedometer['patient_id'] == df_pedometer['patient_id'].unique()[1]]\n",
    "\n",
    "grouped = df.groupby('hour')\n",
    "\n",
    "\n",
    "# Create traces for each day\n",
    "traces = []\n",
    "for day, group in grouped:\n",
    "    trace = go.Bar(\n",
    "        x=group['hour'],  # Hours\n",
    "        y=group['running_steps'],  # Running steps\n",
    "        name= f\"{df['date'][day]}\",\n",
    "    )\n",
    "    traces.append(trace)\n",
    "\n",
    "# Create layout\n",
    "layout = go.Layout(\n",
    "    title='Running Steps Throughout the Day',\n",
    "    xaxis=dict(title='Hour'),\n",
    "    yaxis=dict(title='Number of Steps'),\n",
    "    barmode='group',\n",
    ")\n",
    "\n",
    "# Create figure\n",
    "fig = go.Figure(data=traces, layout=layout)\n",
    "\n",
    "# Show plot\n",
    "fig.show()"
   ]
  },
  {
   "cell_type": "code",
   "execution_count": null,
   "id": "e08ad848-9616-415e-a002-d5781a0a70b3",
   "metadata": {},
   "outputs": [],
   "source": [
    "df_pedometer[df_pedometer['patient_id'] == df_pedometer['patient_id'].unique()[5]]"
   ]
  },
  {
   "cell_type": "code",
   "execution_count": null,
   "id": "837cdbb1-280a-4cf4-b10a-ecd81bd37170",
   "metadata": {},
   "outputs": [],
   "source": [
    "import plotly.express as px\n",
    "import pandas as pd\n",
    "df = df_pedometer[df_pedometer['patient_id'] == df_pedometer['patient_id'].unique()[1]]\n",
    "\n",
    "df_grouped = df.groupby([\"date\", \"hour\"])['steps'].sum().reset_index()\n",
    "\n",
    "# Create the bar plot using Plotly Express\n",
    "fig = px.bar(df_grouped, x=\"hour\", y=\"steps\", color=\"date\",\n",
    "             title=\"Number of Steps Throughout the Day\",\n",
    "             labels={\"hour\": \"Hour\", \"steps\": \"Number of Steps\", \"date\": \"Date\"},\n",
    "             barmode=\"group\")\n",
    "\n",
    "# Show the plot\n",
    "fig.show()"
   ]
  },
  {
   "cell_type": "markdown",
   "id": "119b2466-01c3-4a20-9808-26cfc6154629",
   "metadata": {},
   "source": [
    "## Check 3h before sleep"
   ]
  },
  {
   "cell_type": "code",
   "execution_count": null,
   "id": "9d6d6121-22e6-484f-9f22-40b816b2971f",
   "metadata": {},
   "outputs": [],
   "source": [
    "# with open('m_e_emo_pre_loc_sleepSegments.pkl', 'rb') as f:\n",
    "#       dataset = pd.read_pickle(f)\n",
    "\n",
    "dataset = pd.read_pickle(f'{path_to_folder}/6_emotions_aggregates/m_e_emo_pre_loc_sleepSegments.pkl')"
   ]
  },
  {
   "cell_type": "code",
   "execution_count": null,
   "id": "ce54dbf9-5700-4e82-8c70-a3b39df07567",
   "metadata": {},
   "outputs": [],
   "source": [
    "dataset"
   ]
  },
  {
   "cell_type": "code",
   "execution_count": null,
   "id": "1ed1a5e1-280d-4791-b859-d94b20f2a2eb",
   "metadata": {
    "scrolled": true
   },
   "outputs": [],
   "source": [
    "dataset[dataset['patient_id'] == df_pedometer['patient_id'].unique()[1]]"
   ]
  },
  {
   "cell_type": "code",
   "execution_count": null,
   "id": "e8c5be2d-3f15-42a8-96e1-dd6e335b8d52",
   "metadata": {},
   "outputs": [],
   "source": [
    "df = df_pedometer[df_pedometer['patient_id'] == df_pedometer['patient_id'].unique()[1]].reset_index()\n",
    "\n",
    "# Filter data for the same patient in dataset and convert 'filledTimestamp_evening' to datetime\n",
    "df_data = dataset[dataset['patient_id'] == df_pedometer['patient_id'].unique()[1]].reset_index()\n",
    "\n",
    "def count_steps_before_sleep(col_timestamp_before_sleep = 'filledTimestamp_evening', \n",
    "                             col_timestamp_steps = 'ts' ,  \n",
    "                             dataframe_with_steps = df, \n",
    "                             dataframe_dataset = dataset ):\n",
    "\n",
    "    \"\"\"\n",
    "    col_timestamp_before_sleep [str]: column with the end of the time frame we are interested in\n",
    "    col_timestamp_steps [str]: column with the timestamp in the dataframe with steps\n",
    "    dataframe_with_steps [DataFrame]: dataframe with steps\n",
    "    dataframe_dataset [DataFrame]: dataframe with all the data for each day for each user / or dataframe with dates of sleep\n",
    "    \"\"\"\n",
    "\n",
    "    dataframe_dataset[col_timestamp_before_sleep] = pd.to_datetime(dataframe_dataset[col_timestamp_before_sleep])\n",
    "    dataframe_dataset['time_frame'] = dataframe_dataset[col_timestamp_before_sleep] - pd.Timedelta(hours=3)\n",
    "    steps_3h_before_sleep = []\n",
    "    patient_id_list = []\n",
    "    dates_list = []\n",
    "    for patient in (dataframe_dataset['patient_id']).unique():\n",
    "        \n",
    "        dataframe_dataset_patient = dataframe_dataset[dataframe_dataset['patient_id'] == patient]\n",
    "        dataframe_with_steps_patient = dataframe_with_steps[dataframe_with_steps['patient_id'] == patient]\n",
    "        \n",
    "        \n",
    "        for day in range(0, len(dataframe_dataset_patient['time_frame'])):\n",
    "            list_of_steps_one_evening = []\n",
    "            for i in range(0, len(dataframe_with_steps_patient[col_timestamp_steps])):\n",
    "                if ((dataframe_with_steps_patient[col_timestamp_steps].iloc[i] > dataframe_dataset_patient['time_frame'].iloc[day]) \n",
    "                and (dataframe_with_steps_patient[col_timestamp_steps].iloc[i] < dataframe_dataset_patient['filledTimestamp_evening'].iloc[day])):\n",
    "                    \n",
    "                    list_of_steps_one_evening.append(dataframe_with_steps_patient['steps'].iloc[i])\n",
    "            if list_of_steps_one_evening:\n",
    "                num_steps_evening = max(list_of_steps_one_evening) - min(list_of_steps_one_evening)           \n",
    "            else:\n",
    "                num_steps_evening = 0 \n",
    "            steps_3h_before_sleep.append(num_steps_evening)\n",
    "            patient_id_list.append(patient)\n",
    "            dates_list.append(dataframe_dataset_patient['dateOfSleep'].iloc[day])\n",
    "    df_results = pd.DataFrame()\n",
    "    df_results['steps_3h_before_sleep'] = steps_3h_before_sleep\n",
    "    df_results['patient_id'] = patient_id_list\n",
    "    df_results['dateOfSleep'] = dates_list\n",
    "    return df_results"
   ]
  },
  {
   "cell_type": "code",
   "execution_count": null,
   "id": "f5cc87e4-49a7-43b3-b041-bd9d0c3dc2d6",
   "metadata": {},
   "outputs": [],
   "source": [
    "df_with_steps = count_steps_before_sleep(col_timestamp_before_sleep = 'startTimestamp', \n",
    "                             col_timestamp_steps = 'ts' ,  \n",
    "                             dataframe_with_steps = df_pedometer, \n",
    "                             dataframe_dataset = dataset )"
   ]
  },
  {
   "cell_type": "code",
   "execution_count": null,
   "id": "b815f676-dfe5-45b4-bacb-9a9d0afbd777",
   "metadata": {},
   "outputs": [],
   "source": [
    "merged_df = pd.merge(df_with_steps, dataset, on=['dateOfSleep', 'patient_id'], how='inner')"
   ]
  },
  {
   "cell_type": "code",
   "execution_count": null,
   "id": "844997c7-921c-4548-8ef9-72c0fb31bfcd",
   "metadata": {},
   "outputs": [],
   "source": [
    "merged_df.columns"
   ]
  },
  {
   "cell_type": "code",
   "execution_count": null,
   "id": "76e7a6de-10fa-4aab-b158-98a460cc3e7a",
   "metadata": {},
   "outputs": [],
   "source": [
    "import seaborn as sns\n",
    "import matplotlib.pyplot as plt\n",
    "\n",
    "# Select the three columns for which you want to calculate the correlation\n",
    "columns = ['start_hour', 'steps_3h_before_sleep', 'sleepQuality']\n",
    "\n",
    "# Calculate the correlation matrix\n",
    "correlation_matrix = merged_df[columns].corr()\n",
    "\n",
    "# Plot the heatmap\n",
    "plt.figure(figsize=(8, 6))\n",
    "sns.heatmap(correlation_matrix, annot=True, cmap='coolwarm', fmt=\".2f\", linewidths=0.5)\n",
    "plt.title('Correlation Heatmap of Three Columns')\n",
    "plt.show()"
   ]
  },
  {
   "cell_type": "markdown",
   "id": "09cec2c9-9413-45ec-a48f-05aa5de9b7d1",
   "metadata": {},
   "source": [
    "## Count steps - all day"
   ]
  },
  {
   "cell_type": "code",
   "execution_count": null,
   "id": "5cf3c7e3-885f-4517-ba0c-2b57dc677aa7",
   "metadata": {},
   "outputs": [],
   "source": [
    "df_pedometer"
   ]
  },
  {
   "cell_type": "code",
   "execution_count": null,
   "id": "eafdcf65-10fd-4baa-9a84-abd9dfd25e4a",
   "metadata": {},
   "outputs": [],
   "source": [
    "# 1. Convert the 'timestamp' column to datetime type if it's not already\n",
    "df_pedometer['ts'] = pd.to_datetime(df_pedometer['ts'])\n",
    "\n",
    "# 2. Extract the date from the timestamp to create a new column representing the date\n",
    "df_pedometer['date'] = df_pedometer['ts'].dt.date\n",
    "\n",
    "# 3. Group the DataFrame by both 'id' and 'date'\n",
    "grouped_df = df_pedometer.groupby(['patient_id', 'date'])\n",
    "\n",
    "# 4. Calculate the maximum steps for each group\n",
    "max_steps_per_id_per_date = (grouped_df['steps'].max() - grouped_df['steps'].min()).reset_index()\n",
    "patient_list = []\n",
    "dates_list = []\n",
    "steps_count = []\n",
    "# 5. Filter groups where min steps are not zero and print patient ID and date\n",
    "for index, row in max_steps_per_id_per_date.iterrows():\n",
    "    if grouped_df.get_group((row['patient_id'], row['date']))['steps'].min() != 0:\n",
    "        print(f\"Patient ID: {row['patient_id']}, Date: {row['date']}, {grouped_df.get_group((row['patient_id'], row['date']))['steps'].min()}\")\n",
    "        patient_list.append(row['patient_id'])\n",
    "        dates_list.append(row['date'])\n",
    "        steps_count.append(grouped_df.get_group((row['patient_id'], row['date']))['steps'].min())"
   ]
  },
  {
   "cell_type": "code",
   "execution_count": null,
   "id": "50b35236-52e3-40c9-9663-e13617bdc219",
   "metadata": {},
   "outputs": [],
   "source": [
    "steps_not_0 = pd.DataFrame()\n",
    "steps_not_0['patient_id'] = patient_list\n",
    "steps_not_0['date'] = dates_list\n",
    "steps_not_0['steps'] = steps_count\n",
    "steps_not_0"
   ]
  },
  {
   "cell_type": "code",
   "execution_count": null,
   "id": "52d5e539-0c0f-46d0-bab5-6afc7cd86835",
   "metadata": {},
   "outputs": [],
   "source": [
    "steps_not_0.to_csv(f'{path_to_folder}/6_emotions_aggregates/not_zero_steps_start.csv', index = False)"
   ]
  },
  {
   "cell_type": "code",
   "execution_count": null,
   "id": "e1881564-3ab4-4e5d-93cb-45eec538d3ec",
   "metadata": {},
   "outputs": [],
   "source": [
    "len(steps_not_0['patient_id'].unique())"
   ]
  },
  {
   "cell_type": "code",
   "execution_count": null,
   "id": "bc070cfa-9c57-4ae5-9097-5b64a12d53c8",
   "metadata": {},
   "outputs": [],
   "source": [
    "grouped_df['steps'].min()"
   ]
  },
  {
   "cell_type": "code",
   "execution_count": null,
   "id": "5ee9bb6a-f391-417e-b907-a4e09b396870",
   "metadata": {},
   "outputs": [],
   "source": [
    "grouped_df['steps'].max()"
   ]
  },
  {
   "cell_type": "code",
   "execution_count": null,
   "id": "e0c018a6-89ee-4e7a-9a84-f14c46de3b8a",
   "metadata": {},
   "outputs": [],
   "source": [
    "max_steps_per_id_per_date['dateOfSleep'] = pd.to_datetime(max_steps_per_id_per_date['date']) + pd.DateOffset(days=1)\n",
    "max_steps_per_id_per_date = max_steps_per_id_per_date.drop('date', axis = 1)"
   ]
  },
  {
   "cell_type": "code",
   "execution_count": null,
   "id": "44fa9cfe-aee0-438e-86ae-f8d15d3d847a",
   "metadata": {},
   "outputs": [],
   "source": [
    "# delete step values == 0, since that means there is no data for that day \n",
    "max_steps_per_id_per_date = max_steps_per_id_per_date[max_steps_per_id_per_date['steps'] != 0]\n",
    "max_steps_per_id_per_date"
   ]
  },
  {
   "cell_type": "code",
   "execution_count": null,
   "id": "f74d439e-4b89-4633-aa06-65b130052ab8",
   "metadata": {},
   "outputs": [],
   "source": [
    "max_steps_per_id_per_date['dateOfSleep'] = pd.to_datetime(max_steps_per_id_per_date['dateOfSleep'])\n",
    "dataset['dateOfSleep'] = pd.to_datetime(dataset['dateOfSleep'])\n",
    "merged_all_days = pd.merge(max_steps_per_id_per_date, dataset,on=['dateOfSleep', 'patient_id'], how='inner')"
   ]
  },
  {
   "cell_type": "code",
   "execution_count": null,
   "id": "d70f2565-8735-44cc-bb4b-9d52271f7148",
   "metadata": {},
   "outputs": [],
   "source": [
    "import seaborn as sns\n",
    "import matplotlib.pyplot as plt\n",
    "\n",
    "# Select the three columns for which you want to calculate the correlation\n",
    "columns = ['steps', 'sleepQuality']\n",
    "\n",
    "# Calculate the correlation matrix\n",
    "correlation_matrix = merged_all_days[columns].corr()\n",
    "\n",
    "# Plot the heatmap\n",
    "plt.figure(figsize=(8, 6))\n",
    "sns.heatmap(correlation_matrix, annot=True, cmap='coolwarm', fmt=\".2f\", linewidths=0.5)\n",
    "plt.title('Correlation Heatmap of Three Columns')\n",
    "plt.show()"
   ]
  },
  {
   "cell_type": "code",
   "execution_count": null,
   "id": "5ef16f36-2a3d-4b63-b468-5b23fd0d2cf5",
   "metadata": {},
   "outputs": [],
   "source": [
    "merged_all_days[['steps', 'dateOfSleep', 'patient_id', 'sleepQuality','stress']]"
   ]
  },
  {
   "cell_type": "code",
   "execution_count": null,
   "id": "aa192d1f-a21b-4772-b866-07fe3e269ccf",
   "metadata": {},
   "outputs": [],
   "source": [
    "\n",
    "# merged_all_days['sleepQ_stress'] = merged_all_days['sleepQuality']+ merged_all_days['stress']\n",
    "\n",
    "# merged_all_days"
   ]
  },
  {
   "cell_type": "code",
   "execution_count": null,
   "id": "b3371814-1bb0-4cba-8313-18a50abeeb53",
   "metadata": {},
   "outputs": [],
   "source": [
    "# merged_all_days.drop(['count_location_y'], axis = 1)\n",
    "# merged_all_days['count_location'] = merged_all_days['count_location_x']\n",
    "# merged_all_days.drop(['count_location_x'], axis = 1)\n",
    "# merged_all_days.drop(['sleepQ_stress'], axis = 1)\n"
   ]
  },
  {
   "cell_type": "code",
   "execution_count": null,
   "id": "7d036511-8aaf-4ef8-94aa-4f30c44b8e9d",
   "metadata": {},
   "outputs": [],
   "source": [
    "merged_all_days.to_pickle(f'{path_to_folder}/6_emotions_aggregates/m_e_emo_pre_loc_sleepSegments_steps.pkl')"
   ]
  },
  {
   "cell_type": "code",
   "execution_count": null,
   "id": "caf1737e-61be-468e-8b51-8c66b8bbe22b",
   "metadata": {},
   "outputs": [],
   "source": []
  }
 ],
 "metadata": {
  "kernelspec": {
   "display_name": "Python 3 (ipykernel)",
   "language": "python",
   "name": "python3"
  },
  "language_info": {
   "codemirror_mode": {
    "name": "ipython",
    "version": 3
   },
   "file_extension": ".py",
   "mimetype": "text/x-python",
   "name": "python",
   "nbconvert_exporter": "python",
   "pygments_lexer": "ipython3",
   "version": "3.11.7"
  }
 },
 "nbformat": 4,
 "nbformat_minor": 5
}

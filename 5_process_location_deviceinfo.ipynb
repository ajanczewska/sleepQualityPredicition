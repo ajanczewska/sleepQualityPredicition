{
 "cells": [
  {
   "cell_type": "code",
   "execution_count": null,
   "id": "18330ea4-cfc1-4b20-b951-9234cb0eacb7",
   "metadata": {},
   "outputs": [],
   "source": [
    "import pandas as pd\n",
    "import json\n",
    "import numpy as np\n",
    "from matplotlib import pyplot as plt\n",
    "import os"
   ]
  },
  {
   "cell_type": "code",
   "execution_count": null,
   "id": "f52cff74-1c71-4c1c-b8ef-1d2324eb0571",
   "metadata": {},
   "outputs": [],
   "source": [
    " general_path = 'D:/DATA_THESIS/LarField'\n",
    " folder_name = 'userData'\n",
    "path_to_folder = 'D:/DATA_THESIS/Projekt_nw_AG_AJ/Outputs_project_data_preprocessing'\n"
   ]
  },
  {
   "cell_type": "code",
   "execution_count": null,
   "id": "64b390b8-585e-44ae-a350-de92134512a8",
   "metadata": {},
   "outputs": [],
   "source": [
    "def read_csv_from_dir(dir_name):\n",
    "    \"\"\"\n",
    "    Function for loading user_data from directory.\n",
    "\n",
    "    :param dir_name: directory with all user_data files, e.g., activity\n",
    "    :return: DataFrame with all files sorted by timestamp (or queryStart)\n",
    "    \"\"\"\n",
    "    df = pd.DataFrame()\n",
    "    for filename in os.listdir(dir_name):\n",
    "        df_temp = pd.read_csv(os.path.join(dir_name, filename), sep=\"\\t\")\n",
    "        df = pd.concat([df, df_temp])\n",
    "    try:\n",
    "        dates = [ts.split(\"T\")[0] for ts in df[\"timestamp\"]]\n",
    "        times = [ts.split(\"T\")[1] for ts in df[\"timestamp\"]]\n",
    "    except:\n",
    "        dates = [ts.split(\"T\")[0] for ts in df[\"queryStart\"]]\n",
    "        times = [ts.split(\"T\")[1] for ts in df[\"queryStart\"]]\n",
    "\n",
    "    df[\"date\"] = dates\n",
    "    df[\"time\"] = times\n",
    "    try:\n",
    "        return df.sort_values(by=\"timestamp\").reset_index(drop=True)\n",
    "    except:\n",
    "        return df.sort_values(by=\"queryStart\").reset_index(drop=True)"
   ]
  },
  {
   "cell_type": "code",
   "execution_count": null,
   "id": "372ac331-99fb-4283-a214-914f8fd615dd",
   "metadata": {},
   "outputs": [],
   "source": [
    "def location_analysis(df):\n",
    "    # Group by date and location, count the occurrences of each combination\n",
    "    df_grouped = df.groupby(by=['date', 'location']).size().reset_index(name='count')\n",
    "    # Group by date, sum the counts for each day\n",
    "    df_grouped = df_grouped.groupby('date')['count'].sum().reset_index()\n",
    "    return df_grouped"
   ]
  },
  {
   "cell_type": "code",
   "execution_count": null,
   "id": "3559c284-886b-4188-b0df-3eea8a4488c6",
   "metadata": {},
   "outputs": [],
   "source": [
    "def deviceinfo_analysis(df):\n",
    "    # Group by date and location, count the occurrences of each combination\n",
    "    for i in range(0, len(list(df['localizationEnabled']))):\n",
    "        if df['localizationEnabled'][i] ==False: \n",
    "            print(\"FALSE: \", df['timestamp'][i])\n",
    "            try:\n",
    "                if df['localizationEnabled'][i+1] ==True:\n",
    "                    print(\"\\tNEXT ON: \", df['timestamp'][i+1])\n",
    "            except:\n",
    "                print('End')\n",
    "    # Group by date, sum the counts for each day\n",
    "    # return"
   ]
  },
  {
   "cell_type": "code",
   "execution_count": null,
   "id": "6c1865ad-c152-4fc1-8fde-1e8b71f3c716",
   "metadata": {},
   "outputs": [],
   "source": []
  },
  {
   "cell_type": "code",
   "execution_count": null,
   "id": "9133678e-887c-4a8e-ac6d-08f7d856f346",
   "metadata": {},
   "outputs": [],
   "source": [
    "# read all the locations\n",
    "all_locations = pd.DataFrame()\n",
    "skipped = 0\n",
    "for iter in  os.listdir(general_path):\n",
    "    for user in os.listdir(f'{general_path}/{iter}/{folder_name}'):\n",
    "        # user_name = []\n",
    "        # df_location_for_user = pd.DataFrame()\n",
    "        if 'location' in os.listdir(f'{general_path}/{iter}/{folder_name}/{user}'):\n",
    "            location_csv = read_csv_from_dir(f'{general_path}/{iter}/{folder_name}/{user}/location')\n",
    "\n",
    "            location_csv['patient_id'] = np.repeat(user,len(location_csv))\n",
    "            all_locations = pd.concat([all_locations, location_csv], axis = 0)\n",
    "        else:\n",
    "            print(\"No LOCATION folder, skip id: \", user, 'iter: ', iter)\n",
    "            skipped+=1\n",
    "\n",
    "\n",
    "# 'D:/DATA_THESIS/LarField/i_01/userData/0Uvl9keeDVbkh69satbc6wTSbe23/location'"
   ]
  },
  {
   "cell_type": "code",
   "execution_count": null,
   "id": "1a2c0480-bf5a-4738-809b-0893b9e802f1",
   "metadata": {},
   "outputs": [],
   "source": [
    "# Count the locations during the day\n",
    "all_locations_stats = pd.DataFrame()\n",
    "skipped = 0\n",
    "for iter in  os.listdir(general_path):\n",
    "    for user in os.listdir(f'{general_path}/{iter}/{folder_name}'):\n",
    "        # user_name = []\n",
    "        # df_location_for_user = pd.DataFrame()\n",
    "        if 'location' in os.listdir(f'{general_path}/{iter}/{folder_name}/{user}'):\n",
    "            location_csv = read_csv_from_dir(f'{general_path}/{iter}/{folder_name}/{user}/location')\n",
    "            only_stats = location_analysis(location_csv)\n",
    "            only_stats['patient_id'] = np.repeat(user,len(only_stats))\n",
    "            all_locations_stats = pd.concat([all_locations_stats, only_stats], axis = 0)\n",
    "        else:\n",
    "            print(\"No LOCATION folder, skip id: \", user, 'iter: ', iter)\n",
    "            skipped+=1\n",
    "\n",
    "\n",
    "# 'D:/DATA_THESIS/LarField/i_01/userData/0Uvl9keeDVbkh69satbc6wTSbe23/location'"
   ]
  },
  {
   "cell_type": "code",
   "execution_count": null,
   "id": "1e337efc-d192-47ff-b5d7-fce31831047c",
   "metadata": {},
   "outputs": [],
   "source": [
    "# Count the deviceInfo during the day\n",
    "all_deviceinfo_stats = pd.DataFrame()\n",
    "skipped = 0\n",
    "for iter in  os.listdir(general_path):\n",
    "    for user in os.listdir(f'{general_path}/{iter}/{folder_name}'):\n",
    "        # user_name = []\n",
    "        # df_location_for_user = pd.DataFrame()\n",
    "        if 'deviceInfo' in os.listdir(f'{general_path}/{iter}/{folder_name}/{user}'):\n",
    "            deviceinfo_csv = read_csv_from_dir(f'{general_path}/{iter}/{folder_name}/{user}/deviceinfo')\n",
    "            print(iter, user)\n",
    "            only_stats = deviceinfo_analysis(deviceinfo_csv)\n",
    "            # only_stats['patient_id'] = np.repeat(user,len(only_stats))\n",
    "            # all_deviceinfo_stats = pd.concat([all_deviceinfo_stats, only_stats], axis = 0)\n",
    "        else:\n",
    "            print(\"No deviceinfo folder, skip id: \", user, 'iter: ', iter)\n",
    "            skipped+=1\n",
    "\n"
   ]
  },
  {
   "cell_type": "code",
   "execution_count": null,
   "id": "aba592dd-4f03-43f0-bf51-c7cde39d8353",
   "metadata": {},
   "outputs": [],
   "source": [
    "deviceinfo_csv"
   ]
  },
  {
   "cell_type": "code",
   "execution_count": null,
   "id": "279b9c15-6a8b-4382-9ffa-852763bec66a",
   "metadata": {},
   "outputs": [],
   "source": [
    "skipped"
   ]
  },
  {
   "cell_type": "code",
   "execution_count": null,
   "id": "5cc6b67b-dd06-4416-94c4-b52641e4af12",
   "metadata": {},
   "outputs": [],
   "source": [
    "all_locations_stats =all_locations_stats.reset_index(drop = True)"
   ]
  },
  {
   "cell_type": "code",
   "execution_count": null,
   "id": "11c6a388-3974-4867-a435-f2cf1e98f1fc",
   "metadata": {
    "scrolled": true
   },
   "outputs": [],
   "source": [
    "all_locations_stats"
   ]
  },
  {
   "cell_type": "markdown",
   "id": "74eaad7a-0787-4c33-870e-59cb4325a16b",
   "metadata": {},
   "source": [
    "# SAVE"
   ]
  },
  {
   "cell_type": "code",
   "execution_count": null,
   "id": "b5d2b0e5-ce2a-477a-9dbb-ba3627b2c6ae",
   "metadata": {},
   "outputs": [],
   "source": [
    "all_locations_stats.to_pickle(f'{path_to_folder}/5_locations/number_of_locations_for_each_day.pkl')"
   ]
  },
  {
   "cell_type": "code",
   "execution_count": null,
   "id": "ae91379c-3ffd-4848-8a5d-9d38c4c0dab7",
   "metadata": {},
   "outputs": [],
   "source": [
    "all_locations"
   ]
  },
  {
   "cell_type": "markdown",
   "id": "5c78e579-bfbe-428e-92ae-f956a93e8775",
   "metadata": {},
   "source": [
    "# Read data with H3 and split to longitude and latitude"
   ]
  },
  {
   "cell_type": "code",
   "execution_count": null,
   "id": "5b4b4e38-039f-4eac-be08-fdef6a80372a",
   "metadata": {},
   "outputs": [],
   "source": [
    "import h3\n",
    "from shapely.geometry import Point\n",
    "import geopandas as gpd\n",
    "import geoplot as gplt\n",
    "\n",
    "def convert_to_coordinates(dataframe= all_locations):\n",
    "    dataframe['geometry'] = [h3.h3_to_geo(h) for h in dataframe['location']]\n",
    "    # Extract latitude and longitude into separate columns\n",
    "    # dataframe[['lon', 'lat']] = dataframe['geometry'].str.extract(r'\\((-?\\d+\\.\\d+) (-?\\d+\\.\\d+)\\)')\n",
    "    dataframe['lon'] = dataframe['geometry'].apply(lambda x: x[0])\n",
    "    dataframe['lat'] = dataframe['geometry'].apply(lambda x: x[1])\n",
    "    dataframe = dataframe.drop(['geometry'], axis=1)\n",
    "    return dataframe"
   ]
  },
  {
   "cell_type": "code",
   "execution_count": null,
   "id": "1b755abd-93b5-446d-bf2b-cfcafe09b772",
   "metadata": {},
   "outputs": [],
   "source": [
    "df_with_geodata = convert_to_coordinates(all_locations)"
   ]
  },
  {
   "cell_type": "code",
   "execution_count": null,
   "id": "3d21921b-3215-4d04-b344-bfa2daf08f7e",
   "metadata": {},
   "outputs": [],
   "source": [
    "df_with_geodata = df_with_geodata.reset_index(drop = True)\n",
    "df_with_geodata"
   ]
  },
  {
   "cell_type": "markdown",
   "id": "4f2ce681-aace-42f4-b2b0-51fe2e7292dc",
   "metadata": {},
   "source": [
    "# Plot results "
   ]
  },
  {
   "cell_type": "code",
   "execution_count": null,
   "id": "35784a91-6953-434f-b24a-b5f23bfbf095",
   "metadata": {},
   "outputs": [],
   "source": [
    "# Create a GeoDataFrame with a \"geometry\" column containing Point geometries\n",
    "def plot_location(df_all = df_with_geodata):\n",
    "    # df_all = df_all[df_all['patient_id'] == patient_id]\n",
    "    geometry = [Point(lon, lat) for lon, lat in zip(df_all['lon'], df_all['lat'])]\n",
    "    geo_df = gpd.GeoDataFrame(df_all, geometry=geometry, crs=\"EPSG:4326\")\n",
    "\n",
    "    \n",
    "    ax = gplt.pointplot(\n",
    "        geo_df,\n",
    "        # hue='time',  # Specify the column for coloring\n",
    "        cmap='viridis',  # Choose a colormap\n",
    "        legend=True,  # Show legend\n",
    "        # legend_var='hue',  # Specify that legend is based on 'user_column'\n",
    "        legend_kwargs={'bbox_to_anchor': (1, 1), 'title': 'User Column'},  # Adjust legend position and title\n",
    "    )\n",
    "    \n",
    "    ax.set_title(\"Track of 1 patient\", fontsize=16)\n",
    "    \n",
    "    plt.show()"
   ]
  },
  {
   "cell_type": "code",
   "execution_count": null,
   "id": "3f1ed121-b47f-43a6-bde8-912ff12c5a43",
   "metadata": {},
   "outputs": [],
   "source": [
    "one_patient = df_with_geodata[df_with_geodata['patient_id'] == (df_with_geodata['patient_id']).unique()[81]]\n",
    "one_patient_one_day = one_patient[one_patient['date'] == (one_patient['date']).unique()[5]]\n",
    "plot_location(one_patient_one_day)"
   ]
  },
  {
   "cell_type": "code",
   "execution_count": null,
   "id": "3d87948b-e319-4927-8050-1e181c1d237f",
   "metadata": {},
   "outputs": [],
   "source": [
    "one_patient_one_day"
   ]
  },
  {
   "cell_type": "code",
   "execution_count": null,
   "id": "551af93e-e8fc-4ea8-8f79-57c77969e284",
   "metadata": {},
   "outputs": [],
   "source": [
    "import geopandas as gpd\n",
    "import geoplot.crs as gcrs\n",
    "import matplotlib.pyplot as plt\n",
    "from shapely.geometry import Point\n",
    "\n",
    "# Create a GeoDataFrame with a \"geometry\" column containing Point geometries\n",
    "def plot_location(df_all=df_with_geodata):\n",
    "    # Assuming df_with_geodata is your DataFrame containing latitude and longitude columns\n",
    "    geometry = [Point(lon, lat) for lon, lat in zip(df_all['lon'], df_all['lat'])]\n",
    "    geo_df = gpd.GeoDataFrame(df_all, geometry=geometry, crs=\"EPSG:4326\")\n",
    "\n",
    "    # Load shapefile or GeoDataFrame for Poland (replace 'your_poland_data.shp' with the actual file or data)\n",
    "    poland_data = gpd.read_file('poland_administrative_boundaries_level6_counties_polygon.geojson')\n",
    "\n",
    "    # Set the width and height\n",
    "    width = 10\n",
    "    height = 8\n",
    "\n",
    "    # Create a new figure with specified width and height\n",
    "    plt.figure(figsize=(width, height))\n",
    "    poland_data.plot()\n",
    "    # Plot Poland administrative boundaries\n",
    "    gplt.polyplot(poland_data, projection=gcrs.PlateCarree(), figsize=(width, height))\n",
    "\n",
    "    # Plot locations on top of the map\n",
    "    gplt.pointplot(geo_df)\n",
    "\n",
    "    # Customize plot properties\n",
    "    plt.title(\"Locations of Patients in Poland\")\n",
    "    plt.xlabel(\"Longitude\")\n",
    "    plt.ylabel(\"Latitude\")\n",
    "\n",
    "    plt.show()\n",
    "\n"
   ]
  },
  {
   "cell_type": "code",
   "execution_count": null,
   "id": "61569eeb-af1a-4881-aad2-bd8978213fd1",
   "metadata": {},
   "outputs": [],
   "source": [
    "plot_location(one_patient_one_day)"
   ]
  },
  {
   "cell_type": "code",
   "execution_count": null,
   "id": "19574737-54b4-4e7d-bc0a-da1306beffdc",
   "metadata": {},
   "outputs": [],
   "source": []
  },
  {
   "cell_type": "code",
   "execution_count": null,
   "id": "aac69a74-574c-4884-ab35-c0ed953cd774",
   "metadata": {},
   "outputs": [],
   "source": []
  },
  {
   "cell_type": "markdown",
   "id": "b2b4e97b-b02b-4cea-9457-cb2287930740",
   "metadata": {},
   "source": [
    "# Count statistics"
   ]
  },
  {
   "cell_type": "code",
   "execution_count": null,
   "id": "cbb9b8a0-1868-46be-9f49-8d49077007ac",
   "metadata": {},
   "outputs": [],
   "source": [
    "def location_analysis(df = location_csv):\n",
    "    df_grouped = df.groupby(by=[\"date\", \"location\"]).count().reset_index()[[\"date\",\"location\",\"timestamp\"]]\n",
    "    \n",
    "    df_grouped.columns = [\"date\",\"location\",\"count\"]\n",
    "    return df_grouped"
   ]
  },
  {
   "cell_type": "code",
   "execution_count": null,
   "id": "12ce1f1f-8854-4c17-8b93-73745732a45f",
   "metadata": {},
   "outputs": [],
   "source": [
    "loc_1_pr = location_analysis(one_patient)\n",
    "loc_1_pr"
   ]
  },
  {
   "cell_type": "code",
   "execution_count": null,
   "id": "600b748a-9bd4-420c-96e5-87b2b63c2cce",
   "metadata": {},
   "outputs": [],
   "source": [
    "len(loc_1_pr['location'].unique())"
   ]
  },
  {
   "cell_type": "code",
   "execution_count": null,
   "id": "c1af9af3-dc2e-4384-a5dc-0dd1a1370cac",
   "metadata": {},
   "outputs": [],
   "source": [
    "def location_analysis(df = location_csv):\n",
    "    df_grouped = df.groupby(by=[ 'date', \"location\"]).count().reset_index()[[\"date\",\"location\",\"timestamp\"]]\n",
    "    \n",
    "    df_grouped.columns = ['date',\"location\",\"count\" ]\n",
    "    return df_grouped"
   ]
  },
  {
   "cell_type": "code",
   "execution_count": null,
   "id": "69ea5e37-6220-484a-bc09-166499e5ef4f",
   "metadata": {},
   "outputs": [],
   "source": [
    "def location_analysis(df = location_csv):\n",
    "    df_grouped = df.groupby(by=[\"location\"]).count().reset_index()[[\"date\",\"location\"]]\n",
    "    \n",
    "    df_grouped.columns = [\"location\",\"count\"]\n",
    "    return df_grouped"
   ]
  },
  {
   "cell_type": "code",
   "execution_count": null,
   "id": "ace6af55-0714-47b4-b3cd-3a0afae89fdb",
   "metadata": {},
   "outputs": [],
   "source": [
    "def location_analysis(df):\n",
    "    # Group by date and location, count the occurrences of each combination\n",
    "    df_grouped = df.groupby(by=['date', 'location']).size().reset_index(name='count')\n",
    "    # Group by date, sum the counts for each day\n",
    "    df_grouped = df_grouped.groupby('date')['count'].sum().reset_index()\n",
    "    return df_grouped"
   ]
  },
  {
   "cell_type": "code",
   "execution_count": null,
   "id": "36e42a2d-5b4d-4edb-93f2-4d2aae46fb57",
   "metadata": {},
   "outputs": [],
   "source": [
    "loc_1_pr = location_analysis(one_patient)\n",
    "loc_1_pr.sort_values('count')"
   ]
  },
  {
   "cell_type": "code",
   "execution_count": null,
   "id": "48cf57b8-5598-40a6-8354-2246ec7539a1",
   "metadata": {},
   "outputs": [],
   "source": [
    "loc_1_pr"
   ]
  },
  {
   "cell_type": "code",
   "execution_count": null,
   "id": "2e211f36-6af1-4ac7-9b92-0eba18e06b9d",
   "metadata": {},
   "outputs": [],
   "source": [
    "import pandas as pd\n",
    "import matplotlib.pyplot as plt\n",
    "\n",
    "def plot_most_visited_place(one_person_data):\n",
    "    # Group by location and count the number of occurrences of each location\n",
    "    location_counts = one_person_data.groupby('location').size().reset_index(name='count')\n",
    "    \n",
    "    # Find the location with the highest count\n",
    "    most_visited_place = location_counts.loc[location_counts['count'].idxmax(), 'location']\n",
    "    print(\"Most visited place:\", most_visited_place)\n",
    "    \n",
    "    # Filter the DataFrame to get only the rows where the person was at the most visited place\n",
    "    person_most_visited_place = one_person_data[one_person_data['location'] == most_visited_place]\n",
    "    \n",
    "    # Plot the hours in the day when the person was at the most visited place\n",
    "    plt.figure(figsize=(10, 6))\n",
    "    plt.hist(person_most_visited_place['timestamp'].dt.hour, bins=24, color='skyblue', edgecolor='black', align='left')\n",
    "    plt.xlabel('Hour of the Day')\n",
    "    plt.ylabel('Frequency')\n",
    "    plt.title(f'Hours in the Day at {most_visited_place}')\n",
    "    plt.xticks(range(0, 24))\n",
    "    plt.grid(True, axis='y')\n",
    "    plt.show()\n",
    "\n",
    "# Sample DataFrame containing person's data\n",
    "# Replace this with your actual DataFrame for the specified person\n",
    "person_id = 1  # Specify the person's ID\n",
    "one_person_data = all_locations[all_locations['patient_id'] == (all_locations['patient_id']).unique()[111]]\n",
    "\n",
    "# Call the function to plot the most visited place and the hours in the day at that place\n",
    "plot_most_visited_place(one_person_data)\n"
   ]
  },
  {
   "cell_type": "code",
   "execution_count": null,
   "id": "8059a4d5-52ca-4f1c-be00-09f89c1444d5",
   "metadata": {},
   "outputs": [],
   "source": []
  }
 ],
 "metadata": {
  "kernelspec": {
   "display_name": "Python 3 (ipykernel)",
   "language": "python",
   "name": "python3"
  },
  "language_info": {
   "codemirror_mode": {
    "name": "ipython",
    "version": 3
   },
   "file_extension": ".py",
   "mimetype": "text/x-python",
   "name": "python",
   "nbconvert_exporter": "python",
   "pygments_lexer": "ipython3",
   "version": "3.11.7"
  }
 },
 "nbformat": 4,
 "nbformat_minor": 5
}

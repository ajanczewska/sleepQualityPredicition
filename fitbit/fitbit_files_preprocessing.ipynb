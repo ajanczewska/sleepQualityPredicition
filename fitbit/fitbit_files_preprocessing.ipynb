{
 "cells": [
  {
   "cell_type": "code",
   "execution_count": 9,
   "metadata": {},
   "outputs": [],
   "source": [
    "import os\n",
    "import zipfile\n",
    "import shutil\n",
    "import pandas as pd\n",
    "from tqdm import tqdm"
   ]
  },
  {
   "cell_type": "code",
   "execution_count": 30,
   "metadata": {},
   "outputs": [],
   "source": [
    "########### W MIEJSCU ... PODAJ ŚCIEŻKĘ DO FOLDERU, W KTÓRYM ZNAJDUJĄ SIĘ DANE FITBITA ##########\n",
    "main_path = \"C:/.../fitbit/fitbit_in\"\n",
    "\n",
    "#main_folder = \"./dataset/fitbit/\""
   ]
  },
  {
   "cell_type": "markdown",
   "metadata": {},
   "source": [
    "# Funkcje do czyszczenia folderów"
   ]
  },
  {
   "cell_type": "markdown",
   "metadata": {},
   "source": [
    "Funkcje do wypakowywania folderów, usuwania niepotrzebnych plików (readme) i pustych plików."
   ]
  },
  {
   "cell_type": "code",
   "execution_count": 10,
   "metadata": {},
   "outputs": [],
   "source": [
    "def unpack_zip_folder(main_path):\n",
    "    for root, __, users_folders in os.walk(main_path):\n",
    "        if len(users_folders) > 0:\n",
    "            # dla każdego usera\n",
    "            iter_folder = main_path+root[root.find('iter'):]\n",
    "            for user in users_folders:\n",
    "                # określanie ścieżek do plików\n",
    "                zip_path = iter_folder+'/'+user\n",
    "                extract_path = iter_folder+'/'+str(user.split('.zip')[0])\n",
    "\n",
    "                with zipfile.ZipFile(zip_path, 'r') as zip_ref:\n",
    "                    zip_ref.extractall(extract_path)"
   ]
  },
  {
   "cell_type": "code",
   "execution_count": 11,
   "metadata": {},
   "outputs": [],
   "source": [
    "def remove_readme_files(path):\n",
    "    for f in os.listdir(path):\n",
    "        if f.lower().find(\"readme\") != -1 or f.lower().find('.pdf') != -1 or f.lower().find(\".txt\") != -1:\n",
    "            full_path = os.path.join(path, f)\n",
    "            os.remove(full_path)"
   ]
  },
  {
   "cell_type": "code",
   "execution_count": 12,
   "metadata": {},
   "outputs": [],
   "source": [
    "def remove_empty_files(path):\n",
    "    for f in os.listdir(path):\n",
    "        if f.lower().find(\".csv\") != -1:\n",
    "            # wczytywanie pliku\n",
    "            full_path = os.path.join(path, f)\n",
    "            try:\n",
    "                data = pd.read_csv(full_path)\n",
    "                # jeżeli plik jest pusty, to go usuwamy\n",
    "                if len(data) == 0:\n",
    "                    os.remove(full_path)\n",
    "            except:\n",
    "                pass"
   ]
  },
  {
   "cell_type": "code",
   "execution_count": 13,
   "metadata": {},
   "outputs": [],
   "source": [
    "def remove_empty_folders(path):\n",
    "    if len(os.listdir(path)) == 0:\n",
    "        shutil.rmtree(path)"
   ]
  },
  {
   "cell_type": "markdown",
   "metadata": {},
   "source": [
    "# Funkcje do agregacji plików"
   ]
  },
  {
   "cell_type": "markdown",
   "metadata": {},
   "source": [
    "Funkcja do zwracania listy plików w danym folderze."
   ]
  },
  {
   "cell_type": "code",
   "execution_count": 14,
   "metadata": {},
   "outputs": [],
   "source": [
    "def return_files_list(path):\n",
    "    files_list = []\n",
    "    for f in os.listdir(path):\n",
    "        files_list.append(f)    \n",
    "    return files_list"
   ]
  },
  {
   "cell_type": "markdown",
   "metadata": {},
   "source": [
    "Funkcje do wczytywania i zapisywania DataFramów z podanych plików (każda funkcja osobno dla każdego folderu)."
   ]
  },
  {
   "cell_type": "code",
   "execution_count": 15,
   "metadata": {},
   "outputs": [],
   "source": [
    "def create_other_dataFrames(path):\n",
    "    df_oxygen = pd.DataFrame()\n",
    "    for f in os.listdir(path):\n",
    "        full_path = os.path.join(path, f)\n",
    "        if f.find('estimated_oxygen_variation') != -1:\n",
    "            data = pd.read_csv(full_path)\n",
    "            df_oxygen = df_oxygen.append(data, ignore_index=True)\n",
    "    return [df_oxygen]"
   ]
  },
  {
   "cell_type": "code",
   "execution_count": 16,
   "metadata": {},
   "outputs": [],
   "source": [
    "def create_heart_dataFrames(path):\n",
    "    df_alfib = pd.DataFrame()\n",
    "    df_alerts = pd.DataFrame()\n",
    "    df_profile = pd.DataFrame()\n",
    "    for f in os.listdir(path):\n",
    "        full_path = os.path.join(path, f)\n",
    "        if (f.find('afib_ecg_reading_') != -1) or (f.find('Afib ECG Readings') != -1):\n",
    "            data = pd.read_csv(full_path)\n",
    "            df_alfib = df_alfib.append(data, ignore_index=True)\n",
    "        elif f.find('Heart Rate Notifications Alerts') != -1:\n",
    "            data = pd.read_csv(full_path)\n",
    "            df_alerts = df_alerts.append(data, ignore_index=True)\n",
    "        elif f.find('Heart Rate Notifications Profile') != -1:\n",
    "            data = pd.read_csv(full_path)\n",
    "            df_profile = df_profile.append(data, ignore_index=True)\n",
    "    return df_alfib, df_alerts, df_profile"
   ]
  },
  {
   "cell_type": "code",
   "execution_count": 17,
   "metadata": {},
   "outputs": [],
   "source": [
    "def create_physical_activity_dataFrames_part1(path):\n",
    "    df_active_zone = pd.DataFrame()\n",
    "    df_goals = pd.DataFrame()\n",
    "    df_calories = pd.DataFrame()\n",
    "    df_demographic = pd.DataFrame()\n",
    "    df_distance = pd.DataFrame()\n",
    "    df_exercise = pd.DataFrame()\n",
    "\n",
    "    for f in os.listdir(path):\n",
    "        full_path = os.path.join(path, f)\n",
    "        if f.find('Active Zone Minutes') != -1:\n",
    "            data = pd.read_csv(full_path)\n",
    "            df_active_zone = df_active_zone.append(data, ignore_index=True)\n",
    "        elif f.find('Activity Goals') != -1:\n",
    "            data = pd.read_csv(full_path)\n",
    "            df_goals = df_goals.append(data, ignore_index=True)\n",
    "        elif f.find('calories') != -1:\n",
    "            with open(full_path, 'r') as f:\n",
    "                json_data = pd.read_json(f)\n",
    "            data = pd.DataFrame(json_data)\n",
    "            df_calories = df_calories.append(data, ignore_index=True)\n",
    "        elif f.find('demographic') != -1:\n",
    "            with open(full_path, 'r') as f:\n",
    "                json_data = pd.read_json(f)\n",
    "            data = pd.DataFrame(json_data)\n",
    "            df_demographic = df_demographic.append(data, ignore_index=True)\n",
    "        elif f.find('distance') != -1:\n",
    "            with open(full_path, 'r') as f:\n",
    "                json_data = pd.read_json(f)\n",
    "            data = pd.DataFrame(json_data)\n",
    "            df_distance = df_distance.append(data, ignore_index=True)\n",
    "        elif f.find('exercise') != -1:\n",
    "            with open(full_path, 'r') as f:\n",
    "                json_data = pd.read_json(f)\n",
    "            data = pd.DataFrame(json_data)\n",
    "            df_exercise = df_exercise.append(data, ignore_index=True)\n",
    "        \n",
    "    return df_active_zone, df_goals, df_calories, df_demographic, df_distance, df_exercise, "
   ]
  },
  {
   "cell_type": "code",
   "execution_count": 18,
   "metadata": {},
   "outputs": [],
   "source": [
    "def create_physical_activity_dataFrames_part2(path):\n",
    "    df_heart_rate = pd.DataFrame()\n",
    "    df_lightly_active_minutes = pd.DataFrame()\n",
    "    for f in os.listdir(path):\n",
    "        full_path = os.path.join(path, f)\n",
    "        if f.find('heart_rate-') != -1:\n",
    "            with open(full_path, 'r') as f:\n",
    "                json_data = pd.read_json(f)\n",
    "            data = pd.DataFrame(json_data)\n",
    "            df_heart_rate = df_heart_rate.append(data, ignore_index=True)\n",
    "        elif f.find('lightly_active_minutes') != -1:\n",
    "            with open(full_path, 'r') as f:\n",
    "                json_data = pd.read_json(f)\n",
    "            data = pd.DataFrame(json_data)\n",
    "            df_lightly_active_minutes = df_lightly_active_minutes.append(data, ignore_index=True)\n",
    "    return df_heart_rate, df_lightly_active_minutes"
   ]
  },
  {
   "cell_type": "code",
   "execution_count": 19,
   "metadata": {},
   "outputs": [],
   "source": [
    "def create_physical_activity_dataFrames_part3(path):\n",
    "    df_moderately_active_minutes = pd.DataFrame()\n",
    "    df_resting_heart_rate = pd.DataFrame()\n",
    "    df_sedentary_minutes = pd.DataFrame()\n",
    "    df_steps = pd.DataFrame()\n",
    "    df_swim_lengths_data = pd.DataFrame()\n",
    "    for f in os.listdir(path):\n",
    "        full_path = os.path.join(path, f)\n",
    "        if f.find('moderately_active_minutes') != -1:\n",
    "            with open(full_path, 'r') as f:\n",
    "                json_data = pd.read_json(f)\n",
    "            data = pd.DataFrame(json_data)\n",
    "            df_moderately_active_minutes = df_moderately_active_minutes.append(data, ignore_index=True)\n",
    "        elif f.find('resting_heart_rate') != -1:\n",
    "            with open(full_path, 'r') as f:\n",
    "                json_data = pd.read_json(f)\n",
    "            data = pd.DataFrame(json_data)\n",
    "            df_resting_heart_rate = df_resting_heart_rate.append(data, ignore_index=True)\n",
    "        elif f.find('sedentary_minutes') != -1:\n",
    "            with open(full_path, 'r') as f:\n",
    "                json_data = pd.read_json(f)\n",
    "            data = pd.DataFrame(json_data)\n",
    "            df_sedentary_minutes = df_sedentary_minutes.append(data, ignore_index=True)\n",
    "        elif f.find('steps') != -1:\n",
    "            with open(full_path, 'r') as f:\n",
    "                json_data = pd.read_json(f)\n",
    "            data = pd.DataFrame(json_data)\n",
    "            df_steps = df_steps.append(data, ignore_index=True)\n",
    "        elif f.find('swim_lengths_data') != -1:\n",
    "            with open(full_path, 'r') as f:\n",
    "                json_data = pd.read_json(f)\n",
    "            data = pd.DataFrame(json_data)\n",
    "            df_swim_lengths_data = df_swim_lengths_data.append(data, ignore_index=True)\n",
    "\n",
    "    return df_moderately_active_minutes, df_resting_heart_rate, df_sedentary_minutes, df_steps, df_swim_lengths_data"
   ]
  },
  {
   "cell_type": "code",
   "execution_count": 20,
   "metadata": {},
   "outputs": [],
   "source": [
    "def create_physical_activity_dataFrames_part4(path):\n",
    "    df_time_in_heart_rate_zones = pd.DataFrame()\n",
    "    df_very_active_minutes = pd.DataFrame()\n",
    "    for f in os.listdir(path):\n",
    "        full_path = os.path.join(path, f)        \n",
    "        if f.find('time_in_heart_rate_zones') != -1:\n",
    "            with open(full_path, 'r') as f:\n",
    "                json_data = pd.read_json(f)\n",
    "            data = pd.DataFrame(json_data)\n",
    "            df_time_in_heart_rate_zones = df_time_in_heart_rate_zones.append(data, ignore_index=True)\n",
    "        elif f.find('very_active_minutes') != -1:\n",
    "            with open(full_path, 'r') as f:\n",
    "                json_data = pd.read_json(f)\n",
    "            data = pd.DataFrame(json_data)\n",
    "            df_very_active_minutes = df_very_active_minutes.append(data, ignore_index=True)\n",
    "    return df_time_in_heart_rate_zones, df_very_active_minutes"
   ]
  },
  {
   "cell_type": "code",
   "execution_count": 21,
   "metadata": {},
   "outputs": [],
   "source": [
    "def create_sleep_dataFrames(path):\n",
    "    df_temp = pd.DataFrame()\n",
    "    df_var_summary = pd.DataFrame()\n",
    "    df_drrs = pd.DataFrame()\n",
    "    df_daily_spo2 = pd.DataFrame()\n",
    "    df_device_temp = pd.DataFrame()\n",
    "    df_hr_var = pd.DataFrame()\n",
    "    df_hr_hist = pd.DataFrame()\n",
    "    df_min_spo2 = pd.DataFrame()\n",
    "    df_rrs = pd.DataFrame()\n",
    "    df_sleep = pd.DataFrame()\n",
    "    df_sleep_score = pd.DataFrame()\n",
    "    for f in os.listdir(path):\n",
    "        full_path = os.path.join(path, f)\n",
    "        if f.find('Computed Temperature') != -1:\n",
    "            data = pd.read_csv(full_path)\n",
    "            df_temp = df_temp.append(data, ignore_index=True)\n",
    "        elif f.find('Daily Heart Rate Variability Summary') != -1:\n",
    "            data = pd.read_csv(full_path)\n",
    "            df_var_summary = df_var_summary.append(data, ignore_index=True)\n",
    "        elif f.find('Daily Respiratory Rate Summary') != -1:\n",
    "            data = pd.read_csv(full_path)\n",
    "            df_drrs = df_drrs.append(data, ignore_index=True)\n",
    "        elif f.find('Daily SpO2') != -1:\n",
    "            data = pd.read_csv(full_path)\n",
    "            df_daily_spo2 = df_daily_spo2.append(data, ignore_index=True)\n",
    "        elif f.find('Device Temperature') != -1:\n",
    "            data = pd.read_csv(full_path)\n",
    "            df_device_temp = df_device_temp.append(data, ignore_index=True)\n",
    "        elif f.find('Heart Rate Variability Details') != -1:\n",
    "            data = pd.read_csv(full_path)\n",
    "            df_hr_var = df_hr_var.append(data, ignore_index=True)\n",
    "        elif f.find('Heart Rate Variability Histogram') != -1:\n",
    "            data = pd.read_csv(full_path)\n",
    "            df_hr_hist = df_hr_hist.append(data, ignore_index=True)\n",
    "        elif f.find('Minute SpO2') != -1:\n",
    "            data = pd.read_csv(full_path)\n",
    "            df_min_spo2 = df_min_spo2.append(data, ignore_index=True)\n",
    "        elif f.find('Respiratory Rate Summary') != -1:\n",
    "            data = pd.read_csv(full_path)\n",
    "            df_rrs = df_rrs.append(data, ignore_index=True)\n",
    "        elif f.find('sleep-') != -1:\n",
    "            with open(full_path, 'r') as f:\n",
    "                json_data = pd.read_json(f)\n",
    "            data = pd.DataFrame(json_data)\n",
    "            df_sleep = df_sleep.append(data, ignore_index=True)\n",
    "        elif f.find('sleep_score') != -1:\n",
    "            data = pd.read_csv(full_path)\n",
    "            df_sleep_score = df_sleep_score.append(data, ignore_index=True)\n",
    "    return df_temp, df_var_summary, df_drrs, df_daily_spo2, df_device_temp, df_hr_var, df_hr_hist, df_min_spo2, df_rrs, df_sleep, df_sleep_score\n"
   ]
  },
  {
   "cell_type": "code",
   "execution_count": 22,
   "metadata": {},
   "outputs": [],
   "source": [
    "def create_stress_dataFrames(path):\n",
    "    df1 = pd.DataFrame()\n",
    "    df2 = pd.DataFrame()\n",
    "    df3 = pd.DataFrame()\n",
    "    df4 = pd.DataFrame()\n",
    "    for f in os.listdir(path):\n",
    "        full_path = os.path.join(path, f)        \n",
    "        if f.find('Mindfulness Eda Data Sessions') != -1 or f.find('mindfulness_eda_data_sessions') != -1:\n",
    "            data = pd.read_csv(full_path)\n",
    "            df1= df1.append(data, ignore_index=True)\n",
    "        elif f.find('Mindfulness Sessions') != -1 or f.find('mindfulness_sessions') != -1:\n",
    "            data = pd.read_csv(full_path)\n",
    "            df2 = df2.append(data, ignore_index=True)\n",
    "        elif f.find('Stress Score') != -1:\n",
    "            data = pd.read_csv(full_path)\n",
    "            df3 = df3.append(data, ignore_index=True)\n",
    "        elif f.find('mindfulness_goals') != -1:\n",
    "            data = pd.read_csv(full_path)\n",
    "            df4 = df4.append(data, ignore_index=True)\n",
    "    return df1, df2, df3, df4"
   ]
  },
  {
   "cell_type": "markdown",
   "metadata": {},
   "source": [
    "Funkcje do agregowania DataFramów dla wszystkich uczestników i zapisywania ich do nowych plików."
   ]
  },
  {
   "cell_type": "code",
   "execution_count": 23,
   "metadata": {},
   "outputs": [],
   "source": [
    "def aggregate_data(path, wanted_folder, data_part=None):\n",
    "    if wanted_folder == \"Heart\":\n",
    "        data = create_heart_dataFrames(path)\n",
    "        return data\n",
    "    elif wanted_folder == \"Other\":\n",
    "        data = create_other_dataFrames(path)\n",
    "        return data\n",
    "    elif wanted_folder == \"Physical Activity\" and data_part == 1:\n",
    "        data = create_physical_activity_dataFrames_part1(path)\n",
    "        return data\n",
    "    elif wanted_folder == \"Physical Activity\" and data_part == 2:\n",
    "        data = create_physical_activity_dataFrames_part2(path)\n",
    "        return data\n",
    "    elif wanted_folder == \"Physical Activity\" and data_part == 3:\n",
    "        data = create_physical_activity_dataFrames_part3(path)\n",
    "        return data\n",
    "    elif wanted_folder == \"Physical Activity\" and data_part == 4:\n",
    "        data = create_physical_activity_dataFrames_part4(path)\n",
    "        return data\n",
    "    elif wanted_folder == \"Sleep\":\n",
    "        data = create_sleep_dataFrames(path)\n",
    "        return data\n",
    "    elif wanted_folder == \"Stress\":\n",
    "        data = create_stress_dataFrames(path)\n",
    "        return data"
   ]
  },
  {
   "cell_type": "code",
   "execution_count": 36,
   "metadata": {},
   "outputs": [],
   "source": [
    "def clean_folders_and_aggregate_files(main_path, wanted_folder=None, files_names=[], data_part=None, print_files_list=False, cleansing=False):\n",
    "    if len(files_names) > 0:\n",
    "        # tworzenie pustych dataFramów\n",
    "        for i in range(len(files_names)):\n",
    "            globals()['df_{num}'.format(num=i+1)] = pd.DataFrame()\n",
    "    files_list = []\n",
    "    # iterowanie po folderach każdego użytkownika\n",
    "    for iter in os.listdir(main_path):\n",
    "        iter_path = os.path.join(main_path, iter)\n",
    "        for user_folder in tqdm(os.listdir(iter_path)):\n",
    "            user_path = os.path.join(iter_path, user_folder)\n",
    "            for user_name_folder in os.listdir(user_path):\n",
    "                user_name_path = os.path.join(user_path, user_name_folder)\n",
    "                if user_name_folder.find('pdf') != -1:\n",
    "                    # usuwanie pliku pdf\n",
    "                    os.remove(user_name_path)\n",
    "                else:\n",
    "                    # wszystkie foldery dla użytkownika\n",
    "                    for folder in os.listdir(user_name_path):\n",
    "                        # iterowanie po wszystkich folderach użytkownika\n",
    "                        folder_path = os.path.join(user_name_path, folder)\n",
    "                        if cleansing:\n",
    "                            remove_readme_files(folder_path)\n",
    "                            remove_empty_files(folder_path)\n",
    "                            remove_empty_folders(folder_path)\n",
    "                        if folder == wanted_folder:\n",
    "                            # obsługa plików\n",
    "                            if len(files_names) > 0:\n",
    "                                df_out = aggregate_data(folder_path, wanted_folder, data_part=data_part)\n",
    "                                for i in range(len(files_names)):\n",
    "                                    df = df_out[i]\n",
    "                                    df[\"iteration\"] = str(iter)\n",
    "                                    df[\"userID\"] = str(user_folder)\n",
    "                                    globals()['df_{num}'.format(num=i+1)] = globals()['df_{num}'.format(num=i+1)].append(df, ignore_index=True)\n",
    "                            files = return_files_list(folder_path)\n",
    "                            files_list += files\n",
    "    # zapisywanie danych do plików\n",
    "    if files_names != []:\n",
    "        # tworzenie nowego folderu fitbit_out\n",
    "        path = main_path.split('fitbit')[0]+'fitbit_out/'\n",
    "        if not os.path.exists(path):\n",
    "            os.makedirs(path)\n",
    "        \n",
    "        for i in range(len(files_names)):\n",
    "            path = main_path.split('fitbit')[0]+'fitbit_out/'+wanted_folder\n",
    "            if not os.path.exists(path):\n",
    "                os.makedirs(path)\n",
    "            globals()['df_{num}'.format(num=i+1)].to_csv('{main_path}/fitbit_out/{folder_name}/{file_name}'.format(main_path=main_path.split(\"/fitbit_in\")[0], folder_name=wanted_folder, file_name=files_names[i]), index=False)\n",
    "    if print_files_list:\n",
    "        return set(files_list)\n"
   ]
  },
  {
   "cell_type": "code",
   "execution_count": null,
   "metadata": {},
   "outputs": [],
   "source": [
    "########## ROZPAKOWANIE FOLDERÓW ZIP ##########\n",
    "unpack_zip_folder(main_path)"
   ]
  },
  {
   "cell_type": "code",
   "execution_count": null,
   "metadata": {},
   "outputs": [],
   "source": [
    "########## CZYSZCZENIE WSZYSTKICH FOLDERÓW ##########\n",
    "clean_folders_and_aggregate_files(main_path, cleansing=True)"
   ]
  },
  {
   "cell_type": "markdown",
   "metadata": {},
   "source": [
    "# Agregacja wszystkich plików\n",
    "Foldery wyjściowe:\n",
    "- HEART\n",
    "- OTHER\n",
    "- PHYSICAL ACTIVITY\n",
    "- SLEEP\n",
    "- STRESS"
   ]
  },
  {
   "cell_type": "markdown",
   "metadata": {},
   "source": [
    "## Folder HEART"
   ]
  },
  {
   "cell_type": "code",
   "execution_count": null,
   "metadata": {},
   "outputs": [],
   "source": [
    "# wypisanie listy plików w folderze\n",
    "clean_folders_and_aggregate_files(main_path, wanted_folder='Heart', print_files_list=True)"
   ]
  },
  {
   "cell_type": "code",
   "execution_count": null,
   "metadata": {},
   "outputs": [],
   "source": [
    "clean_folders_and_aggregate_files(main_path, wanted_folder='Heart', files_names=['afib_ecg_reading.csv', 'hr_notifications_alerts.csv', 'hr_notifications_profile.csv'])"
   ]
  },
  {
   "cell_type": "markdown",
   "metadata": {},
   "source": [
    "## Folder OTHER"
   ]
  },
  {
   "cell_type": "code",
   "execution_count": null,
   "metadata": {},
   "outputs": [],
   "source": [
    "# wypisanie listy plików w folderze\n",
    "clean_folders_and_aggregate_files(main_path, wanted_folder='Other', print_files_list=True)"
   ]
  },
  {
   "cell_type": "code",
   "execution_count": null,
   "metadata": {},
   "outputs": [],
   "source": [
    "clean_folders_and_aggregate_files(main_path, wanted_folder='Other', files_names=['estimated_oxygen_variation.csv'])"
   ]
  },
  {
   "cell_type": "markdown",
   "metadata": {},
   "source": [
    "## Folder PHYSICAL ACTIVITY"
   ]
  },
  {
   "cell_type": "code",
   "execution_count": null,
   "metadata": {},
   "outputs": [],
   "source": [
    "# wypisanie listy plików w folderze\n",
    "clean_folders_and_aggregate_files(main_path, wanted_folder='Physical Activity', print_files_list=True)"
   ]
  },
  {
   "cell_type": "code",
   "execution_count": null,
   "metadata": {},
   "outputs": [],
   "source": [
    "clean_folders_and_aggregate_files(main_path, wanted_folder='Physical Activity', files_names=['active_zone_minutes.csv', 'activity_goals.csv', 'calories.csv', 'demographic_vo2_max.csv', 'distance.csv', 'exercise.csv'], data_part=1)"
   ]
  },
  {
   "cell_type": "code",
   "execution_count": null,
   "metadata": {},
   "outputs": [],
   "source": [
    "clean_folders_and_aggregate_files(main_path, wanted_folder='Physical Activity', files_names=['heart_rate.csv', 'lightly_active_minutes.csv'], data_part=2)"
   ]
  },
  {
   "cell_type": "code",
   "execution_count": null,
   "metadata": {},
   "outputs": [],
   "source": [
    "clean_folders_and_aggregate_files(main_path, wanted_folder='Physical Activity', files_names=['moderately_active_minutes.csv', 'resting_heart_rate.csv', 'sedentary_minutes.csv', 'steps.csv', 'swim_lengths.csv'], data_part=3)"
   ]
  },
  {
   "cell_type": "code",
   "execution_count": null,
   "metadata": {},
   "outputs": [],
   "source": [
    "clean_folders_and_aggregate_files(main_path, wanted_folder='Physical Activity', files_names=['time_in_heart_rate_zones.csv', 'very_active_minutes.csv'], data_part=4)"
   ]
  },
  {
   "cell_type": "markdown",
   "metadata": {},
   "source": [
    "## Folder SLEEP"
   ]
  },
  {
   "cell_type": "code",
   "execution_count": null,
   "metadata": {},
   "outputs": [],
   "source": [
    "# wypisanie listy plików w folderze\n",
    "clean_folders_and_aggregate_files(main_path, wanted_folder='Sleep', print_files_list=True)"
   ]
  },
  {
   "cell_type": "code",
   "execution_count": null,
   "metadata": {},
   "outputs": [],
   "source": [
    "clean_folders_and_aggregate_files(main_path, wanted_folder='Sleep', files_names= ['computed_temperature.csv', 'daily_hr_variability_summary.csv', 'daily_respiratory_var_summary.csv',\n",
    "                                                                                'daily_SpO2.csv', 'device_temperature.csv', 'heart_rate_variability_details.csv',\n",
    "                                                                                'heart_rate_variability_hist.csv', 'minute_SpO2.csv', 'respiratory_rate_summary.csv',\n",
    "                                                                                'sleep.csv', 'sleep_score.csv'])"
   ]
  },
  {
   "cell_type": "markdown",
   "metadata": {},
   "source": [
    "## Folder STRESS"
   ]
  },
  {
   "cell_type": "code",
   "execution_count": null,
   "metadata": {},
   "outputs": [],
   "source": [
    "# wypisanie listy plików w folderze\n",
    "clean_folders_and_aggregate_files(main_path, wanted_folder='Stress', print_files_list=True)"
   ]
  },
  {
   "cell_type": "code",
   "execution_count": null,
   "metadata": {},
   "outputs": [],
   "source": [
    "clean_folders_and_aggregate_files(main_path, wanted_folder='Stress', files_names=['mindfulness_eda_data_sessions.csv', 'mindfulness_sessions.csv', 'stress_score.csv', 'minfulness_goals.csv'])"
   ]
  }
 ],
 "metadata": {
  "kernelspec": {
   "display_name": "Python 3",
   "language": "python",
   "name": "python3"
  },
  "language_info": {
   "codemirror_mode": {
    "name": "ipython",
    "version": 3
   },
   "file_extension": ".py",
   "mimetype": "text/x-python",
   "name": "python",
   "nbconvert_exporter": "python",
   "pygments_lexer": "ipython3",
   "version": "3.9.7"
  }
 },
 "nbformat": 4,
 "nbformat_minor": 2
}

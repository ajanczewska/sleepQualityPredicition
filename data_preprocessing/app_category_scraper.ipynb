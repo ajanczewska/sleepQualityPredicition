{
 "cells": [
  {
   "cell_type": "code",
   "execution_count": 2,
   "metadata": {},
   "outputs": [],
   "source": [
    "import pandas as pd\n",
    "import os\n",
    "from tqdm import tqdm\n",
    "import requests\n",
    "from bs4 import BeautifulSoup\n",
    "import plotly.express as px"
   ]
  },
  {
   "cell_type": "code",
   "execution_count": 5,
   "metadata": {},
   "outputs": [],
   "source": [
    "def scrap_app_category(app_name):\n",
    "    url = f'https://play.google.com/store/apps/details?id={app_name}'\n",
    "    response = requests.get(url)\n",
    "    if response.status_code == 200:\n",
    "        # parsujemy zawartość strony\n",
    "        soup = BeautifulSoup(response.text, 'html.parser')\n",
    "        \n",
    "        # znajdujemy konkretny <a> na stronie za pomocą jego klasy\n",
    "        target_anchor = soup.find('a', class_='WpHeLc VfPpkd-mRLv6 VfPpkd-RLmnJb')\n",
    "        \n",
    "        # sprawdzamy, czy znaleziono <a> o podanej klasie\n",
    "        if target_anchor:\n",
    "            #print(target_div.prettify())\n",
    "            return str(target_anchor.attrs['aria-label'])\n",
    "            \n",
    "        else:\n",
    "            return None\n",
    "    else:\n",
    "       return None"
   ]
  },
  {
   "cell_type": "code",
   "execution_count": null,
   "metadata": {},
   "outputs": [],
   "source": [
    "package_list = []\n",
    "for iter in range(1, 8):\n",
    "    ###########  W MIEJSCU /.../ PODAJ ŚCIEŻKĘ DO DANYCH PO PRZETWORZENIU ###########\n",
    "    iter_path = f\"C:/.../aggregated_data/i_0{iter}/\"\n",
    "    for i, user_name in tqdm(enumerate(os.listdir(iter_path))):\n",
    "        user_path = iter_path+user_name\n",
    "\n",
    "        userstats = pd.read_csv(user_path+'usageStats.csv')\n",
    "        package_list.extend(list(userstats['packageName']))\n",
    "        package_list = set(package_list)"
   ]
  },
  {
   "cell_type": "code",
   "execution_count": null,
   "metadata": {},
   "outputs": [],
   "source": [
    "print(\"Liczba unikalnych aplikacji dla wszystkich uczestników wynosi:\", len(package_list))"
   ]
  },
  {
   "cell_type": "code",
   "execution_count": null,
   "metadata": {},
   "outputs": [],
   "source": [
    "# scrapowanie danych\n",
    "app_category_df = pd.DataFrame()\n",
    "for app_name in package_list:\n",
    "    category = scrap_app_category(app_name)\n",
    "    app_category_df = app_category_df.append({'packageName': app_name, 'category': category}, ignore_index=True)"
   ]
  },
  {
   "cell_type": "code",
   "execution_count": 8,
   "metadata": {},
   "outputs": [
    {
     "name": "stdout",
     "output_type": "stream",
     "text": [
      "['Tools' 'Lifestyle' 'Casual' 'Books & Reference' 'Travel & Local'\n",
      " 'System' 'Productivity' 'Health & Fitness' 'Food & Drink' 'Education'\n",
      " 'Puzzle' 'Music & Audio' 'Medical' 'Business' 'Weather' 'Strategy'\n",
      " 'Sports' 'Shopping' 'Finance' 'Simulation' 'Entertainment'\n",
      " 'News & Magazines' 'Board' 'Communication' 'Photography' 'Parenting'\n",
      " 'Role Playing' 'Video Players & Editors' 'Maps & Navigation' 'Racing'\n",
      " 'Beauty' 'Social' 'Personalization' 'Action' 'Art & Design'\n",
      " 'Auto & Vehicles' 'Trivia' 'Word' 'Dating' 'Events' 'Adventure' 'Card'\n",
      " 'Casino' 'House & Home' 'Comics']\n"
     ]
    }
   ],
   "source": [
    "print(app_category_df['category'].unique())"
   ]
  },
  {
   "cell_type": "code",
   "execution_count": 12,
   "metadata": {},
   "outputs": [],
   "source": [
    "# agregowanie kategorii do ogólnych grup\n",
    "category_to_agg_category = {'Games':['Puzzle', 'Strategy', 'Board', 'Action', 'Racing', 'Casual', 'Simulation', 'Role Playing', 'Adventure', 'Card', 'Trivia', 'Word', 'Casino'],\n",
    "                            'Communication':['Communication'],\n",
    "                            'Reading':['Books & Reference', 'News & Magazines', 'Comics'],\n",
    "                            'Health':['Health & Fitness', 'Medical'],\n",
    "                            'Music & Audio':['Music & Audio'],\n",
    "                            'Video':['Video Players & Editors', 'Entertainment'],\n",
    "                            'Social':['Social', 'Dating'],\n",
    "                            'Travel':['Travel & Local', 'Maps & Navigation',],\n",
    "                            'Others':['Tools', 'System', 'Lifestyle', 'Food & Drink', 'Business', 'Photography',\n",
    "                                      'Productivity', 'Education', 'Weather', 'Sports',\n",
    "                                      'Finance', 'Parenting', 'Beauty', 'Personalization', 'Art & Design',\n",
    "                                      'Auto & Vehicles', 'Events', 'House & Home', 'Shopping'],\n",
    "                            }\n",
    "category_to_agg_category = {cat: agg_cat for agg_cat, cat in category_to_agg_category.items() for cat in cat}\n",
    "app_category_df['agg_category'] = app_category_df['category'].map(category_to_agg_category)"
   ]
  },
  {
   "cell_type": "code",
   "execution_count": 17,
   "metadata": {},
   "outputs": [],
   "source": [
    "# zapisywanie danych do pliku\n",
    "###########  UWAGA - PRZY ZAPISYWANIU ORYGINALNY PLIK ZOSTANIE NADPISANY (KATEGORIE DODANE RĘCZNIE ZOSTANĄ USUNIĘTE) ###########\n",
    "#app_category_df.to_csv(\"C:/.../dataset/apps_category.csv\", index=False)"
   ]
  }
 ],
 "metadata": {
  "language_info": {
   "name": "python"
  }
 },
 "nbformat": 4,
 "nbformat_minor": 2
}

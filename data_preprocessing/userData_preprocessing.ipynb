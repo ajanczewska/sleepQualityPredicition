{
 "cells": [
  {
   "cell_type": "code",
   "execution_count": 5,
   "metadata": {},
   "outputs": [],
   "source": [
    "import pandas as pd\n",
    "import os\n",
    "from tqdm import tqdm\n",
    "from datetime import datetime"
   ]
  },
  {
   "cell_type": "code",
   "execution_count": 6,
   "metadata": {},
   "outputs": [],
   "source": [
    "def filtered_dataFrames(in_df):\n",
    "    final_df_latest = pd.DataFrame()\n",
    "\n",
    "    in_df['queryStart'] = pd.to_datetime(in_df['queryStart'], format='%Y-%m-%dT%H:%M:%S.%f')\n",
    "    in_df['start'] = pd.to_datetime(in_df['start'], format='%Y-%m-%dT%H:%M:%S.%f')\n",
    "    in_df['end'] = pd.to_datetime(in_df['end'], format='%Y-%m-%dT%H:%M:%S.%f')\n",
    "    # iterowanie po unikalnych aplikacjach\n",
    "    for app in list(in_df['packageName'].unique()):\n",
    "        # wybieranie podzbioru dla tej aplikacji\n",
    "        app_subset = in_df[in_df['packageName'] == app]\n",
    "\n",
    "        # wybieramy najpóźniejszy wpis danego dnia po queryStart\n",
    "        filtered_df_latest = app_subset.groupby(app_subset['queryStart'].dt.date).apply(lambda x: x.nlargest(1, columns='queryStart'))\n",
    "        \n",
    "        filtered_df_latest.reset_index(drop=True, inplace=True)\n",
    "        final_df_latest = final_df_latest.append(filtered_df_latest, ignore_index=True)\n",
    "\n",
    "    final_df_latest.sort_values(by='queryStart', inplace=True)\n",
    "    final_df_latest.reset_index(drop=True, inplace=True)\n",
    "\n",
    "    return final_df_latest"
   ]
  },
  {
   "cell_type": "code",
   "execution_count": 7,
   "metadata": {},
   "outputs": [],
   "source": [
    "def time_diff_more_than_10minutes(data1, data2):\n",
    "    dt1 = datetime.strptime(data1, '%Y-%m-%dT%H:%M:%S.%f')\n",
    "    dt2 = datetime.strptime(data2, '%Y-%m-%dT%H:%M:%S.%f')\n",
    "    \n",
    "    diff = abs((dt2 - dt1).total_seconds())\n",
    "    \n",
    "    return diff > 10*60"
   ]
  },
  {
   "cell_type": "code",
   "execution_count": 10,
   "metadata": {},
   "outputs": [],
   "source": [
    "def read_aggregate_usageStats_files_for_user(in_path, out_path):\n",
    "    out_df =  pd.DataFrame()\n",
    "    for user_folders in os.listdir(in_path):\n",
    "        if user_folders.find('usageStats') != -1:\n",
    "            user_files_path = os.path.join(in_path, user_folders)\n",
    "            for user_file in os.listdir(user_files_path):\n",
    "                file_path = os.path.join(user_files_path, user_file)  \n",
    "                data = pd.read_csv(file_path, sep='\\t')\n",
    "                # dla każdego wpisu\n",
    "                for data_line in data.iloc:\n",
    "                    # jeżeli jest to wpis cykliczny\n",
    "                    if time_diff_more_than_10minutes(data_line['queryStart'], data_line['queryEnd']):\n",
    "                        data_to_append = pd.DataFrame(eval(data_line['usageStats']))\n",
    "                        data_to_append['queryStart'] = data_line['queryStart']\n",
    "                        out_df = out_df.append(data_to_append, ignore_index=True)\n",
    "    if len(out_df) > 0:\n",
    "        final_df_latest = filtered_dataFrames(out_df)\n",
    "\n",
    "        # zapisywanie danych do plików\n",
    "        final_df_latest[['queryStart', 'timeVisible', 'packageName']].to_csv(out_path+'usageStats.csv', index=False)\n",
    "    else:\n",
    "        pd.DataFrame(columns=['queryStart', 'timeVisible', 'packageName']).to_csv(out_path+'usageStats.csv', index=False)"
   ]
  },
  {
   "cell_type": "code",
   "execution_count": null,
   "metadata": {},
   "outputs": [],
   "source": [
    "for iter in range(1, 8):\n",
    "    ###########  W MIEJSCU /.../ PODAJ ŚCIEŻKĘ DO DANYCH userData ###########\n",
    "    iter_path = f\"C:/.../i_0{iter}/\"\n",
    "    for i, user_name in tqdm(enumerate(os.listdir(iter_path))):\n",
    "        in_path = iter_path+user_name\n",
    "\n",
    "        ########### W MIEJSCU /.../ PODAJ ŚCIEŻKĘ, W KTÓREJ CHCESZ ZAPISAĆ DANE PO PRZETWORZENIU ###########\n",
    "        out_path = f\"C:/.../aggregated_data/i_0{iter}/{user_name}/\" \n",
    "        \n",
    "        if not os.path.exists(out_path):\n",
    "            os.makedirs(out_path)\n",
    "        read_aggregate_usageStats_files_for_user(in_path, out_path)"
   ]
  }
 ],
 "metadata": {
  "kernelspec": {
   "display_name": "Python 3",
   "language": "python",
   "name": "python3"
  },
  "language_info": {
   "codemirror_mode": {
    "name": "ipython",
    "version": 3
   },
   "file_extension": ".py",
   "mimetype": "text/x-python",
   "name": "python",
   "nbconvert_exporter": "python",
   "pygments_lexer": "ipython3",
   "version": "3.9.7"
  }
 },
 "nbformat": 4,
 "nbformat_minor": 2
}

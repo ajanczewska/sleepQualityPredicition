{
 "cells": [
  {
   "cell_type": "code",
   "execution_count": 3,
   "metadata": {},
   "outputs": [],
   "source": [
    "import pandas as pd\n",
    "import os\n",
    "import json\n",
    "from datetime import datetime"
   ]
  },
  {
   "cell_type": "code",
   "execution_count": 4,
   "metadata": {},
   "outputs": [],
   "source": [
    "def convert_dates(df):\n",
    "    \"\"\"Function to convert and round dates in given datasets\"\"\"\n",
    "\n",
    "    # usuwanie milisekund\n",
    "    df['filledTimestamp'] = df['filledTimestamp'].apply(lambda x: x.split('.')[0])\n",
    "    # zaokrąglanie sekund do minut\n",
    "    df['filledTimestamp'] = df['filledTimestamp'].apply(lambda x: datetime.strptime(x, '%Y-%m-%dT%H:%M:%S').replace(second=0, microsecond=0))\n",
    "    \n",
    "    return df"
   ]
  },
  {
   "cell_type": "code",
   "execution_count": 5,
   "metadata": {},
   "outputs": [],
   "source": [
    "def create_forms_dataframe_for_user(in_path, out_path):\n",
    "    df_morning_forms = pd.DataFrame()\n",
    "    df_evening_forms = pd.DataFrame()\n",
    "    for user_folders in os.listdir(in_path):\n",
    "        user_folders_path = os.path.join(in_path, user_folders)\n",
    "        for user_forms in os.listdir(user_folders_path):\n",
    "            if user_forms == 'morning':\n",
    "                morning_forms_path = os.path.join(user_folders_path, user_forms)\n",
    "                for morning_form in os.listdir(morning_forms_path):\n",
    "                    # bezpośredni dostęp do plików z ankiet porannych\n",
    "                    morning_form_path = os.path.join(morning_forms_path, morning_form)\n",
    "                    with open(morning_form_path, 'r') as f:\n",
    "                        json_data = json.load(f)\n",
    "                    df_morning_forms = df_morning_forms.append(json_data, ignore_index=True)\n",
    "            elif user_forms == 'evening':\n",
    "                evening_forms_path = os.path.join(user_folders_path, user_forms)\n",
    "                for evening_form in os.listdir(evening_forms_path):\n",
    "                    # bezpośredni dostęp do plików z ankiet wieczornych\n",
    "                    evening_form_path = os.path.join(evening_forms_path, evening_form)\n",
    "                    with open(evening_form_path, 'r') as f:\n",
    "                        json_data = json.load(f)\n",
    "                    df_evening_forms = df_evening_forms.append(json_data, ignore_index=True)\n",
    "    # odfiltrowywanie ankiet po statusie (musi być FILLED)\n",
    "    df_morning_forms_filtered = df_morning_forms[df_morning_forms['status'] == 'FILLED']\n",
    "    df_morning_final = pd.concat([df_morning_forms_filtered['filledTimestamp'], df_morning_forms_filtered['response'].apply(pd.Series), df_morning_forms_filtered['sleepSegment'].apply(pd.Series)], axis=1)\n",
    "    df_morning_final.rename(columns={'rest':'morningRest', 'stress':'morningStress', 'composure':'morningComposure', 'startTimestamp': 'sleepStart', 'endTimestamp':'sleepEnd', 'duration':'sleepDuration'}, inplace=True)\n",
    "    \n",
    "    # odfiltrowywanie ankiet wieczornych\n",
    "    df_evening_forms_filtered = df_evening_forms[df_evening_forms['status'] == 'FILLED']\n",
    "    df_evening_final = pd.concat([df_evening_forms_filtered['filledTimestamp'], df_evening_forms_filtered['response'].apply(pd.Series)], axis=1)\n",
    "    df_evening_final.rename(columns={'health':'eveningHealth', 'mood':'eveningMood', 'overwhelm':'eveningOverwhelm', 'unpredictability': 'eveningUpredictability'}, inplace=True)\n",
    "\n",
    "    out_morning = round(((len(df_morning_forms) - len(df_morning_final))/len(df_morning_forms))*100, 2)\n",
    "    out_evening = round(((len(df_evening_forms) - len(df_evening_final))/len(df_evening_forms))*100, 2)\n",
    "\n",
    "    df_morning_final = convert_dates(df_morning_final)\n",
    "    df_evening_final = convert_dates(df_evening_final)\n",
    "    df_morning_final.reset_index(inplace=True, drop=True)\n",
    "    df_evening_final.reset_index(inplace=True, drop=True)\n",
    "\n",
    "    print(\"Odrzucono {out}% ankiet porannych.\".format(out=out_morning))\n",
    "    print(\"Odrzucono {out}% ankiet wieczornych.\".format(out=out_evening))\n",
    "    df_morning_final.to_csv(out_path+'morning_forms.csv', index=False)\n",
    "    df_evening_final.to_csv(out_path+'evening_forms.csv', index=False)"
   ]
  },
  {
   "cell_type": "code",
   "execution_count": null,
   "metadata": {},
   "outputs": [],
   "source": [
    "########### PRZETWARZANIE DANYCH Z ANKIET PORANNYCH I WIECZORNYCH ###########\n",
    "\n",
    "for iter in range(1, 8):\n",
    "    ###########  W MIEJSCU /.../ PODAJ ŚCIEŻKĘ DO DANYCH Z ANKIETAMI ###########\n",
    "    iter_path = f\"C:/.../forms/iteration_0{iter}/\"\n",
    "    for i, user_name in enumerate(os.listdir(iter_path)):\n",
    "        in_path = iter_path+user_name\n",
    "\n",
    "        ########### W MIEJSCU /.../ PODAJ ŚCIEŻKĘ, W KTÓREJ CHCESZ ZAPISAĆ DANE PO PRZETWORZENIU ###########\n",
    "        out_path = f\"C:/.../aggregated_data/i_0{iter}/{user_name}/\"\n",
    "        \n",
    "        if not os.path.exists(out_path):\n",
    "            os.makedirs(out_path)\n",
    "        # zapisywanie danych do plików\n",
    "        create_forms_dataframe_for_user(in_path, out_path)"
   ]
  }
 ],
 "metadata": {
  "kernelspec": {
   "display_name": "Python 3",
   "language": "python",
   "name": "python3"
  },
  "language_info": {
   "codemirror_mode": {
    "name": "ipython",
    "version": 3
   },
   "file_extension": ".py",
   "mimetype": "text/x-python",
   "name": "python",
   "nbconvert_exporter": "python",
   "pygments_lexer": "ipython3",
   "version": "3.9.7"
  }
 },
 "nbformat": 4,
 "nbformat_minor": 2
}

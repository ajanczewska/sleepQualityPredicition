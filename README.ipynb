{
 "cells": [
  {
   "cell_type": "markdown",
   "id": "7102475b-b666-4e7c-8a9b-5f6ca558b330",
   "metadata": {},
   "source": [
    "Readme"
   ]
  },
  {
   "cell_type": "code",
   "execution_count": null,
   "id": "ec05d53e-0399-42e6-b20b-4ff9c7dd284e",
   "metadata": {},
   "outputs": [],
   "source": [
    "import pandas as pd\n",
    "path = 'D:/DATA_THESIS/Projekt_nw_AG_AJ/Outputs_project_data_preprocessing'"
   ]
  },
  {
   "cell_type": "markdown",
   "id": "98be94ff-75d0-4638-ae53-4fff7d613815",
   "metadata": {
    "jp-MarkdownHeadingCollapsed": true
   },
   "source": [
    "# 1. 1_morning_evening_emotion"
   ]
  },
  {
   "cell_type": "markdown",
   "id": "4ed1732e-d89e-4b83-9596-82e4165d18fe",
   "metadata": {
    "jp-MarkdownHeadingCollapsed": true
   },
   "source": [
    "```INPUT: folder with the questionnaires```\n",
    "\n",
    "#### 1. Read all the questionnaires into the 3 separate dataframes - morning, evening, emotion\n",
    "   - Only filled questionnaires were saved\n",
    "\n",
    "#### 2. Each dataframe contains 3 columns:\n",
    "- _id_ - id of the patient\n",
    "- _createdTimestamp_ - the moment the questonnaire appeared\n",
    "- _filledTimenstamp_ - the moment questionnaire was filled in and submited\n",
    "In addition depending on the questionnaire type there were different data.\n",
    "\n",
    "##### Evening questionnaire containded:\n",
    "- overwhelm\n",
    "- health\n",
    "- mood\n",
    "- unpredictability\n",
    "\n",
    "##### Morning questionnaire containded:\n",
    "- rest\n",
    "- sleepQuality\n",
    "- stress\n",
    "- composure\n",
    "\n",
    "##### Emotion questionnaire containded:\n",
    "- intenseEmotion\n",
    "- valence\n",
    "- arousal\n",
    "- comments\n",
    "\n",
    "#### 3. Convert Timestamp columns to datetime\n",
    "\n",
    "#### 4. Join evening questionnaires with morning questionnaires this way, so there will be in one row data from the evening before the sleep and morning after the sleep\n",
    "\n",
    "As the result, there is a file with 12 columns and data for 3881 days of all the patients (evening_morning.pkl).\n",
    "\n",
    "##### Columns:\n",
    "- rest\n",
    "- sleepQuality\n",
    "- stress\n",
    "- composure\n",
    "- filledTimestamp_morning\n",
    "- filledTimestamp_evening\n",
    "- overwhelm\n",
    "- health\n",
    "- mood\n",
    "- unpredictability\n",
    "- id\n",
    "- time_difference\n",
    "\n",
    "#### 5. Output:\n",
    "```- evening_morning.pkl```\n",
    "\n",
    "```- df_evening.csv,```\n",
    "\n",
    "```- df_evening.csv,```\n",
    "\n",
    "```- df_emotion.csv```\n",
    "\n",
    "(folder *1_data*)"
   ]
  },
  {
   "cell_type": "code",
   "execution_count": null,
   "id": "a916e25c-3835-4c6b-9703-f1ba1cdeac0f",
   "metadata": {},
   "outputs": [],
   "source": [
    "pd.read_pickle(f'{path}/1_data/evening_morning.pkl').head(3)"
   ]
  },
  {
   "cell_type": "code",
   "execution_count": null,
   "id": "f6051c86-8031-44a5-93e6-238f67673ef7",
   "metadata": {},
   "outputs": [],
   "source": [
    "pd.read_csv(f'{path}/1_data/df_evening.csv').head(3)"
   ]
  },
  {
   "cell_type": "markdown",
   "id": "749a0894-297d-4012-a81b-81ab4f8c8dd1",
   "metadata": {
    "jp-MarkdownHeadingCollapsed": true
   },
   "source": [
    "# 2. 2_fitbit_sleep_data"
   ]
  },
  {
   "cell_type": "markdown",
   "id": "b5b03a47-19b6-4ee8-8d3c-42373bd2e037",
   "metadata": {},
   "source": [
    "```INPUT: all fitbits folder with all the iterations```\n",
    "\n",
    "#### 1. Read fitbit heart rates and sleep data\n",
    "\n",
    "#### 2. Save heart rates and sleep data aggregated **f'2_fitbit_sleep/sleep_joined_i0{i}.pkl'**, **f'2_fitbit_sleep/heart_rate_joined_i0{i}.pkl'**\n",
    "\n",
    "#### 3. Analysis of the data, statistics for all the iterations\n",
    "\n",
    "#### 4. Find sleep longer that 3h\n",
    "\n",
    "-> All sleep data:  1397 Only long sleep data:  1166 Percentage of removed data:  16.535433070866148 %\n",
    "\n",
    "#### 5. All the bpm data:  17779358 Only sleep data:  3639772 percentage removed:  79.52810219581607 %. BPM value was taken into consideration if the confidence was equal or higher than 2. \n",
    "\n",
    "#### 6. Output:\n",
    "\n",
    "```OUTPUT FOLDER: 2_fitbit_sleep```\n",
    "\n",
    "```sleep_segments_all_iterations.pkl```\n",
    "\n",
    "    Columns:\n",
    "    - dateTime - time of the bpm measurement\n",
    "    - patient_id\n",
    "    - bpm\n",
    "    - confidence\n",
    "    - sleep_id\n",
    "    \n",
    "```long_sleep_all_iterations.pkl```\n",
    "\n",
    "    Columns:\n",
    "    - logId\n",
    "    - dateOfSleep\n",
    "    - startTime\n",
    "    - endTime\n",
    "    - duration\n",
    "    - minutesToFallAsleep\n",
    "    - minutesAsleep\n",
    "    - minutesAwake\n",
    "    - minutesAfterWakeup\n",
    "    - timeInBed\n",
    "    - efficiency\t\n",
    "    - type\n",
    "    - infoCode\n",
    "    - logType - auto_detected or manual\n",
    "    - levels - stages of the sleep\n",
    "    - mainSleep - true / false\n",
    "    - patient_id\n",
    "    \n",
    "for more information Fitbit online documentation can be used\n",
    "\n",
    "```df_night_sleep_all_iterations.pkl```\n",
    "    - dateTime\n",
    "    - level\n",
    "    - seconds\n",
    "    - segment"
   ]
  },
  {
   "cell_type": "code",
   "execution_count": null,
   "id": "20f34458-c473-4878-8196-91ab3296c375",
   "metadata": {},
   "outputs": [],
   "source": [
    "pd.read_pickle(f'{path}/2_fitbit_sleep/sleep_segments_all_iterations.pkl').head(3)"
   ]
  },
  {
   "cell_type": "code",
   "execution_count": null,
   "id": "fe8f4e76-0b28-488a-9419-e4f9cd12a133",
   "metadata": {},
   "outputs": [],
   "source": [
    "pd.read_pickle(f'{path}/2_fitbit_sleep/long_sleep_all_iterations.pkl').head(3)"
   ]
  },
  {
   "cell_type": "code",
   "execution_count": null,
   "id": "a05eb235-f174-4bee-b08d-27ecad53e986",
   "metadata": {},
   "outputs": [],
   "source": [
    "pd.read_pickle(f'{path}/2_fitbit_sleep/phases_joined_i01.pkl')"
   ]
  },
  {
   "cell_type": "markdown",
   "id": "8cff61c5-6d39-4c18-8328-da29160d9882",
   "metadata": {
    "jp-MarkdownHeadingCollapsed": true
   },
   "source": [
    "# 3. 3_morning_evening_sleep_length_fitbit"
   ]
  },
  {
   "cell_type": "markdown",
   "id": "519136be-b061-4cf9-ac5f-5a3984a6497d",
   "metadata": {},
   "source": [
    "#### 1. Example analysis of 1 iteration\n",
    "#### 2. Read\n",
    "```Outputs_project_data_preprocessing/1_data/evening_morning.pkl```\n",
    "\n",
    "```Outputs_project_data_preprocessing/2_fitbit_sleep/long_sleep_all_iterations.pkl```\n",
    "\n",
    "#### 3. Merge both files so each row with evening and morning questionnaire will have according sleep data \n",
    "\n",
    "#### 4. Save results to \n",
    "```Outputs_project_data_preprocessing/3_questionnaires_fitbit/m_e_sleeplength.pkl```\n",
    "\n",
    "#### 5. Analysis of the data for few patients separately\n",
    "#### 6. Interpolation as a solution for missing data"
   ]
  },
  {
   "cell_type": "markdown",
   "id": "c3d44fa1-e7cd-4114-baf5-e76eac561ae5",
   "metadata": {
    "jp-MarkdownHeadingCollapsed": true
   },
   "source": [
    "# 4_process_sleep_segments_events_all_sleepSegments_phone"
   ]
  },
  {
   "cell_type": "markdown",
   "id": "d0ce865b-c5d1-4692-ae86-0b5dd31f5852",
   "metadata": {},
   "source": [
    "#### 1.Read all the iterations and sleep data for each user from the phone data\n",
    "\n",
    "#### 2.Merge them to one dataframe \n",
    "Columns:\n",
    "- _duration_ - duration of the sleep\n",
    "- _hasMissingData_ - whenether there is missing data about the sleep (difined by phone)\n",
    "- _endTimestamp_ - timestamp of sleep end\n",
    "- _startTimestamp_ - timestamp of sleep start\n",
    "- _discriminator_ - identificator for the data in the collected data from the phone\n",
    "- _patient_id_ - id of the person\n",
    "- _end_date_ - date from _endTimestamp_\n",
    "- _end_hour_ - hour from _endTimestamp_\n",
    "- _start_date_ - date from _startTimestamp_\n",
    "- _start_hour_ - hour from _startTimestamp_\n",
    "\n",
    "#### 3. Save\n",
    "```OUTPUT: all_sleepSegments.pkl```\n",
    "\n",
    "Contain sleep segments from the data collected from Android"
   ]
  },
  {
   "cell_type": "code",
   "execution_count": null,
   "id": "ff460ad1-ffc4-475c-b21b-11f427088189",
   "metadata": {},
   "outputs": [],
   "source": [
    "pd.read_pickle(f'{path}/4_sleep_from_the_phone/all_sleepSegments.pkl').head(3)"
   ]
  },
  {
   "cell_type": "markdown",
   "id": "935eedb3-bed3-4fbe-ac7c-63a1c6692725",
   "metadata": {
    "jp-MarkdownHeadingCollapsed": true
   },
   "source": [
    "# 5_process_location_deviceinfo"
   ]
  },
  {
   "cell_type": "markdown",
   "id": "b93113e2-7799-40fd-95d5-42ad6c5e43e0",
   "metadata": {},
   "source": [
    "#### 1. Read location data from the userData from the phone data\n",
    "\n",
    "#### 2. Write it to 1 dataframe for all the iterations and patients\n",
    "\n",
    "* Take into consideration when the localisation was enabled,\n",
    "* Group by date -> count how many locations there were in each day for each participant\n",
    "\n",
    "#### 3. Save\n",
    "Columns:\n",
    "- _date_ - date of the day before sleep\n",
    "- _count_ - count different locations number\n",
    "- _patient_id_ - id of the patient\n",
    "\n",
    "\n",
    "```5_locations/number_of_locations_for_each_day.pkl```\n",
    "\n",
    "count the locations for each day for each patient "
   ]
  },
  {
   "cell_type": "code",
   "execution_count": null,
   "id": "55150390-30f6-40ac-936a-5064bcd6918f",
   "metadata": {},
   "outputs": [],
   "source": [
    "pd.read_pickle(f'{path}/5_locations/number_of_locations_for_each_day.pkl').head(3)"
   ]
  },
  {
   "cell_type": "markdown",
   "id": "bc7d32e0-93eb-4811-9558-ba3fac051cfa",
   "metadata": {
    "jp-MarkdownHeadingCollapsed": true
   },
   "source": [
    "# 6_add_emotion"
   ]
  },
  {
   "cell_type": "markdown",
   "id": "77f563e4-d8c6-4975-83db-a9c319b32143",
   "metadata": {},
   "source": [
    "```INPUT: folder with all the questionnaires```\n",
    "\n",
    "#### 1. Read all the questionnaires to the one dataframe\n",
    "\n",
    "#### 2. Join 'IntenseEmotion', 'valence', 'arousal' into the list\n",
    "\n",
    "#### 3. Join lists of all the emotions for each day in one list. Drop the rest of the columns\n",
    "\n",
    "#### 4. Save\n",
    "\n",
    "Columns:\n",
    "- _patient_id_\n",
    "- _dateOfSleep_ - date of sleep (date when the morning questionnaire was filled in)\n",
    "- _features_ - list of lists with emotions. Each list contains **'IntenseEmotion', 'valence', 'arousal'**.\n",
    "```OUTPUT: 6_emotions_aggregates/features_emotion.pkl```"
   ]
  },
  {
   "cell_type": "markdown",
   "id": "43407eec-975a-4ae5-973d-d42bb7575e0c",
   "metadata": {
    "jp-MarkdownHeadingCollapsed": true
   },
   "source": [
    "# 6_1_use_data_independent_from_sleep_m_e_emo_pre_without_sleep_impact"
   ]
  },
  {
   "cell_type": "markdown",
   "id": "c233e2bc-e8e7-4f2b-a1c2-84a6073c3eba",
   "metadata": {},
   "source": [
    "#### 1. Load \n",
    "```demography.csv```\n",
    "\n",
    "```1_data/evening_morning.pkl```\n",
    "\n",
    "```6_emotions_aggregates/features_emotion.pkl```\n",
    "\n",
    "#### 2. Extend lists of the emotions to the separate columns, so there will be:\n",
    "f1_f1 - where first number indicates the number of the emotion and the second number idicates the answer type:\n",
    "* 'IntenseEmotion': f1,\n",
    "* 'valence': f2,\n",
    "* 'arousal': f3\n",
    "\n",
    "#### 3. Join:\n",
    "* emotion\n",
    "* 1_data/evening_morning.pkl\n",
    "* demography.csv\n",
    "\n",
    "Columns:\n",
    "\n",
    "Evening and morning questionnaires:\n",
    " * 'composure',\n",
    "*  'dateOfSleep',\n",
    "* \n",
    " 'filledTimestamp_evening',* \n",
    " 'filledTimestamp_morning * ,\n",
    " 'health* ',\n",
    " 'moo* d',\n",
    " 'overw\n",
    "\n",
    " Patient id:he* lm',\n",
    " 'patie\n",
    "\n",
    " Morning:nt* _id',\n",
    " '* rest',\n",
    " 'sleepQu* ality',\n",
    " '* stress',\n",
    " 'time_dif* ference',\n",
    " 'unpred\n",
    "\n",
    "Emotions:ictability',\n",
    " 'f1_f1',\n",
    " 'f1_f2',\n",
    " 'f1_f3',\n",
    " 'f2_f1',\n",
    " 'f\n",
    " 2_f2',\n",
    " 'f2_f3',\n",
    " 'f3_f1',\n",
    " 'f3_f2',\n",
    " 'f3_f3',\n",
    " 'f4_f1',\n",
    " 'f4_f2\n",
    " ',\n",
    " 'f4_f3',\n",
    " 'f5_f1',\n",
    " 'f5_f2',\n",
    " 'f5_f3',\n",
    " 'f6_f1',\n",
    " 'f6_f2',,\n",
    " \n",
    " 'f6_f3',\n",
    " 'f7_f1',\n",
    " 'f7_f2\n",
    " 8_f3',\n",
    " 'f9_f1',\n",
    " 'f9_f2',\n",
    " 'f9_f3','f7_f3',\n",
    " 'f8_f1',\n",
    " 'f8_f2',\n",
    " 'f"
   ]
  },
  {
   "cell_type": "code",
   "execution_count": null,
   "id": "b5519042-ea1d-48ce-b134-c84c47b36f25",
   "metadata": {},
   "outputs": [],
   "source": [
    "'''\n",
    "\n",
    "Demography:\n",
    "8_f3',\n",
    " 'f9_f1',\n",
    " 'f9_f2',\n",
    " 'f9_f3',\n",
    " 'Timestamp',\n",
    " 'ID',\n",
    " 'Jak określasz swoją płeć?',\n",
    " 'Jaki jest Twój wiek (w latach, liczbą)?',\n",
    " 'Jaka jest Twoja narodowość?',\n",
    " 'Czy język polski jest Twoim pierwszym lub ojczystym językiem?',\n",
    " 'Czy masz dzieci w wieku poniżej 18 lat?',\n",
    " 'Jeśli masz dzieci, podaj proszę ich liczbę.',\n",
    " 'Czy na co dzień sprawujesz opiekę nad dziećmi?',\n",
    " 'Twoja sytuacja ekonomiczna w porównaniu do przeciętnej osoby w Twoim kraju jest:',\n",
    " 'Jaki jest Twój status zatrudnienia?',\n",
    " 'W jakim sektorze jesteś zatrudniony/a?',\n",
    " 'Jaki jest Twój status związku?',\n",
    " 'Ile osób łącznie z Tobą mieszka w gospodarstwie domowym?',\n",
    " 'Jakie masz wykształcenie?',\n",
    " 'Czy obecnie studiujesz?',\n",
    " 'Czy jesteś osobą religijną?',\n",
    " 'Z jakimi poglądami politycznymi się utożsamiasz na osi ekonomicznej?',\n",
    " 'Z jakimi poglądami politycznymi się utożsamiasz na osi światopoglądowej?',\n",
    " 'wiek',\n",
    " 'waga',\n",
    " 'wzrost',\n",
    " 'rozmiar polar',\n",
    " 'płeć',\n",
    " 'telefon',\n",
    " 'skąd wiesz o badaniu',\n",
    " 'ID_other'skąd\n",
    " \n",
    " '''mo_pre_without_sleep_impact.pkl"
   ]
  },
  {
   "cell_type": "markdown",
   "id": "b341f6be-6188-4bf0-badb-9a39a1dc21ea",
   "metadata": {},
   "source": [
    "```OUTPUT: 6_emotions_aggregates/m_e_emo_pre_without_sleep_impact.pkl```"
   ]
  },
  {
   "cell_type": "code",
   "execution_count": null,
   "id": "948ebfdd-ca17-4da1-8dc7-d67d2413b80d",
   "metadata": {},
   "outputs": [],
   "source": [
    "pd.read_pickle(f\"{path}/6_emotions_aggregates/m_e_emo_pre_without_sleep_impact.pkl\").head(3)"
   ]
  },
  {
   "cell_type": "markdown",
   "id": "0288c3cd-38c6-4b73-bf8e-ce2d7a63110f",
   "metadata": {
    "jp-MarkdownHeadingCollapsed": true
   },
   "source": [
    "# 6_2_data_preparation_pre_questionaries_evening_morning"
   ]
  },
  {
   "cell_type": "markdown",
   "id": "0d6063fe-402b-48fa-ae6d-ed8509abbc37",
   "metadata": {},
   "source": [
    "input:\n",
    "\n",
    "```\"3_questionnaires_fitbit/m_e_sleeplength.pkl\"```\n",
    "\n",
    "```demography.csv'```\n",
    "\n",
    "```folder: ankiety```\n",
    "\n",
    "#### 1. Drop from ```m_e_sleeplength.pkl```:\n",
    "\n",
    "'logId',\n",
    "'startTime', 'endTime',\n",
    "'type', 'infoCode',\n",
    "'minutesAwake', 'timeInBed',\n",
    "'logType', 'levels', 'mainSleep','filledTimestamp_morning', \n",
    "'filledTimestamp_evening', 'morning_date', 'time_difference',\n",
    "'id', 'minutesToFallAsleep', 'minutesAfterWakeup', 'duration', 'efficiency'"
   ]
  },
  {
   "cell_type": "markdown",
   "id": "1f36bc8d-c321-4676-9779-2a7c4fbb31cb",
   "metadata": {},
   "source": [
    "#### 2. Drop ```from demography.csv```:                                               "
   ]
  },
  {
   "cell_type": "code",
   "execution_count": null,
   "id": "6447b8d4-7970-4a37-a99c-e71537a45836",
   "metadata": {
    "jp-MarkdownHeadingCollapsed": true
   },
   "outputs": [],
   "source": [
    "'''\n",
    "skąd wiesz o badaniu - informacja dla nas\n",
    "ID - nic nie wnoszą liczby po kolei\n",
    "'Jaka jest Twoja narodowość?' , 'Czy język polski jest Twoim pierwszym lub ojczystym językiem?' - informacja dla zespołu badawczego\n",
    "'wiek' - już jest takie pytanie, poza tym zawiera NaN\n",
    "'rozmiar polar' - dla zespołu\n",
    "'Jak określasz swoją płeć?'- już jest pytanie\n",
    "'telefon' - dla zespołu- dla\n",
    "'''"
   ]
  },
  {
   "cell_type": "markdown",
   "id": "3d68678b-bae0-4d28-b9ed-2515659b999b",
   "metadata": {
    "jp-MarkdownHeadingCollapsed": true
   },
   "source": [
    "#### 3. Merge both dataframes\n",
    "\n",
    "#### 4. Drop wzrost and waga\n",
    "\n",
    "#### Output:\n",
    "\n",
    "```6_subset/pre_questionaries_evening_morning.csv```\n",
    "\n",
    "#### 5. Load emotion questionnaires from ankiety folder\n",
    "\n",
    "#### 6. Merge with ```6_subset/pre_questionaries_evening_morning.csv```\n",
    "\n",
    "\n",
    "\n",
    "#### Output: \n",
    "\n",
    "```6_subset/emotion_evening_morning.csv```"
   ]
  },
  {
   "cell_type": "markdown",
   "id": "f181d8e5-7e46-4869-beef-68abbfdbb46c",
   "metadata": {},
   "source": [
    "# 7_m_e_d_pre"
   ]
  },
  {
   "cell_type": "markdown",
   "id": "7167fa3b-9a61-431b-b6f5-9229b4b83387",
   "metadata": {},
   "source": [
    "Input:\n",
    "\n",
    "```6_subset/pre_questionaries_evening_morning.csv```\n",
    "\n",
    "```6_subset/emotion_evening_morning.csv```\n",
    "\n",
    "```6_emotions_aggregates/features_emotion.pkl```\n",
    "\n",
    "#### 1. Merge features, so the data about emotion, morning, evening and pre questionnaires would be joined + data from the fitbit about the sleep\n",
    "\n",
    "#### 2. Encode non numeric data to numeric\n",
    "\n",
    "#### 3. Fill NaN with mean values\n",
    "\n",
    "#### 4. Output:\n",
    "\n",
    "```7_fitbit/m_e_d_pre.pkl```"
   ]
  },
  {
   "cell_type": "markdown",
   "id": "9cb01fee-3659-4fb4-b14c-86d08239dda7",
   "metadata": {},
   "source": [
    "# 6_3_m_e_emo_pre_loc_sleepSegments"
   ]
  },
  {
   "cell_type": "markdown",
   "id": "4d717c58-cc30-4088-80e4-1c384286f949",
   "metadata": {},
   "source": [
    "Input:\n",
    "\n",
    "```'7_without_sleep_impact/m_e_emo_pre_without_sleep_impact.pkl'```\n",
    "```4_sleep_from_the_phone/all_sleepSegments.pkl```\n",
    "```'5_locations/number_of_locations_for_each_day.pkl'```\n",
    "```6_emotions_aggregates/features_emotion.pkl'```\n",
    "\n",
    "#### 1. Merge \n",
    "```m_e_emo_pre_without_sleep_impact``` and ```number_of_locations_for_each_day```\n",
    "\n",
    "#### 2. Add sleepSegments\n",
    "\n",
    "#### 3. Save\n",
    "\n",
    "Data from:\n",
    "* Evening questionnaires\n",
    "* Morning questionnaires\n",
    "* Emotion questionnaires\n",
    "* Demography\n",
    "* Location\n",
    "* Sleep start, end timestamp and duration\n",
    "\n",
    "```OUTPUT: 6_emotions_aggregates/m_e_emo_pre_loc_sleepSegments.pkl```"
   ]
  },
  {
   "cell_type": "code",
   "execution_count": null,
   "id": "320226a8-fe58-4bf2-bcbd-a4b14ddf819f",
   "metadata": {},
   "outputs": [],
   "source": [
    "list(pd.read_pickle(f'{path}/6_emotions_aggregates/m_e_emo_pre_loc_sleepSegments.pkl').columns)"
   ]
  },
  {
   "cell_type": "markdown",
   "id": "9696f73d-eaa4-4c67-8645-1f1e35049b08",
   "metadata": {
    "jp-MarkdownHeadingCollapsed": true
   },
   "source": [
    "# 6_4_process_steps.ipynb"
   ]
  },
  {
   "cell_type": "markdown",
   "id": "f1413513-9171-435e-9d6a-df28fb5c23c2",
   "metadata": {},
   "source": [
    "#### 1. Read: \n",
    "\n",
    "- aggregated_data: data was generated using script data_preprocessing/samsung_polar_data_preprocessing.ipynb\n",
    "\n",
    "- 'm_e_emo_pre_loc_sleepSegments.pkl'\n",
    "\n",
    "#### 2. Extract steps from aggregated_data\n",
    "\n",
    "#### 3. Calculate the steps ammount for each day\n",
    "\n",
    "Sometimes in the begining of the day the steps count was not 0. The begining of each day was found and then substracted from the last count of steps that day\n",
    "\n",
    "#### 4. Steps count was joined with the dataset ```m_e_emo_pre_loc_sleepSegments```\n",
    "\n",
    "OUTPUT: \n",
    "Data from:\n",
    "* Evening questionnaires\n",
    "* Morning questionnaires\n",
    "* Emotion questionnaires\n",
    "* Demography\n",
    "* Location\n",
    "* Sleep start, end timestamp and duration\n",
    "     + STEPS\n",
    "\n",
    "```6_emotions_aggregates/not_zero_steps_start.csv```\n",
    "```6_emotions_aggregates/m_e_emo_pre_loc_sleepSegments_steps.pkl```"
   ]
  },
  {
   "cell_type": "code",
   "execution_count": null,
   "id": "a3fb6a5f-0f53-471a-9103-ae6e5c916cd6",
   "metadata": {},
   "outputs": [],
   "source": [
    "list(pd.read_pickle(f'{path}/6_emotions_aggregates/m_e_emo_pre_loc_sleepSegments_steps.pkl').columns)"
   ]
  },
  {
   "cell_type": "markdown",
   "id": "9a25ca7c-8f7d-4303-a513-1718d3e4f5ce",
   "metadata": {
    "jp-MarkdownHeadingCollapsed": true
   },
   "source": [
    "# 6_5_deal_with_nan"
   ]
  },
  {
   "cell_type": "markdown",
   "id": "472d085e-b134-494d-b32a-705a49456bed",
   "metadata": {},
   "source": [
    "input:\n",
    "```'6_emotions_aggregates/m_e_emo_pre_loc_sleepSegments_steps.pkl'```\n",
    "\n",
    "#### 1. Manage NaN values\n",
    "* **_Czy masz dzieci w wieku poniżej 18 lat?_** - if **NO**, then **_Jeśli masz dzieci, podaj proszę ich liczbę._** = **0**\n",
    "\n",
    "* **_Ile osób łącznie z Tobą mieszka w gospodarstwie domowym?_** - was filled based on the other question answers, such us if someone is in relationships/married/have kids\n",
    "    + in addition, before the answers were:\n",
    "      ['1', '5', '2', '4', '3', '0', '8', '6', 2, '4 osoby']\n",
    "\n",
    "      -> answer _4 osoby_ was changed to _4_\n",
    "\n",
    "* **_'W jakim sektorze jesteś zatrudniony/a?'_** - was filled based on the other question answers, such us whenever someone is studying and whenever the person is employed\n",
    "\n",
    "#### 2. Output:\n",
    "\n",
    "Same features as in ```m_e_emo_pre_loc_sleepSegments_steps.pkl``` but the values do not contain NaN\n",
    "\n",
    "```'6_emotions_aggregates/m_e_emo_pre_loc_sleepSegments_steps_replaced_nan.pkl'```"
   ]
  },
  {
   "cell_type": "code",
   "execution_count": null,
   "id": "8c9a2c10-5329-4c83-bc00-0bd9f65c63da",
   "metadata": {},
   "outputs": [],
   "source": [
    "pd.read_pickle(f'{path}/6_emotions_aggregates/m_e_emo_pre_loc_sleepSegments_steps_replaced_nan.pkl').head(3)"
   ]
  },
  {
   "cell_type": "markdown",
   "id": "e0115f14-5363-4290-b1ab-968894b72f04",
   "metadata": {
    "jp-MarkdownHeadingCollapsed": true
   },
   "source": [
    "# 6_6_add_personality"
   ]
  },
  {
   "cell_type": "markdown",
   "id": "9455539f-ed28-40a0-a49d-b4249a9539d4",
   "metadata": {},
   "source": [
    "input: \n",
    "```'m_e_emo_pre_loc_sleepSegments_steps_replaced_nan.pkl'```\n",
    "\n",
    "```ipip_bfm_20.csv```\n",
    "\n",
    "#### 1. Some questions' answers were reversed, which means if the question was \"not direct\" the scale for the valuables was reversed.\n",
    "Such columns:\n",
    "\n",
    "- '2. Niezbyt obchodzą mnie inni ludzie.',\n",
    "- '3. Zostawiam moje rzeczy gdzie popadnie.',\n",
    "- '6. Trzymam się z boku.',\n",
    "- '9. Często martwię się czymś.',\n",
    "- '10. Mam trudności ze zrozumieniem abstrakcyjnych pojęć.',\n",
    "- '12. Nie interesują mnie problemy innych ludzi.', \n",
    "- '13. Często zapominam odkładać rzeczy na miejsce.',\n",
    "- '16. Wśród nieznajomych jestem małomówny/a.',\n",
    "- '19. Często miewam huśtawki nastrojów.',\n",
    "- '20. Nie mam zbyt bogatej wyobraźni.'  \n",
    "\n",
    "        \n",
    " \n",
    "\n",
    "More details:\n",
    "\n",
    "https://www.ipip.uksw.edu.pl/test.skale.php?id=31\n",
    "\n",
    "\n",
    "#### 2. Sum the personality for each person (all questions' answers are summed. The higher the value the more extroverted person is )\n",
    "\n",
    "#### 3. Merge personality with output from 8_3_deal_with_nan (6_emotions_aggregates/m_e_emo_pre_loc_sleepSegments_steps_replaced_nan.pkl)\n",
    "\n",
    "\n",
    "\n",
    "#### 4. output: \n",
    "\n",
    "Columns:\n",
    "\n",
    "same as m_e_emo_pre_loc_sleepSegments_steps.pkl  **+ personality_sum (value of the personality)**\n",
    "\n",
    "```m_e_emo_pre_loc_sleepSegments_steps_replaced_nan_personality.pkl'```"
   ]
  },
  {
   "cell_type": "code",
   "execution_count": null,
   "id": "3311ee45-67a9-40e9-a93c-fc6df6bf2876",
   "metadata": {},
   "outputs": [],
   "source": [
    "pd.read_pickle(f'{path}/6_emotions_aggregates/m_e_emo_pre_loc_sleepSegments_steps_replaced_nan_personality.pkl').head(3)"
   ]
  },
  {
   "cell_type": "markdown",
   "id": "9adeeb25-d139-48f2-9e22-e3375292ad11",
   "metadata": {
    "jp-MarkdownHeadingCollapsed": true
   },
   "source": [
    "# 8_join_fizio_final_dataframe"
   ]
  },
  {
   "cell_type": "markdown",
   "id": "e3ea89ae-4f35-43fb-b404-5a1f77938c00",
   "metadata": {},
   "source": [
    "Input: \n",
    "```all_iterations_features_60_sec_clean.pkl```\n",
    "\n",
    "```6_emotions_aggregates/m_e_emo_pre_loc_sleepSegments_steps_replaced_nan_personality.pkl```\n",
    "\n",
    "#### 1. Read physiology and dataset with features\n",
    "\n",
    "\n",
    "#### 2. Join signals with emotions\n",
    "'intenseEmotion',\n",
    "'valence',       \n",
    "'arousal',\n",
    "'samsung_BVP_RR_window_1_rmssd',\n",
    "'samsung_BVP_RR_window_1_mean',\n",
    "'samsung_BVP_RR_window_1_median',\n",
    "'samsung_BVP_HR_FROM_RR_window_1_mean',\n",
    "'samsung_BVP_HR_FROM_RR_window_1_median'\n",
    "\n",
    "#### 3. Fill the missing data with value max for the feature and add 10% to this value\n",
    "\n",
    "\n",
    "Adjusted default values for each column:\n",
    " {'intenseEmotion': 1.1, 'valence': 110.0, 'arousal': 110.0, 'samsung_BVP_RR_window_1_rmssd': 0.8306777094430648, 'samsung_BVP_RR_window_1_mean': 1.4367046272763426, 'samsung_BVP_RR_window_1_median': 1.5143328659455524, 'samsung_BVP_HR_FROM_RR_window_1_mean': 183.27160845808808, 'samsung_BVP_HR_FROM_RR_window_1_median': 181.26244255964664} "
   ]
  },
  {
   "cell_type": "markdown",
   "id": "b9151974-8bb2-4b89-855a-ca7bde60f32e",
   "metadata": {},
   "source": [
    "#### 4.  Output\n",
    "\n",
    "```8_final_dataset/m_e_emo_pre_loc_sleepSegments_steps_replaced_nan_personality_fizio.pkl```}"
   ]
  },
  {
   "cell_type": "markdown",
   "id": "09cbf67f-65f4-4693-a268-5aa11c11f24c",
   "metadata": {
    "jp-MarkdownHeadingCollapsed": true
   },
   "source": [
    "# 9_encoding_translate"
   ]
  },
  {
   "cell_type": "markdown",
   "id": "71c68c0a-6cd3-453d-b9e5-0a180972db79",
   "metadata": {},
   "source": [
    "Input: \n",
    "\n",
    "```9_final_dataset/m_e_emo_pre_loc_sleepSegments_steps_replaced_nan_personality_fizio.pkl'```\n",
    "\n",
    "#### 1. Dealing with NaN and with incorrect data\n",
    "\n",
    "* Patient 'NlwnRZ1tSTXnPa0tBhbgmeq51TR2' was removed\n",
    "\n",
    "* Removed:\n",
    " 'wiek', 'waga', 'wzrost', 'rozmiar polar', 'płeć', 'telefon', 'skąd wiesz o badaniu'\n",
    "\n",
    "* W jakim sektorze jesteś zatrudniony/a? - one-hot-encoding\n",
    "\n",
    "* Jak określasz swoją płeć? - one hot encoding\n",
    "\n",
    "* Question: Jaki jest Twój status związku?\n",
    "\n",
    "        Replace: 'rozwiedziona singielka </3' -->  'Rozwiedziony/a lub w separacji; Singiel/ka (samotny/a)'\n",
    "\n",
    "* Questions: 'Czy masz dzieci w wieku poniżej 18 lat?',  'Czy na co dzień sprawujesz opiekę nad dziećmi?',\n",
    " 'Czy obecnie studiujesz?'\n",
    "        Replace: 'Nie': 0, 'Tak': 1\n",
    "\n",
    "* Question: Jaki jest Twój status zatrudnienia?\n",
    "    + All the answers were grouped in 3 groups:\n",
    "      - Niepełny etat\n",
    "      - Pełny etat\n",
    "      - Jestem bezrobotny/a\n",
    "\n",
    "\n",
    "* Twoja sytuacja ekonomiczna w porównaniu do przeciętnej osoby w Twoim kraju jest:\n",
    "    - 'Gorsza': 0, \n",
    "    - 'Raczej gorsza': 1, \n",
    "    - 'Podobna / taka sama':2,\n",
    "    - 'Raczej lepsza': 3,\n",
    "    - 'Lepsza': 4,\n",
    "    - 'Zdecydowanie lepsza': 5\n",
    " \n",
    "* Jakie masz wykształcenie?\n",
    "    - 'Średnie': 0, \n",
    "    - 'Wyższe (w trakcie)':1,\n",
    "    - 'Podstawowe': 2,\n",
    "    - 'Wyższe': 3,\n",
    " \n",
    "\n",
    "* 'Ile osób łącznie z Tobą mieszka w gospodarstwie domowym?', 'Jeśli masz dzieci, podaj proszę ich liczbę.' - numbers were in string format, changed to int\n",
    "\n",
    "#### 2. Translate questions to English\n",
    "\n",
    "#### 3. Final dataset content:"
   ]
  },
  {
   "cell_type": "code",
   "execution_count": null,
   "id": "a5687a68-7493-46dd-8430-bae8130ee936",
   "metadata": {},
   "outputs": [],
   "source": [
    "'''\n",
    "\n",
    "COLUMNS\n",
    "\n",
    "\n",
    "['Do you have children under 18 years old?',\n",
    " 'Do you take care of children on a daily basis?',\n",
    " 'Are you currently studying?',\n",
    " 'How many people, including yourself, live in your household?',\n",
    " 'What is your age (in years, as a number)?',\n",
    " 'What is your education level?',\n",
    " 'If you have children, please state how many.',\n",
    " 'count_location',\n",
    " 'health',\n",
    " 'mood',\n",
    " 'overwhelm',\n",
    " 'personality_sum',\n",
    " 'sleepQuality',\n",
    " 'start_hour',\n",
    " 'steps',\n",
    " 'unpredictability',\n",
    " 'emotion1_intenseEmotion',\n",
    " 'emotion1_valence',\n",
    " 'emotion1_arousal',\n",
    " 'emotion1_samsung_BVP_RR_window_1_rmssd',\n",
    " 'emotion1_samsung_BVP_RR_window_1_mean',\n",
    " 'emotion1_samsung_BVP_RR_window_1_median',\n",
    " 'emotion1_samsung_BVP_HR_FROM_RR_window_1_mean',\n",
    " 'emotion1_samsung_BVP_HR_FROM_RR_window_1_median',\n",
    " 'emotion2_intenseEmotion',\n",
    " 'emotion2_valence',\n",
    " 'emotion2_arousal',\n",
    " 'emotion2_samsung_BVP_RR_window_1_rmssd',\n",
    " 'emotion2_samsung_BVP_RR_window_1_mean',\n",
    " 'emotion2_samsung_BVP_RR_window_1_median',\n",
    " 'emotion2_samsung_BVP_HR_FROM_RR_window_1_mean',\n",
    " 'emotion2_samsung_BVP_HR_FROM_RR_window_1_median',\n",
    " 'emotion3_intenseEmotion',\n",
    " 'emotion3_valence',\n",
    " 'emotion3_arousal',\n",
    " 'emotion3_samsung_BVP_RR_window_1_rmssd',\n",
    " 'emotion3_samsung_BVP_RR_window_1_mean',\n",
    " 'emotion3_samsung_BVP_RR_window_1_median',\n",
    " 'emotion3_samsung_BVP_HR_FROM_RR_window_1_mean',\n",
    " 'emotion3_samsung_BVP_HR_FROM_RR_window_1_median',\n",
    " 'emotion4_intenseEmotion',\n",
    " 'emotion4_valence',\n",
    " 'emotion4_arousal',\n",
    " 'emotion4_samsung_BVP_RR_window_1_rmssd',\n",
    " 'emotion4_samsung_BVP_RR_window_1_mean',\n",
    " 'emotion4_samsung_BVP_RR_window_1_median',\n",
    " 'emotion4_samsung_BVP_HR_FROM_RR_window_1_mean',\n",
    " 'emotion4_samsung_BVP_HR_FROM_RR_window_1_median',\n",
    " 'emotion5_intenseEmotion',\n",
    " 'emotion5_valence',\n",
    " 'emotion5_arousal',\n",
    " 'emotion5_samsung_BVP_RR_window_1_rmssd',\n",
    " 'emotion5_samsung_BVP_RR_window_1_mean',\n",
    " 'emotion5_samsung_BVP_RR_window_1_median',\n",
    " 'emotion5_samsung_BVP_HR_FROM_RR_window_1_mean',\n",
    " 'emotion5_samsung_BVP_HR_FROM_RR_window_1_median',\n",
    " 'emotion6_intenseEmotion',\n",
    " 'emotion6_valence',\n",
    " 'emotion6_arousal',\n",
    " 'emotion6_samsung_BVP_RR_window_1_rmssd',\n",
    " 'emotion6_samsung_BVP_RR_window_1_mean',\n",
    " 'emotion6_samsung_BVP_RR_window_1_median',\n",
    " 'emotion6_samsung_BVP_HR_FROM_RR_window_1_mean',\n",
    " 'emotion6_samsung_BVP_HR_FROM_RR_window_1_median',\n",
    " 'emotion7_intenseEmotion',\n",
    " 'emotion7_valence',\n",
    " 'emotion7_arousal',\n",
    " 'emotion7_samsung_BVP_RR_window_1_rmssd',\n",
    " 'emotion7_samsung_BVP_RR_window_1_mean',\n",
    " 'emotion7_samsung_BVP_RR_window_1_median',\n",
    " 'emotion7_samsung_BVP_HR_FROM_RR_window_1_mean',\n",
    " 'emotion7_samsung_BVP_HR_FROM_RR_window_1_median',\n",
    " 'emotion8_intenseEmotion',\n",
    " 'emotion8_valence',\n",
    " 'emotion8_arousal',\n",
    " 'emotion8_samsung_BVP_RR_window_1_rmssd',\n",
    " 'emotion8_samsung_BVP_RR_window_1_mean',\n",
    " 'emotion8_samsung_BVP_RR_window_1_median',\n",
    " 'emotion8_samsung_BVP_HR_FROM_RR_window_1_mean',\n",
    " 'emotion8_samsung_BVP_HR_FROM_RR_window_1_median',\n",
    " 'emotion9_intenseEmotion',\n",
    " 'emotion9_valence',\n",
    " 'emotion9_arousal',\n",
    " 'emotion9_samsung_BVP_RR_window_1_rmssd',\n",
    " 'emotion9_samsung_BVP_RR_window_1_mean',\n",
    " 'emotion9_samsung_BVP_RR_window_1_median',\n",
    " 'emotion9_samsung_BVP_HR_FROM_RR_window_1_mean',\n",
    " 'emotion9_samsung_BVP_HR_FROM_RR_window_1_median',\n",
    " 'In which sector are you employed?_Public administration and national defense; compulsory social security',\n",
    " 'In which sector are you employed?_Public administration and national defense; compulsory social security, Activities related to culture, entertainment, and recreation',\n",
    " 'In which sector are you employed?_Administration and support services',\n",
    " 'In which sector are you employed?_IT industry',\n",
    " 'In which sector are you employed?_Construction',\n",
    " 'In which sector are you employed?_Water supply, waste management',\n",
    " 'In which sector are you employed?_Financial and insurance activities',\n",
    " 'In which sector are you employed?_Professional, scientific, and technical activities',\n",
    " 'In which sector are you employed?_Professional, scientific, and technical activities, Administration and support services, Information and communication',\n",
    " 'In which sector are you employed?_Professional, scientific, and technical activities, Information and communication',\n",
    " 'In which sector are you employed?_Professional, scientific, and technical activities, Accommodation and food services',\n",
    " 'In which sector are you employed?_Activities related to culture, entertainment, and recreation',\n",
    " 'In which sector are you employed?_Education',\n",
    " 'In which sector are you employed?_Education, Public administration and national defense; compulsory social security',\n",
    " 'In which sector are you employed?_Education, Professional, scientific, and technical activities',\n",
    " 'In which sector are you employed?_Education, Health care and social assistance',\n",
    " 'In which sector are you employed?_Education, Other service activities',\n",
    " 'In which sector are you employed?_HR',\n",
    " 'In which sector are you employed?_Trade; repair of motor vehicles',\n",
    " 'In which sector are you employed?_Trade; repair of motor vehicles, Public administration and national defense; compulsory social security',\n",
    " 'In which sector are you employed?_Trade; repair of motor vehicles, IT',\n",
    " 'In which sector are you employed?_Trade; repair of motor vehicles, Health care and social assistance',\n",
    " 'In which sector are you employed?_Trade; repair of motor vehicles, Other service activities',\n",
    " 'In which sector are you employed?_Information and communication',\n",
    " 'In which sector are you employed?_Information and communication, Financial and insurance activities',\n",
    " 'In which sector are you employed?_I am not working',\n",
    " 'In which sector are you employed?_Health care and social assistance',\n",
    " 'In which sector are you employed?_Health care and social assistance, Financial and insurance activities',\n",
    " 'In which sector are you employed?_Health care and social assistance, Activities related to culture, entertainment, and recreation',\n",
    " 'In which sector are you employed?_Other service activities',\n",
    " 'In which sector are you employed?_Manufacturing',\n",
    " 'In which sector are you employed?_Manufacturing, Accommodation and food services',\n",
    " 'In which sector are you employed?_Transport and storage',\n",
    " 'In which sector are you employed?_Accommodation and food services',\n",
    " 'In which sector are you employed?_Forum moderator',\n",
    " 'In which sector are you employed?_I am not',\n",
    " 'In which sector are you employed?_Handling services',\n",
    " 'In which sector are you employed?_Industry',\n",
    " 'In which sector are you employed?_University',\n",
    " 'In which sector are you employed?_Assistant services',\n",
    " 'In which sector are you employed?_Telephone debt collection',\n",
    " 'How do you identify your gender?_Female',\n",
    " 'How do you identify your gender?_Male',\n",
    " 'How do you identify your gender?_Queer',\n",
    " 'Divorced or separated',\n",
    " 'Single',\n",
    " 'In a relationship, but we do not live together',\n",
    " 'In a relationship, living together',\n",
    " 'What is your employment status?_I am unemployed',\n",
    " 'What is your employment status?_Part-time',\n",
    " 'What is your employment status?_Full-time',\n",
    " 'num_patient_id',\n",
    " 'num_month_year']\n",
    "\n",
    " '''"
   ]
  },
  {
   "cell_type": "markdown",
   "id": "9647ec78-e1ba-44de-9a40-64c445f96e96",
   "metadata": {},
   "source": [
    "#### 4. OUTPUT:\n",
    "\n",
    "```9_final_dataset/project_dataset_final.csv```"
   ]
  },
  {
   "cell_type": "code",
   "execution_count": null,
   "id": "a09f1524-f8c5-4f6f-8457-c0e741a4acce",
   "metadata": {},
   "outputs": [],
   "source": []
  }
 ],
 "metadata": {
  "kernelspec": {
   "display_name": "Python 3 (ipykernel)",
   "language": "python",
   "name": "python3"
  },
  "language_info": {
   "codemirror_mode": {
    "name": "ipython",
    "version": 3
   },
   "file_extension": ".py",
   "mimetype": "text/x-python",
   "name": "python",
   "nbconvert_exporter": "python",
   "pygments_lexer": "ipython3",
   "version": "3.11.7"
  }
 },
 "nbformat": 4,
 "nbformat_minor": 5
}
